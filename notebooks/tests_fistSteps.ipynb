{
 "cells": [
  {
   "cell_type": "code",
   "execution_count": 1,
   "id": "bb009459-9e81-406b-a387-1ddeb8bd6260",
   "metadata": {},
   "outputs": [],
   "source": [
    "import requests\n",
    "import json\n",
    "import os\n",
    "os.environ[\"REQUESTS_CA_BUNDLE\"] = \"/etc/ssl/certs/ca-certificates.crt\"\n",
    "\n",
    "import helpers\n",
    "from queries import QueryCollection\n",
    "queries = QueryCollection()"
   ]
  },
  {
   "cell_type": "code",
   "execution_count": 2,
   "id": "d46540a0-ef82-4669-8e41-e8e7385ee72c",
   "metadata": {},
   "outputs": [],
   "source": [
    "with open('../secrets/endpoints.json') as f:\n",
    "    partners = json.load(f, object_hook=lambda d: helpers.RecursiveNamespace(**d))"
   ]
  },
  {
   "cell_type": "code",
   "execution_count": 3,
   "id": "76b1e7db-92c7-468b-bf61-21dc08021a1e",
   "metadata": {},
   "outputs": [
    {
     "name": "stdout",
     "output_type": "stream",
     "text": [
      "pmdco2_tto_example_diagonal\n",
      "Sending query to \"http://ontodocker.mpi-susmat.pmd.internal/api/v1/jena/pmdco2_tto_example_diagonal/sparql\". Result:\n",
      "                                                 URI materialDesignation\n",
      "0  https://w3id.org/pmd/ao/tte/pmdao-tto-tt-S355-...                S355\n",
      "1  https://w3id.org/pmd/ao/tte/pmdao-tto-tt-S355-...                S355\n",
      "\n"
     ]
    }
   ],
   "source": [
    "name = partners.mpisusmat.ontodocker.name\n",
    "address = partners.mpisusmat.ontodocker.address\n",
    "token = partners.mpisusmat.ontodocker.token\n",
    "datasets = [\"pmdco2_tto_example_parallel\", \"pmdco2_tto_example_perpendicular\", \"pmdco2_tto_example_diagonal\"]\n",
    "query = queries.material_designation()\n",
    "\n",
    "results = helpers.query_instance(name, address, token, datasets, query.query, query.columns, True)"
   ]
  },
  {
   "cell_type": "code",
   "execution_count": 4,
   "id": "5dbeb8c5-a880-4dab-86dd-f0c162803092",
   "metadata": {},
   "outputs": [
    {
     "data": {
      "text/plain": [
       "{'ontodocker_mpisusmat': {'pmdco2_tto_example_diagonal': {'endpoint': 'http://ontodocker.mpi-susmat.pmd.internal/api/v1/jena/pmdco2_tto_example_diagonal/sparql',\n",
       "   'query': '\\n        PREFIX pmd: <https://w3id.org/pmd/co/>\\n        SELECT distinct ?p ?matDesVal\\n        WHERE {\\n            ?s a pmd:TestPiece .\\n            ?p pmd:input ?s .\\n            ?p pmd:characteristic ?matDes .\\n            ?matDes a pmd:materialDesignation .\\n            ?matDes pmd:value ?matDesVal .\\n        }\\n        ORDER BY ?p\\n        ',\n",
       "   'result':                                                  URI materialDesignation\n",
       "   0  https://w3id.org/pmd/ao/tte/pmdao-tto-tt-S355-...                S355\n",
       "   1  https://w3id.org/pmd/ao/tte/pmdao-tto-tt-S355-...                S355}}}"
      ]
     },
     "execution_count": 4,
     "metadata": {},
     "output_type": "execute_result"
    }
   ],
   "source": [
    "results"
   ]
  },
  {
   "cell_type": "code",
   "execution_count": 5,
   "id": "dc672293-9d42-4f4d-af5d-0f89af28a6f3",
   "metadata": {},
   "outputs": [],
   "source": [
    "results_rns = helpers.RecursiveNamespace(**results)"
   ]
  },
  {
   "cell_type": "code",
   "execution_count": 7,
   "id": "e08d08b4-05cb-4c91-a0c9-9e6ac3bdc72a",
   "metadata": {},
   "outputs": [
    {
     "data": {
      "text/plain": [
       "'http://ontodocker.mpi-susmat.pmd.internal/api/v1/jena/pmdco2_tto_example_diagonal/sparql'"
      ]
     },
     "execution_count": 7,
     "metadata": {},
     "output_type": "execute_result"
    }
   ],
   "source": [
    "results_rns.ontodocker_mpisusmat.pmdco2_tto_example_diagonal.endpoint"
   ]
  },
  {
   "cell_type": "code",
   "execution_count": null,
   "id": "c77508eb-2262-4637-8884-a52e3c5fbefa",
   "metadata": {},
   "outputs": [],
   "source": []
  }
 ],
 "metadata": {
  "kernelspec": {
   "display_name": "Python 3 (ipykernel)",
   "language": "python",
   "name": "python3"
  },
  "language_info": {
   "codemirror_mode": {
    "name": "ipython",
    "version": 3
   },
   "file_extension": ".py",
   "mimetype": "text/x-python",
   "name": "python",
   "nbconvert_exporter": "python",
   "pygments_lexer": "ipython3",
   "version": "3.11.10"
  }
 },
 "nbformat": 4,
 "nbformat_minor": 5
}
