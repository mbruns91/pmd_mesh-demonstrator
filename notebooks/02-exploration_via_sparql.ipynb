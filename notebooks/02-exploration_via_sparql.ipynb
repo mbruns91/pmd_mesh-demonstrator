{
 "cells": [
  {
   "cell_type": "markdown",
   "id": "7bf139f3-cb64-4c87-b914-055628b07ad3",
   "metadata": {},
   "source": [
    "# Exploring the distributed information via SPARQL\n",
    "Next, we answer a few typical quations a user would ask when working with the datasets. A user has to know the addresses of the SPARQL endpoints of interest.  \n",
    "We basically have 2 options:\n",
    "1. Define the SPARQL-query, then loop over all SPARQL-Endpoints and digest the response\n",
    "2. Collect the graphs from the Endpoints, put the together into one graph-object and then operate on this object.\n",
    "   1. collect via SPARQL, store, put together\n",
    "   2. directly get the turtlefile via the ontodocker API, store locally, then load from the files and put together into one object. "
   ]
  },
  {
   "cell_type": "markdown",
   "id": "0c6bf437-8f61-4af6-a81e-a19a5b961718",
   "metadata": {},
   "source": [
    "Set up things to use the mesh:"
   ]
  },
  {
   "cell_type": "code",
   "execution_count": 1,
   "id": "da7bd96a-f55b-4115-b6a7-0bc132641814",
   "metadata": {},
   "outputs": [],
   "source": [
    "import os\n",
    "os.environ[\"REQUESTS_CA_BUNDLE\"] = \"/etc/ssl/certs/ca-certificates.crt\""
   ]
  },
  {
   "cell_type": "markdown",
   "id": "c135a555-bf4b-43cb-a4db-912c2dd3f9fa",
   "metadata": {},
   "source": [
    "Also, as a preparation we load the (mesh-) participant information:"
   ]
  },
  {
   "cell_type": "code",
   "execution_count": 2,
   "id": "7b4754a5-088c-42d9-b939-911606b13458",
   "metadata": {},
   "outputs": [],
   "source": [
    "import json\n",
    "import helpers\n",
    "with open('../secrets/endpoints.json') as f:\n",
    "    partners = json.load(f, object_hook=lambda d: helpers.RecursiveNamespace(**d))"
   ]
  },
  {
   "cell_type": "markdown",
   "id": "f6c90ada-7b80-4229-a1b9-031d0629e349",
   "metadata": {},
   "source": [
    "## SPARQL queries\n",
    "To make the following notebook easierly readable, we define some queries in `queries.py`."
   ]
  },
  {
   "cell_type": "code",
   "execution_count": 3,
   "id": "377d82f6-d6ff-4b82-ba67-2e90507de43a",
   "metadata": {},
   "outputs": [],
   "source": [
    "from queries import QueryCollection\n",
    "queries = QueryCollection()"
   ]
  },
  {
   "attachments": {},
   "cell_type": "markdown",
   "id": "be62f22c-9fe1-4282-afff-bde89af6be21",
   "metadata": {},
   "source": [
    "There you can find queries which prompt for various information:\n",
    "- `queries.query_materialDesignation()` For which material is data available?  \n",
    "This reads out the `pmdco:value` stored under `pmdco:materialDesignation`\n",
    "- `queries.query_processType()`: What process type was performed on S355?\n",
    "- `queries.query_orientation()`: In what orientation relative to the rolling direction was each specimen cut?\n",
    "- `queries.query_deviceAndStandard()`: Which device and standard was used for the measurements?\n",
    "- `queries.query_specimen()`: What is the specimen ID\n",
    "- `queries.query_csvurl()`: Under which URL can we find the csv-file?\n",
    "\n",
    "The queries are defined as class methods. They return a dataclass instance, allowing to easily add new methods(queries) and enabling a dot notation and tab completion. They return the query (as a string) and column headers (as a list of strings), corresponding to the returned values of the resp. query."
   ]
  },
  {
   "cell_type": "markdown",
   "id": "35a99f93-6354-4a79-80e8-8a152fce5070",
   "metadata": {},
   "source": [
    "## Explore the datasets: directly on the instances\n",
    "Here, we demonstrate how a simple data exploration can be done by sending queries directly to the intances' SPARQL endpoints and looping over instances. We perform queries using the `SPARQLWrapper` module."
   ]
  },
  {
   "cell_type": "markdown",
   "id": "67b1da2c-2151-44be-9470-8803f6fed783",
   "metadata": {},
   "source": [
    "First, we need to have a look at the accessible endpoints on the instances referenced in `partners`, to know whihc endpoint we have to query. We do this via http requests to the ontodocker API (sending `GET` to `<address>/api/v1/endpoints`): "
   ]
  },
  {
   "cell_type": "code",
   "execution_count": 4,
   "id": "ccc51b9d-3a90-4808-880b-679c4ea96825",
   "metadata": {},
   "outputs": [
    {
     "name": "stdout",
     "output_type": "stream",
     "text": [
      "[\"https://ontodocker.iwt.pmd.internal:443/api/jena/pmdco2_tto_example_parallel/sparql\"]\n",
      "<class 'str'>\n",
      "\n",
      "[\"http://ontodocker.iwm.pmd.internal:None/api/jena/pmdco2_tto_example_perpendicular/sparql\",\"http://ontodocker.iwm.pmd.internal:None/api/jena/test/sparql\"]\n",
      "<class 'str'>\n",
      "\n",
      "[\"http://ontodocker.mpi-susmat.pmd.internal:None/api/jena/pmdco2_tto_example_diagonal/sparql\"]\n",
      "<class 'str'>\n",
      "\n"
     ]
    }
   ],
   "source": [
    "import requests\n",
    "for key in partners.__dict__:\n",
    "    address = getattr(partners, key).ontodocker.address\n",
    "    token = getattr(partners, key).ontodocker.token\n",
    "    \n",
    "    headers = {\"Authorization\": f\"Bearer {token}\"}\n",
    "    result = requests.get(f'{address}/api/v1/endpoints', headers=headers).content.decode()\n",
    "    print(result+\"\\n\"+str(type(result))+\"\\n\")"
   ]
  },
  {
   "cell_type": "markdown",
   "id": "bc324ba0-721e-4d3d-9523-40c6b227074e",
   "metadata": {},
   "source": [
    "From the printed results, we see that the datasets we're interested in are `pmdco2_tto_example_parallel`, `pmdco2_tto_example_perpendicular` and `pmdco2_tto_example_diagonal`.  \n",
    "Note: these are just plain strings, that merely look like lists of strings. To actually get a referencible list, this hat to be cast to a proper list, e.g. using the `ast` module.  To make things easier, ther is a function `rectify_endpoints()` defined in `helpers.py` which perfoms all necessary steps."
   ]
  },
  {
   "cell_type": "code",
   "execution_count": 5,
   "id": "93515d2d-a705-4ae0-83f8-63e27a33252e",
   "metadata": {},
   "outputs": [
    {
     "name": "stdout",
     "output_type": "stream",
     "text": [
      "['https://ontodocker.iwt.pmd.internal/api/v1/jena/pmdco2_tto_example_parallel/sparql']\n",
      "<class 'list'>\n",
      "\n",
      "['http://ontodocker.iwm.pmd.internal/api/v1/jena/pmdco2_tto_example_perpendicular/sparql', 'http://ontodocker.iwm.pmd.internal/api/v1/jena/test/sparql']\n",
      "<class 'list'>\n",
      "\n",
      "['http://ontodocker.mpi-susmat.pmd.internal/api/v1/jena/pmdco2_tto_example_diagonal/sparql']\n",
      "<class 'list'>\n",
      "\n"
     ]
    }
   ],
   "source": [
    "for key in partners.__dict__:\n",
    "    address = getattr(partners, key).ontodocker.address\n",
    "    token = getattr(partners, key).ontodocker.token\n",
    "    \n",
    "    headers = {\"Authorization\": f\"Bearer {token}\"}\n",
    "    endpoints = helpers.rectify_endpoints(requests.get(f'{address}/api/v1/endpoints', headers=headers).content.decode())\n",
    "    print(endpoints)\n",
    "    print(str(type(endpoints))+ \"\\n\")"
   ]
  },
  {
   "cell_type": "markdown",
   "id": "782c6683-503b-45d1-a44e-08b0eabfa8c6",
   "metadata": {},
   "source": [
    "Now we can perform the exploration"
   ]
  },
  {
   "cell_type": "code",
   "execution_count": 6,
   "id": "835001a0-2015-4395-b400-ff4b62a64589",
   "metadata": {},
   "outputs": [],
   "source": [
    "# required for fixing a bug in SPARQLWrapper\n",
    "import ssl\n",
    "ssl._create_default_https_context = ssl._create_unverified_context\n",
    "\n",
    "from SPARQLWrapper import SPARQLWrapper"
   ]
  },
  {
   "cell_type": "markdown",
   "id": "fd578d34-c85d-4967-9496-46838da17b10",
   "metadata": {},
   "source": [
    "Let's perform a query, prompting for the materialsystem (`materialDesignation`), as defined above:"
   ]
  },
  {
   "cell_type": "code",
   "execution_count": 7,
   "id": "abf84704-ebbe-4043-8271-e72a8c8640f9",
   "metadata": {},
   "outputs": [
    {
     "name": "stdout",
     "output_type": "stream",
     "text": [
      "Sending query to \"https://ontodocker.iwt.pmd.internal/api/v1/jena/pmdco2_tto_example_parallel/sparql\". Result:\n",
      "{'head': {'vars': ['p', 'matDesVal']}, 'results': {'bindings': [{'p': {'type': 'uri', 'value': 'https://w3id.org/pmd/ao/tte/pmdao-tto-tt-S355-1_process'}, 'matDesVal': {'type': 'literal', 'value': 'S355'}}, {'p': {'type': 'uri', 'value': 'https://w3id.org/pmd/ao/tte/pmdao-tto-tt-S355-2_process'}, 'matDesVal': {'type': 'literal', 'value': 'S355'}}, {'p': {'type': 'uri', 'value': 'https://w3id.org/pmd/ao/tte/pmdao-tto-tt-S355-3_process'}, 'matDesVal': {'type': 'literal', 'value': 'S355'}}, {'p': {'type': 'uri', 'value': 'https://w3id.org/pmd/ao/tte/pmdao-tto-tt-S355-4_process'}, 'matDesVal': {'type': 'literal', 'value': 'S355'}}]}}\n",
      "\n",
      "Sending query to \"http://ontodocker.iwm.pmd.internal/api/v1/jena/pmdco2_tto_example_perpendicular/sparql\". Result:\n",
      "{'head': {'vars': ['p', 'matDesVal']}, 'results': {'bindings': [{'p': {'type': 'uri', 'value': 'https://w3id.org/pmd/ao/tte/pmdao-tto-tt-S355-5_process'}, 'matDesVal': {'type': 'literal', 'value': 'S355'}}, {'p': {'type': 'uri', 'value': 'https://w3id.org/pmd/ao/tte/pmdao-tto-tt-S355-6_process'}, 'matDesVal': {'type': 'literal', 'value': 'S355'}}, {'p': {'type': 'uri', 'value': 'https://w3id.org/pmd/ao/tte/pmdao-tto-tt-S355-7_process'}, 'matDesVal': {'type': 'literal', 'value': 'S355'}}, {'p': {'type': 'uri', 'value': 'https://w3id.org/pmd/ao/tte/pmdao-tto-tt-S355-8_process'}, 'matDesVal': {'type': 'literal', 'value': 'S355'}}]}}\n",
      "\n",
      "Sending query to \"http://ontodocker.iwm.pmd.internal/api/v1/jena/test/sparql\". Result:\n",
      "{'head': {'vars': ['p', 'matDesVal']}, 'results': {'bindings': []}}\n",
      "\n",
      "Sending query to \"http://ontodocker.mpi-susmat.pmd.internal/api/v1/jena/pmdco2_tto_example_diagonal/sparql\". Result:\n",
      "{'head': {'vars': ['p', 'matDesVal']}, 'results': {'bindings': [{'p': {'type': 'uri', 'value': 'https://w3id.org/pmd/ao/tte/pmdao-tto-tt-S355-10_process'}, 'matDesVal': {'type': 'literal', 'value': 'S355'}}, {'p': {'type': 'uri', 'value': 'https://w3id.org/pmd/ao/tte/pmdao-tto-tt-S355-9_process'}, 'matDesVal': {'type': 'literal', 'value': 'S355'}}]}}\n",
      "\n"
     ]
    }
   ],
   "source": [
    "for key in partners.__dict__:\n",
    "    address = getattr(partners, key).ontodocker.address\n",
    "    token = getattr(partners, key).ontodocker.token\n",
    "\n",
    "    headers = {\"Authorization\": f\"Bearer {token}\"}\n",
    "    endpoints = helpers.rectify_endpoints(requests.get(f'{address}/api/v1/endpoints', headers=headers).content.decode())\n",
    "    \n",
    "    for ep in endpoints:\n",
    "        sparql = SPARQLWrapper(ep)\n",
    "        sparql.setReturnFormat('json')\n",
    "        sparql.addCustomHttpHeader(\"Authorization\", f'Bearer {token}')\n",
    "        print(f'Sending query to \"{ep}\". Result:')\n",
    "\n",
    "        query = queries.material_designation()\n",
    "        sparql.setQuery(query.query)\n",
    "        result = sparql.queryAndConvert()\n",
    "        print(result)\n",
    "        print(\"\")"
   ]
  },
  {
   "cell_type": "markdown",
   "id": "26c4540b-c816-4ee7-9412-186b81352cda",
   "metadata": {},
   "source": [
    "This returns the queried triples in a json respresentation. Let's improve the readability:"
   ]
  },
  {
   "cell_type": "markdown",
   "id": "34cb75af-04fc-4420-adda-22e8961ed5b2",
   "metadata": {},
   "source": [
    "**NOTE:** what the matter with other return-formats (e.g. csv, json-ld, ...)?"
   ]
  },
  {
   "cell_type": "markdown",
   "id": "1193e137-401a-4cc1-a1ad-26e55caa0d80",
   "metadata": {},
   "source": [
    "We can format the results a bit more human-friendly using `pandas` dataframes. Again, to keep things better readable, ther is a function `make_dataframe` defined in `helpers.py`:"
   ]
  },
  {
   "cell_type": "code",
   "execution_count": 8,
   "id": "7d1a1a59-2b88-45dc-a200-5503fbeff5a2",
   "metadata": {},
   "outputs": [
    {
     "name": "stdout",
     "output_type": "stream",
     "text": [
      "Sending query to \"https://ontodocker.iwt.pmd.internal/api/v1/jena/pmdco2_tto_example_parallel/sparql\". Result:\n",
      "  URI                                                      materialDesignation\n",
      "0  https://w3id.org/pmd/ao/tte/pmdao-tto-tt-S355-1_process  S355              \n",
      "1  https://w3id.org/pmd/ao/tte/pmdao-tto-tt-S355-2_process  S355              \n",
      "2  https://w3id.org/pmd/ao/tte/pmdao-tto-tt-S355-3_process  S355              \n",
      "3  https://w3id.org/pmd/ao/tte/pmdao-tto-tt-S355-4_process  S355              \n",
      "\n",
      "Sending query to \"http://ontodocker.iwm.pmd.internal/api/v1/jena/pmdco2_tto_example_perpendicular/sparql\". Result:\n",
      "  URI                                                      materialDesignation\n",
      "0  https://w3id.org/pmd/ao/tte/pmdao-tto-tt-S355-5_process  S355              \n",
      "1  https://w3id.org/pmd/ao/tte/pmdao-tto-tt-S355-6_process  S355              \n",
      "2  https://w3id.org/pmd/ao/tte/pmdao-tto-tt-S355-7_process  S355              \n",
      "3  https://w3id.org/pmd/ao/tte/pmdao-tto-tt-S355-8_process  S355              \n",
      "\n",
      "Sending query to \"http://ontodocker.mpi-susmat.pmd.internal/api/v1/jena/pmdco2_tto_example_diagonal/sparql\". Result:\n",
      "  URI                                                       materialDesignation\n",
      "0  https://w3id.org/pmd/ao/tte/pmdao-tto-tt-S355-10_process  S355              \n",
      "1   https://w3id.org/pmd/ao/tte/pmdao-tto-tt-S355-9_process  S355              \n",
      "\n"
     ]
    }
   ],
   "source": [
    "import pandas as pd\n",
    "pd.set_option('display.max_colwidth', None)\n",
    "pd.set_option('display.colheader_justify', 'left')\n",
    "pd.set_option('display.width', 200)\n",
    "\n",
    "datasets = [\"pmdco2_tto_example_parallel\", \"pmdco2_tto_example_perpendicular\",\"pmdco2_tto_example_diagonal\"]\n",
    "\n",
    "for key in partners.__dict__:\n",
    "    address = getattr(partners, key).ontodocker.address\n",
    "    token = getattr(partners, key).ontodocker.token\n",
    "\n",
    "    headers = {\"Authorization\": f\"Bearer {token}\"}\n",
    "    endpoints = helpers.rectify_endpoints(requests.get(f'{address}/api/v1/endpoints', headers=headers).content.decode())\n",
    "    \n",
    "    for ep in endpoints:\n",
    "        if any(substring in ep for substring in datasets): # only check endpoints, whose address contains any of the dataset names we found above\n",
    "            sparql = SPARQLWrapper(ep)\n",
    "            sparql.setReturnFormat('json')\n",
    "            sparql.addCustomHttpHeader(\"Authorization\", f'Bearer {token}')\n",
    "            print(f'Sending query to \"{ep}\". Result:')\n",
    "            query = queries.material_designation()\n",
    "            sparql.setQuery(query.query)\n",
    "            result = sparql.queryAndConvert()\n",
    "            result_df = helpers.make_dataframe(result, query.columns)\n",
    "            print(result_df)\n",
    "            print(\"\")"
   ]
  },
  {
   "cell_type": "code",
   "execution_count": 9,
   "id": "14d159b4-93be-4901-b813-279888434ea1",
   "metadata": {},
   "outputs": [],
   "source": [
    "def distributed_query(partners, datasets, query, columns):\n",
    "    \n",
    "    for key in partners.__dict__:\n",
    "        address = getattr(partners, key).ontodocker.address\n",
    "        token = getattr(partners, key).ontodocker.token\n",
    "\n",
    "        headers = {\"Authorization\": f\"Bearer {token}\"}\n",
    "        endpoints = helpers.rectify_endpoints(requests.get(f'{address}/api/v1/endpoints', headers=headers).content.decode())\n",
    "        \n",
    "        for ep in endpoints:\n",
    "            if any(substring in ep for substring in datasets): # only query endpoints, whose address contains any of the dataset names we found above\n",
    "                sparql = SPARQLWrapper(ep)\n",
    "                sparql.setReturnFormat('json')\n",
    "                sparql.addCustomHttpHeader(\"Authorization\", f'Bearer {token}')\n",
    "                print(f'Sending query to \"{ep}\". Result:')\n",
    "                sparql.setQuery(query)\n",
    "                result = sparql.queryAndConvert()\n",
    "                result_df = helpers.make_dataframe(result, columns)\n",
    "                print(result_df)\n",
    "                print(\"\")"
   ]
  },
  {
   "cell_type": "code",
   "execution_count": 10,
   "id": "914e68e3-5c47-40fd-8803-b7d3dca36ee1",
   "metadata": {},
   "outputs": [
    {
     "name": "stdout",
     "output_type": "stream",
     "text": [
      "Sending query to \"https://ontodocker.iwt.pmd.internal/api/v1/jena/pmdco2_tto_example_parallel/sparql\". Result:\n",
      "  URI                                                      materialDesignation\n",
      "0  https://w3id.org/pmd/ao/tte/pmdao-tto-tt-S355-1_process  S355              \n",
      "1  https://w3id.org/pmd/ao/tte/pmdao-tto-tt-S355-2_process  S355              \n",
      "2  https://w3id.org/pmd/ao/tte/pmdao-tto-tt-S355-3_process  S355              \n",
      "3  https://w3id.org/pmd/ao/tte/pmdao-tto-tt-S355-4_process  S355              \n",
      "\n",
      "Sending query to \"http://ontodocker.iwm.pmd.internal/api/v1/jena/pmdco2_tto_example_perpendicular/sparql\". Result:\n",
      "  URI                                                      materialDesignation\n",
      "0  https://w3id.org/pmd/ao/tte/pmdao-tto-tt-S355-5_process  S355              \n",
      "1  https://w3id.org/pmd/ao/tte/pmdao-tto-tt-S355-6_process  S355              \n",
      "2  https://w3id.org/pmd/ao/tte/pmdao-tto-tt-S355-7_process  S355              \n",
      "3  https://w3id.org/pmd/ao/tte/pmdao-tto-tt-S355-8_process  S355              \n",
      "\n",
      "Sending query to \"http://ontodocker.mpi-susmat.pmd.internal/api/v1/jena/pmdco2_tto_example_diagonal/sparql\". Result:\n",
      "  URI                                                       materialDesignation\n",
      "0  https://w3id.org/pmd/ao/tte/pmdao-tto-tt-S355-10_process  S355              \n",
      "1   https://w3id.org/pmd/ao/tte/pmdao-tto-tt-S355-9_process  S355              \n",
      "\n"
     ]
    }
   ],
   "source": [
    "query = queries.material_designation()\n",
    "distributed_query(partners, datasets, query.query, query.columns)"
   ]
  },
  {
   "cell_type": "markdown",
   "id": "d00b0190-a6f0-4a21-bc79-e18fe4c26250",
   "metadata": {},
   "source": [
    "This can be further improved, by using the `federated_query()` method. There, we query all ontodocker instances which can be found in `endpoints.json`, but only endpoints, which addresses (which include the dataset names) contain any of the strings provided via `datasets`; so it's basically a federated query method + simple search."
   ]
  },
  {
   "cell_type": "code",
   "execution_count": 11,
   "id": "0498d06b-ce80-42a2-9f53-f9fb89d10362",
   "metadata": {},
   "outputs": [],
   "source": [
    "matDes_results = helpers.federated_query(partners, datasets, query.query, query.columns, False)"
   ]
  },
  {
   "cell_type": "markdown",
   "id": "dd654ae2-43b0-4250-8c92-20e3f38627a1",
   "metadata": {},
   "source": [
    "Transforming this obect (ist a dict) allows for browsing some information - including the results of the query - via dot-notation and tab completion: "
   ]
  },
  {
   "cell_type": "code",
   "execution_count": 12,
   "id": "b2b06ac1-af48-4144-9781-f12217277fcf",
   "metadata": {},
   "outputs": [],
   "source": [
    "matDes_results_rns = helpers.RecursiveNamespace(**matDes_results)"
   ]
  },
  {
   "cell_type": "code",
   "execution_count": 13,
   "id": "e34c3d52-ec57-4fda-b330-756485cd126c",
   "metadata": {},
   "outputs": [
    {
     "data": {
      "text/html": [
       "<div>\n",
       "<style scoped>\n",
       "    .dataframe tbody tr th:only-of-type {\n",
       "        vertical-align: middle;\n",
       "    }\n",
       "\n",
       "    .dataframe tbody tr th {\n",
       "        vertical-align: top;\n",
       "    }\n",
       "\n",
       "    .dataframe thead th {\n",
       "        text-align: right;\n",
       "    }\n",
       "</style>\n",
       "<table border=\"1\" class=\"dataframe\">\n",
       "  <thead>\n",
       "    <tr style=\"text-align: left;\">\n",
       "      <th></th>\n",
       "      <th>URI</th>\n",
       "      <th>materialDesignation</th>\n",
       "    </tr>\n",
       "  </thead>\n",
       "  <tbody>\n",
       "    <tr>\n",
       "      <th>0</th>\n",
       "      <td>https://w3id.org/pmd/ao/tte/pmdao-tto-tt-S355-1_process</td>\n",
       "      <td>S355</td>\n",
       "    </tr>\n",
       "    <tr>\n",
       "      <th>1</th>\n",
       "      <td>https://w3id.org/pmd/ao/tte/pmdao-tto-tt-S355-2_process</td>\n",
       "      <td>S355</td>\n",
       "    </tr>\n",
       "    <tr>\n",
       "      <th>2</th>\n",
       "      <td>https://w3id.org/pmd/ao/tte/pmdao-tto-tt-S355-3_process</td>\n",
       "      <td>S355</td>\n",
       "    </tr>\n",
       "    <tr>\n",
       "      <th>3</th>\n",
       "      <td>https://w3id.org/pmd/ao/tte/pmdao-tto-tt-S355-4_process</td>\n",
       "      <td>S355</td>\n",
       "    </tr>\n",
       "  </tbody>\n",
       "</table>\n",
       "</div>"
      ],
      "text/plain": [
       "  URI                                                      materialDesignation\n",
       "0  https://w3id.org/pmd/ao/tte/pmdao-tto-tt-S355-1_process  S355              \n",
       "1  https://w3id.org/pmd/ao/tte/pmdao-tto-tt-S355-2_process  S355              \n",
       "2  https://w3id.org/pmd/ao/tte/pmdao-tto-tt-S355-3_process  S355              \n",
       "3  https://w3id.org/pmd/ao/tte/pmdao-tto-tt-S355-4_process  S355              "
      ]
     },
     "execution_count": 13,
     "metadata": {},
     "output_type": "execute_result"
    }
   ],
   "source": [
    "matDes_results_rns.iwt.ontodocker_iwt.pmdco2_tto_example_parallel.result"
   ]
  },
  {
   "cell_type": "code",
   "execution_count": 14,
   "id": "d9e287d4-0dbc-4ec0-8d41-ef1e3cbeb753",
   "metadata": {},
   "outputs": [
    {
     "data": {
      "text/plain": [
       "'http://ontodocker.iwm.pmd.internal/api/v1/jena/pmdco2_tto_example_perpendicular/sparql'"
      ]
     },
     "execution_count": 14,
     "metadata": {},
     "output_type": "execute_result"
    }
   ],
   "source": [
    "matDes_results_rns.iwm.ontodocker_iwm.pmdco2_tto_example_perpendicular.endpoint"
   ]
  },
  {
   "cell_type": "code",
   "execution_count": 15,
   "id": "2d3cc06a-e38b-4164-abc1-3e4450c4eef3",
   "metadata": {},
   "outputs": [
    {
     "name": "stdout",
     "output_type": "stream",
     "text": [
      "Sending query to \"https://ontodocker.iwt.pmd.internal/api/v1/jena/pmdco2_tto_example_parallel/sparql\". Result:\n",
      "   URI                                                      Quantity                                                                          value    unit                               \n",
      "0   https://w3id.org/pmd/ao/tte/pmdao-tto-tt-S355-1_process               https://w3id.org/pmd/ao/tte/pmdao-tto-tt-S355-1_crossSectionArea_S0  120.636  http://qudt.org/vocab/unit/MilliM2\n",
      "1   https://w3id.org/pmd/ao/tte/pmdao-tto-tt-S355-1_process               https://w3id.org/pmd/ao/tte/pmdao-tto-tt-S355-1_crossSectionArea_Su   52.659  http://qudt.org/vocab/unit/MilliM2\n",
      "2   https://w3id.org/pmd/ao/tte/pmdao-tto-tt-S355-1_process               https://w3id.org/pmd/ao/tte/pmdao-tto-tt-S355-1_crossSectionArea_s1  120.675  http://qudt.org/vocab/unit/MilliM2\n",
      "3   https://w3id.org/pmd/ao/tte/pmdao-tto-tt-S355-1_process               https://w3id.org/pmd/ao/tte/pmdao-tto-tt-S355-1_crossSectionArea_s2  120.608  http://qudt.org/vocab/unit/MilliM2\n",
      "4   https://w3id.org/pmd/ao/tte/pmdao-tto-tt-S355-1_process               https://w3id.org/pmd/ao/tte/pmdao-tto-tt-S355-1_crossSectionArea_s3  120.625  http://qudt.org/vocab/unit/MilliM2\n",
      "5   https://w3id.org/pmd/ao/tte/pmdao-tto-tt-S355-1_process  https://w3id.org/pmd/ao/tte/pmdao-tto-tt-S355-1_finalGaugeLengthAfterFracture_Lu      NaN   http://qudt.org/vocab/unit/MilliM\n",
      "6   https://w3id.org/pmd/ao/tte/pmdao-tto-tt-S355-1_process            https://w3id.org/pmd/ao/tte/pmdao-tto-tt-S355-1_originalGaugeLength_L0     60.0   http://qudt.org/vocab/unit/MilliM\n",
      "7   https://w3id.org/pmd/ao/tte/pmdao-tto-tt-S355-1_process         https://w3id.org/pmd/ao/tte/pmdao-tto-tt-S355-1_thicknessAfterFracture_au     3.52   http://qudt.org/vocab/unit/MilliM\n",
      "8   https://w3id.org/pmd/ao/tte/pmdao-tto-tt-S355-1_process                      https://w3id.org/pmd/ao/tte/pmdao-tto-tt-S355-1_thickness_a1    5.993   http://qudt.org/vocab/unit/MilliM\n",
      "9   https://w3id.org/pmd/ao/tte/pmdao-tto-tt-S355-1_process                      https://w3id.org/pmd/ao/tte/pmdao-tto-tt-S355-1_thickness_a2    5.987   http://qudt.org/vocab/unit/MilliM\n",
      "10  https://w3id.org/pmd/ao/tte/pmdao-tto-tt-S355-1_process                      https://w3id.org/pmd/ao/tte/pmdao-tto-tt-S355-1_thickness_a3    5.992   http://qudt.org/vocab/unit/MilliM\n",
      "11  https://w3id.org/pmd/ao/tte/pmdao-tto-tt-S355-1_process             https://w3id.org/pmd/ao/tte/pmdao-tto-tt-S355-1_widthAfterFracture_bu    14.96   http://qudt.org/vocab/unit/MilliM\n",
      "12  https://w3id.org/pmd/ao/tte/pmdao-tto-tt-S355-1_process                          https://w3id.org/pmd/ao/tte/pmdao-tto-tt-S355-1_width_b1   20.136   http://qudt.org/vocab/unit/MilliM\n",
      "13  https://w3id.org/pmd/ao/tte/pmdao-tto-tt-S355-1_process                          https://w3id.org/pmd/ao/tte/pmdao-tto-tt-S355-1_width_b2   20.145   http://qudt.org/vocab/unit/MilliM\n",
      "14  https://w3id.org/pmd/ao/tte/pmdao-tto-tt-S355-1_process                          https://w3id.org/pmd/ao/tte/pmdao-tto-tt-S355-1_width_b3   20.131   http://qudt.org/vocab/unit/MilliM\n",
      "\n",
      "Sending query to \"http://ontodocker.iwm.pmd.internal/api/v1/jena/pmdco2_tto_example_perpendicular/sparql\". Result:\n",
      "Empty DataFrame\n",
      "Columns: [URI, Quantity, value, unit]\n",
      "Index: []\n",
      "\n",
      "Sending query to \"http://ontodocker.mpi-susmat.pmd.internal/api/v1/jena/pmdco2_tto_example_diagonal/sparql\". Result:\n",
      "Empty DataFrame\n",
      "Columns: [URI, Quantity, value, unit]\n",
      "Index: []\n",
      "\n"
     ]
    }
   ],
   "source": [
    "testURI = \"https://w3id.org/pmd/ao/tte/pmdao-tto-tt-S355-1_process\"\n",
    "query = queries.primary_data(testURI)\n",
    "distributed_query(partners, datasets, query.query, query.columns)"
   ]
  },
  {
   "cell_type": "code",
   "execution_count": 16,
   "id": "c7bd35bb-9ac1-417d-8c61-c15c2a4deec9",
   "metadata": {},
   "outputs": [
    {
     "name": "stdout",
     "output_type": "stream",
     "text": [
      "Sending query to \"https://ontodocker.iwt.pmd.internal/api/v1/jena/pmdco2_tto_example_parallel/sparql\". Result:\n",
      "  URI                                                      Quantity                                                                           value   unit                               \n",
      "0  https://w3id.org/pmd/ao/tte/pmdao-tto-tt-S355-1_process                       https://w3id.org/pmd/ao/tte/pmdao-tto-tt-S355-1_maximumForce  62.007    http://qudt.org/vocab/unit/kiloN\n",
      "1  https://w3id.org/pmd/ao/tte/pmdao-tto-tt-S355-1_process                https://w3id.org/pmd/ao/tte/pmdao-tto-tt-S355-1_modulusOfElasticity   194.0   http://qudt.org/vocab/unit/GigaPa\n",
      "2  https://w3id.org/pmd/ao/tte/pmdao-tto-tt-S355-1_process  https://w3id.org/pmd/ao/tte/pmdao-tto-tt-S355-1_percentageElongationAfterFracture     NaN  http://qudt.org/vocab/unit/PERCENT\n",
      "3  https://w3id.org/pmd/ao/tte/pmdao-tto-tt-S355-1_process          https://w3id.org/pmd/ao/tte/pmdao-tto-tt-S355-1_percentageReductionOfArea    56.0  http://qudt.org/vocab/unit/PERCENT\n",
      "4  https://w3id.org/pmd/ao/tte/pmdao-tto-tt-S355-1_process                 https://w3id.org/pmd/ao/tte/pmdao-tto-tt-S355-1_proofStrength_Rp02   375.0   http://qudt.org/vocab/unit/MegaPa\n",
      "5  https://w3id.org/pmd/ao/tte/pmdao-tto-tt-S355-1_process                    https://w3id.org/pmd/ao/tte/pmdao-tto-tt-S355-1_tensileStrength   514.0   http://qudt.org/vocab/unit/MegaPa\n",
      "6  https://w3id.org/pmd/ao/tte/pmdao-tto-tt-S355-1_process                 https://w3id.org/pmd/ao/tte/pmdao-tto-tt-S355-1_upperYieldStrength   380.0   http://qudt.org/vocab/unit/MegaPa\n",
      "\n",
      "Sending query to \"http://ontodocker.iwm.pmd.internal/api/v1/jena/pmdco2_tto_example_perpendicular/sparql\". Result:\n",
      "Empty DataFrame\n",
      "Columns: [URI, Quantity, value, unit]\n",
      "Index: []\n",
      "\n",
      "Sending query to \"http://ontodocker.mpi-susmat.pmd.internal/api/v1/jena/pmdco2_tto_example_diagonal/sparql\". Result:\n",
      "Empty DataFrame\n",
      "Columns: [URI, Quantity, value, unit]\n",
      "Index: []\n",
      "\n"
     ]
    }
   ],
   "source": [
    "query = queries.secondary_data(testURI)\n",
    "distributed_query(partners, datasets, query.query, query.columns)"
   ]
  },
  {
   "cell_type": "code",
   "execution_count": 17,
   "id": "38fbe9aa-e116-471f-b51b-9032c21ff1e4",
   "metadata": {},
   "outputs": [
    {
     "name": "stdout",
     "output_type": "stream",
     "text": [
      "Sending query to \"https://ontodocker.iwt.pmd.internal/api/v1/jena/pmdco2_tto_example_parallel/sparql\". Result:\n",
      "  URI                                                      Quantity                                                                  value unit                               \n",
      "0  https://w3id.org/pmd/ao/tte/pmdao-tto-tt-S355-1_process  https://w3id.org/pmd/ao/tte/pmdao-tto-tt-S355-1_environmentalTemperature  20.0    http://qudt.org/vocab/unit/DEG_C\n",
      "1  https://w3id.org/pmd/ao/tte/pmdao-tto-tt-S355-1_process   https://w3id.org/pmd/ao/tte/pmdao-tto-tt-S355-1_extensometerGaugeLength  50.0   http://qudt.org/vocab/unit/MilliM\n",
      "2  https://w3id.org/pmd/ao/tte/pmdao-tto-tt-S355-1_process           https://w3id.org/pmd/ao/tte/pmdao-tto-tt-S355-1_transitionPoint   1.6  http://qudt.org/vocab/unit/PERCENT\n",
      "\n",
      "Sending query to \"http://ontodocker.iwm.pmd.internal/api/v1/jena/pmdco2_tto_example_perpendicular/sparql\". Result:\n",
      "Empty DataFrame\n",
      "Columns: [URI, Quantity, value, unit]\n",
      "Index: []\n",
      "\n",
      "Sending query to \"http://ontodocker.mpi-susmat.pmd.internal/api/v1/jena/pmdco2_tto_example_diagonal/sparql\". Result:\n",
      "Empty DataFrame\n",
      "Columns: [URI, Quantity, value, unit]\n",
      "Index: []\n",
      "\n"
     ]
    }
   ],
   "source": [
    "query = queries.metadata(testURI)\n",
    "distributed_query(partners, datasets, query.query, query.columns)"
   ]
  },
  {
   "cell_type": "code",
   "execution_count": null,
   "id": "56d4795d-c2be-44c6-b822-f07bcb4a265c",
   "metadata": {},
   "outputs": [],
   "source": []
  }
 ],
 "metadata": {
  "kernelspec": {
   "display_name": "Python 3 (ipykernel)",
   "language": "python",
   "name": "python3"
  },
  "language_info": {
   "codemirror_mode": {
    "name": "ipython",
    "version": 3
   },
   "file_extension": ".py",
   "mimetype": "text/x-python",
   "name": "python",
   "nbconvert_exporter": "python",
   "pygments_lexer": "ipython3",
   "version": "3.11.10"
  }
 },
 "nbformat": 4,
 "nbformat_minor": 5
}
