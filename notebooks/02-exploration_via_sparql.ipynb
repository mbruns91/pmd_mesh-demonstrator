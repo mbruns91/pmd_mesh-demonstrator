{
 "cells": [
  {
   "cell_type": "markdown",
   "id": "7bf139f3-cb64-4c87-b914-055628b07ad3",
   "metadata": {},
   "source": [
    "# Exploring the distributed information via SPARQL and helper methods\n",
    "Next, we answer a few typical quations a user would ask when working with the datasets. A user has to know the addresses of the SPARQL endpoints of interest.  \n",
    "We basically have 2 options:\n",
    "1. Define the SPARQL-query, then loop over all SPARQL-Endpoints and digest the response\n",
    "2. Collect the graphs from the Endpoints, put the together into one graph-object and then operate on this object.\n",
    "   1. collect via SPARQL, store, put together\n",
    "   2. directly get the turtlefile via the ontodocker API, store locally, then load from the files and put together into one object. "
   ]
  },
  {
   "cell_type": "markdown",
   "id": "0c6bf437-8f61-4af6-a81e-a19a5b961718",
   "metadata": {},
   "source": [
    "Set up things to use the mesh and load participant information:"
   ]
  },
  {
   "cell_type": "code",
   "execution_count": 1,
   "id": "da7bd96a-f55b-4115-b6a7-0bc132641814",
   "metadata": {},
   "outputs": [],
   "source": [
    "import os\n",
    "os.environ[\"REQUESTS_CA_BUNDLE\"] = \"/etc/ssl/certs/ca-certificates.crt\"\n",
    "\n",
    "import json\n",
    "import sys\n",
    "sys.path.append(\"..\")\n",
    "import helpers\n",
    "\n",
    "with open('../secrets/participant_registry.json') as f:\n",
    "    partners = json.load(f, object_hook=lambda d: helpers.RecursiveNamespace(**d))"
   ]
  },
  {
   "cell_type": "markdown",
   "id": "f6c90ada-7b80-4229-a1b9-031d0629e349",
   "metadata": {},
   "source": [
    "## SPARQL queries\n",
    "To make the following notebook easierly readable, we define some queries in `queries.py`. At the moment, they are hard-coded and will only work for these specific versions of pmdCO and the TTO."
   ]
  },
  {
   "cell_type": "code",
   "execution_count": 2,
   "id": "377d82f6-d6ff-4b82-ba67-2e90507de43a",
   "metadata": {},
   "outputs": [],
   "source": [
    "from queries import QueryCollection\n",
    "queries = QueryCollection()"
   ]
  },
  {
   "attachments": {},
   "cell_type": "markdown",
   "id": "be62f22c-9fe1-4282-afff-bde89af6be21",
   "metadata": {},
   "source": [
    "You can find queries which prompt for various information:\n",
    "- `queries.query_materialDesignation()` For which material is data available?  \n",
    "This reads out the `pmdco:value` stored under `pmdco:materialDesignation`\n",
    "- `queries.query_processType()`: What process type was performed on S355?\n",
    "- `queries.query_orientation()`: In what orientation relative to the rolling direction was each specimen cut?\n",
    "- `queries.query_deviceAndStandard()`: Which device and standard was used for the measurements?\n",
    "- `queries.query_specimen()`: What is the specimen ID\n",
    "- `queries.query_csvurl()`: Under which URL can we find the csv-file?\n",
    "\n",
    "The queries are defined as class methods. They return a dataclass instance, allowing to easily add new methods(queries) and enabling a dot notation and tab completion. They return the query (as a string) and column headers (as a list of strings), corresponding to the returned values of the resp. query.  \n",
    "Because a `dataclass` is uesd, it is very easy to make returned contents attributes directly accessible via dot-notation while reducing boilerplate code (defining `__init__` etc.):"
   ]
  },
  {
   "cell_type": "code",
   "execution_count": 3,
   "id": "a36c3e3a-0992-4d7d-b85f-e162514d6893",
   "metadata": {},
   "outputs": [
    {
     "name": "stdout",
     "output_type": "stream",
     "text": [
      "query =\n",
      "        PREFIX pmd: <https://w3id.org/pmd/co/>\n",
      "        SELECT DISTINCT ?p ?matDesVal\n",
      "        WHERE {\n",
      "            ?s a pmd:TestPiece .\n",
      "            ?p pmd:input ?s .\n",
      "            ?p pmd:characteristic ?matDes .\n",
      "            ?matDes a pmd:materialDesignation .\n",
      "            ?matDes pmd:value ?matDesVal .\n",
      "        }\n",
      "        ORDER BY ?p\n",
      "        \n",
      "\n",
      "columns = ['URI', 'materialDesignation']\n"
     ]
    }
   ],
   "source": [
    "query = queries.material_designation()\n",
    "print(\"query =\"+query.query)\n",
    "print(\"\")\n",
    "print(\"columns = \"+str(query.columns))"
   ]
  },
  {
   "cell_type": "markdown",
   "id": "35a99f93-6354-4a79-80e8-8a152fce5070",
   "metadata": {},
   "source": [
    "## Explore the datasets\n",
    "Here, we demonstrate how a simple data exploration can be done by sending queries directly to the intances' SPARQL endpoints and looping over instances. We perform queries using the `SPARQLWrapper` module, wrpeed in some convenience methods (from `../helpers.py`)"
   ]
  },
  {
   "cell_type": "markdown",
   "id": "67b1da2c-2151-44be-9470-8803f6fed783",
   "metadata": {},
   "source": [
    "### Get a first idea\n",
    "First, we have a look at the accessible endpoints on the instances referenced in `partners`, to know which endpoints are accessible. We do this via http requests to the ontodocker API (sending `GET` to `<address>/api/v1/endpoints`): "
   ]
  },
  {
   "cell_type": "code",
   "execution_count": 4,
   "id": "ccc51b9d-3a90-4808-880b-679c4ea96825",
   "metadata": {},
   "outputs": [
    {
     "name": "stdout",
     "output_type": "stream",
     "text": [
      "['http://ontodocker.iwm.pmd.internal/api/v1/jena/pmdco2_tto_example_parallel/sparql', 'http://ontodocker.iwm.pmd.internal/api/v1/jena/test/sparql']\n",
      "['https://ontodocker.iwt.pmd.internal/api/v1/jena/pmdco2_tto_example_perpendicular/sparql']\n",
      "['http://ontodocker.mpi-susmat.pmd.internal/api/v1/jena/pmdco2_tto_example_diagonal/sparql']\n"
     ]
    }
   ],
   "source": [
    "import requests\n",
    "for key in partners.__dict__:\n",
    "    address = getattr(partners, key).ontodocker.address\n",
    "    token = getattr(partners, key).ontodocker.token\n",
    "    \n",
    "    headers = {\"Authorization\": f\"Bearer {token}\"}\n",
    "    result = helpers.rectify_endpoints(requests.get(f'{address}/api/v1/endpoints', headers=headers).content.decode())\n",
    "    print(result)"
   ]
  },
  {
   "cell_type": "markdown",
   "id": "782c6683-503b-45d1-a44e-08b0eabfa8c6",
   "metadata": {},
   "source": [
    "This gives us an idea of the dataset names. In `heleprs.py`, ther is a method `federated_query()`, which helps to distribute the query among endpoints. To avoid alway querying all endpoints, eventhough they do not contain the dataset of interest, you can pass a list of strings, of which you expect to be in the dataset names (e.g. `\"_tto_example_\"` in this case). You can also just list the exact names of the datasets to query precisely the correct endpoints. if `datasets = None`, all endpoints are queried."
   ]
  },
  {
   "cell_type": "code",
   "execution_count": 5,
   "id": "1814a23e-1538-4f14-930e-275b199de31e",
   "metadata": {},
   "outputs": [],
   "source": [
    "datasets = None"
   ]
  },
  {
   "cell_type": "code",
   "execution_count": 6,
   "id": "0a898fd5-feb2-4cab-9c12-6e7310d3c72c",
   "metadata": {},
   "outputs": [
    {
     "name": "stdout",
     "output_type": "stream",
     "text": [
      "Sending query to \"http://ontodocker.iwm.pmd.internal/api/v1/jena/pmdco2_tto_example_parallel/sparql\". Result:\n",
      "                                                 URI materialDesignation\n",
      "0  https://w3id.org/pmd/ao/tte/pmdao-tto-tt-S355-...                S355\n",
      "1  https://w3id.org/pmd/ao/tte/pmdao-tto-tt-S355-...                S355\n",
      "2  https://w3id.org/pmd/ao/tte/pmdao-tto-tt-S355-...                S355\n",
      "3  https://w3id.org/pmd/ao/tte/pmdao-tto-tt-S355-...                S355\n",
      "\n",
      "Sending query to \"http://ontodocker.iwm.pmd.internal/api/v1/jena/test/sparql\". Result:\n",
      "Empty DataFrame\n",
      "Columns: [URI, materialDesignation]\n",
      "Index: []\n",
      "\n",
      "Sending query to \"https://ontodocker.iwt.pmd.internal/api/v1/jena/pmdco2_tto_example_perpendicular/sparql\". Result:\n",
      "                                                 URI materialDesignation\n",
      "0  https://w3id.org/pmd/ao/tte/pmdao-tto-tt-S355-...                S355\n",
      "1  https://w3id.org/pmd/ao/tte/pmdao-tto-tt-S355-...                S355\n",
      "2  https://w3id.org/pmd/ao/tte/pmdao-tto-tt-S355-...                S355\n",
      "3  https://w3id.org/pmd/ao/tte/pmdao-tto-tt-S355-...                S355\n",
      "\n",
      "Sending query to \"http://ontodocker.mpi-susmat.pmd.internal/api/v1/jena/pmdco2_tto_example_diagonal/sparql\". Result:\n",
      "                                                 URI materialDesignation\n",
      "0  https://w3id.org/pmd/ao/tte/pmdao-tto-tt-S355-...                S355\n",
      "1  https://w3id.org/pmd/ao/tte/pmdao-tto-tt-S355-...                S355\n",
      "\n"
     ]
    }
   ],
   "source": [
    "query = queries.material_designation()\n",
    "matDes_results = helpers.federated_query(partners, datasets, query.query, query.columns, print_to_screen=True)"
   ]
  },
  {
   "cell_type": "markdown",
   "id": "01d0a12b-5756-431d-9f7b-51ae89cafe37",
   "metadata": {},
   "source": [
    "You can suppress the output to screen by stting `print_to_screen=False`.  \n",
    "**FILTERING:** Note the empty oputput for datasets which do not fit the query. This can be avoided by specifying `datasets` more precisely:"
   ]
  },
  {
   "cell_type": "code",
   "execution_count": 7,
   "id": "aedce92a-9a14-40c9-9bc2-394324b8f245",
   "metadata": {},
   "outputs": [
    {
     "name": "stdout",
     "output_type": "stream",
     "text": [
      "Sending query to \"http://ontodocker.iwm.pmd.internal/api/v1/jena/pmdco2_tto_example_parallel/sparql\". Result:\n",
      "                                                 URI materialDesignation\n",
      "0  https://w3id.org/pmd/ao/tte/pmdao-tto-tt-S355-...                S355\n",
      "1  https://w3id.org/pmd/ao/tte/pmdao-tto-tt-S355-...                S355\n",
      "2  https://w3id.org/pmd/ao/tte/pmdao-tto-tt-S355-...                S355\n",
      "3  https://w3id.org/pmd/ao/tte/pmdao-tto-tt-S355-...                S355\n",
      "\n",
      "Sending query to \"https://ontodocker.iwt.pmd.internal/api/v1/jena/pmdco2_tto_example_perpendicular/sparql\". Result:\n",
      "                                                 URI materialDesignation\n",
      "0  https://w3id.org/pmd/ao/tte/pmdao-tto-tt-S355-...                S355\n",
      "1  https://w3id.org/pmd/ao/tte/pmdao-tto-tt-S355-...                S355\n",
      "2  https://w3id.org/pmd/ao/tte/pmdao-tto-tt-S355-...                S355\n",
      "3  https://w3id.org/pmd/ao/tte/pmdao-tto-tt-S355-...                S355\n",
      "\n",
      "Sending query to \"http://ontodocker.mpi-susmat.pmd.internal/api/v1/jena/pmdco2_tto_example_diagonal/sparql\". Result:\n",
      "                                                 URI materialDesignation\n",
      "0  https://w3id.org/pmd/ao/tte/pmdao-tto-tt-S355-...                S355\n",
      "1  https://w3id.org/pmd/ao/tte/pmdao-tto-tt-S355-...                S355\n",
      "\n"
     ]
    }
   ],
   "source": [
    "datasets = [\"pmdco2_tto_example_parallel\", \"pmdco2_tto_example_perpendicular\",\"pmdco2_tto_example_diagonal\"]\n",
    "matDes_results = helpers.federated_query(partners, datasets, query.query, query.columns, print_to_screen=True)"
   ]
  },
  {
   "cell_type": "markdown",
   "id": "2e7cb81c-a4ab-4448-9b3d-6c7552881321",
   "metadata": {},
   "source": [
    "Again, we can again use the `RecusiveNamespace` class to make this browsable via dot-notation and tab-completion:"
   ]
  },
  {
   "cell_type": "code",
   "execution_count": 8,
   "id": "d8c91951-952c-413c-8314-ec3d69135ece",
   "metadata": {},
   "outputs": [],
   "source": [
    "matDes_results_rns = helpers.RecursiveNamespace(**matDes_results)"
   ]
  },
  {
   "cell_type": "code",
   "execution_count": 9,
   "id": "cc15195b-f970-4434-8947-d49391e041aa",
   "metadata": {},
   "outputs": [],
   "source": [
    "# matDes_results_rns. # uncomment and test tab-completion"
   ]
  },
  {
   "cell_type": "markdown",
   "id": "e93dcb3e-3850-4e55-bcb0-c3169bdc394b",
   "metadata": {},
   "source": [
    "The Object returned by 'RecursiveNamespace' is a"
   ]
  },
  {
   "cell_type": "code",
   "execution_count": 10,
   "id": "969ed63f-eaa5-4a3e-b1c0-f945ff5f27c2",
   "metadata": {},
   "outputs": [
    {
     "name": "stdout",
     "output_type": "stream",
     "text": [
      "endpoint =\n",
      "http://ontodocker.mpi-susmat.pmd.internal/api/v1/jena/pmdco2_tto_example_diagonal/sparql\n",
      "\n",
      "query =\n",
      "        PREFIX pmd: <https://w3id.org/pmd/co/>\n",
      "        SELECT DISTINCT ?p ?matDesVal\n",
      "        WHERE {\n",
      "            ?s a pmd:TestPiece .\n",
      "            ?p pmd:input ?s .\n",
      "            ?p pmd:characteristic ?matDes .\n",
      "            ?matDes a pmd:materialDesignation .\n",
      "            ?matDes pmd:value ?matDesVal .\n",
      "        }\n",
      "        ORDER BY ?p\n",
      "        \n"
     ]
    }
   ],
   "source": [
    "print(\"endpoint =\\n\"+str(matDes_results_rns.mpi_susmat.ontodocker_mpisusmat.pmdco2_tto_example_diagonal.endpoint))\n",
    "print(\"\")\n",
    "print(\"query =\"+str(matDes_results_rns.mpi_susmat.ontodocker_mpisusmat.pmdco2_tto_example_diagonal.query))"
   ]
  },
  {
   "cell_type": "markdown",
   "id": "52ef4d28-a27e-4f4a-b306-5bb60fe55341",
   "metadata": {},
   "source": [
    "And of course the result of the query is also accessible (as a `pandas` dataframe):"
   ]
  },
  {
   "cell_type": "code",
   "execution_count": 11,
   "id": "24fd90a0-bc72-4080-a3cf-379b727d0ca8",
   "metadata": {},
   "outputs": [
    {
     "data": {
      "text/html": [
       "<div>\n",
       "<style scoped>\n",
       "    .dataframe tbody tr th:only-of-type {\n",
       "        vertical-align: middle;\n",
       "    }\n",
       "\n",
       "    .dataframe tbody tr th {\n",
       "        vertical-align: top;\n",
       "    }\n",
       "\n",
       "    .dataframe thead th {\n",
       "        text-align: right;\n",
       "    }\n",
       "</style>\n",
       "<table border=\"1\" class=\"dataframe\">\n",
       "  <thead>\n",
       "    <tr style=\"text-align: right;\">\n",
       "      <th></th>\n",
       "      <th>URI</th>\n",
       "      <th>materialDesignation</th>\n",
       "    </tr>\n",
       "  </thead>\n",
       "  <tbody>\n",
       "    <tr>\n",
       "      <th>0</th>\n",
       "      <td>https://w3id.org/pmd/ao/tte/pmdao-tto-tt-S355-...</td>\n",
       "      <td>S355</td>\n",
       "    </tr>\n",
       "    <tr>\n",
       "      <th>1</th>\n",
       "      <td>https://w3id.org/pmd/ao/tte/pmdao-tto-tt-S355-...</td>\n",
       "      <td>S355</td>\n",
       "    </tr>\n",
       "  </tbody>\n",
       "</table>\n",
       "</div>"
      ],
      "text/plain": [
       "                                                 URI materialDesignation\n",
       "0  https://w3id.org/pmd/ao/tte/pmdao-tto-tt-S355-...                S355\n",
       "1  https://w3id.org/pmd/ao/tte/pmdao-tto-tt-S355-...                S355"
      ]
     },
     "execution_count": 11,
     "metadata": {},
     "output_type": "execute_result"
    }
   ],
   "source": [
    "matDes_results_rns.mpi_susmat.ontodocker_mpisusmat.pmdco2_tto_example_diagonal.result"
   ]
  },
  {
   "cell_type": "markdown",
   "id": "9176a52a-f961-490a-bdad-ee480b497bcd",
   "metadata": {},
   "source": [
    "Adjust `pandas` to improve readability:"
   ]
  },
  {
   "cell_type": "code",
   "execution_count": 12,
   "id": "c20bbea2-efbb-43e3-a642-2a2907d63dad",
   "metadata": {},
   "outputs": [
    {
     "data": {
      "text/html": [
       "<div>\n",
       "<style scoped>\n",
       "    .dataframe tbody tr th:only-of-type {\n",
       "        vertical-align: middle;\n",
       "    }\n",
       "\n",
       "    .dataframe tbody tr th {\n",
       "        vertical-align: top;\n",
       "    }\n",
       "\n",
       "    .dataframe thead th {\n",
       "        text-align: right;\n",
       "    }\n",
       "</style>\n",
       "<table border=\"1\" class=\"dataframe\">\n",
       "  <thead>\n",
       "    <tr style=\"text-align: left;\">\n",
       "      <th></th>\n",
       "      <th>URI</th>\n",
       "      <th>materialDesignation</th>\n",
       "    </tr>\n",
       "  </thead>\n",
       "  <tbody>\n",
       "    <tr>\n",
       "      <th>0</th>\n",
       "      <td>https://w3id.org/pmd/ao/tte/pmdao-tto-tt-S355-10_process</td>\n",
       "      <td>S355</td>\n",
       "    </tr>\n",
       "    <tr>\n",
       "      <th>1</th>\n",
       "      <td>https://w3id.org/pmd/ao/tte/pmdao-tto-tt-S355-9_process</td>\n",
       "      <td>S355</td>\n",
       "    </tr>\n",
       "  </tbody>\n",
       "</table>\n",
       "</div>"
      ],
      "text/plain": [
       "  URI                                                       materialDesignation\n",
       "0  https://w3id.org/pmd/ao/tte/pmdao-tto-tt-S355-10_process  S355              \n",
       "1   https://w3id.org/pmd/ao/tte/pmdao-tto-tt-S355-9_process  S355              "
      ]
     },
     "execution_count": 12,
     "metadata": {},
     "output_type": "execute_result"
    }
   ],
   "source": [
    "import pandas as pd\n",
    "pd.set_option('display.max_colwidth', None)\n",
    "pd.set_option('display.colheader_justify', 'left')\n",
    "pd.set_option('display.width', 200)\n",
    "\n",
    "matDes_results_rns.mpi_susmat.ontodocker_mpisusmat.pmdco2_tto_example_diagonal.result"
   ]
  },
  {
   "cell_type": "markdown",
   "id": "f3b46765-0224-4954-9270-fc872693d2d6",
   "metadata": {},
   "source": [
    "## The actual exploration:\n",
    "### 1.) What material was tested?"
   ]
  },
  {
   "cell_type": "code",
   "execution_count": 13,
   "id": "dbf44ec9-85bb-428a-af01-5ae23d97ec80",
   "metadata": {},
   "outputs": [
    {
     "name": "stdout",
     "output_type": "stream",
     "text": [
      "Sending query to \"http://ontodocker.iwm.pmd.internal/api/v1/jena/pmdco2_tto_example_parallel/sparql\". Result:\n",
      "  URI                                                      materialDesignation\n",
      "0  https://w3id.org/pmd/ao/tte/pmdao-tto-tt-S355-1_process  S355              \n",
      "1  https://w3id.org/pmd/ao/tte/pmdao-tto-tt-S355-2_process  S355              \n",
      "2  https://w3id.org/pmd/ao/tte/pmdao-tto-tt-S355-3_process  S355              \n",
      "3  https://w3id.org/pmd/ao/tte/pmdao-tto-tt-S355-4_process  S355              \n",
      "\n",
      "Sending query to \"https://ontodocker.iwt.pmd.internal/api/v1/jena/pmdco2_tto_example_perpendicular/sparql\". Result:\n",
      "  URI                                                      materialDesignation\n",
      "0  https://w3id.org/pmd/ao/tte/pmdao-tto-tt-S355-5_process  S355              \n",
      "1  https://w3id.org/pmd/ao/tte/pmdao-tto-tt-S355-6_process  S355              \n",
      "2  https://w3id.org/pmd/ao/tte/pmdao-tto-tt-S355-7_process  S355              \n",
      "3  https://w3id.org/pmd/ao/tte/pmdao-tto-tt-S355-8_process  S355              \n",
      "\n",
      "Sending query to \"http://ontodocker.mpi-susmat.pmd.internal/api/v1/jena/pmdco2_tto_example_diagonal/sparql\". Result:\n",
      "  URI                                                       materialDesignation\n",
      "0  https://w3id.org/pmd/ao/tte/pmdao-tto-tt-S355-10_process  S355              \n",
      "1   https://w3id.org/pmd/ao/tte/pmdao-tto-tt-S355-9_process  S355              \n",
      "\n"
     ]
    }
   ],
   "source": [
    "query = queries.material_designation()\n",
    "material_designation_results = helpers.federated_query(partners, datasets, query.query, query.columns, print_to_screen=True)\n",
    "material_designation_results_rns = helpers.RecursiveNamespace(**material_designation_results)"
   ]
  },
  {
   "cell_type": "markdown",
   "id": "95ded5c6-5b1d-40ce-add3-aa64fa9081ab",
   "metadata": {},
   "source": [
    "### 2.) What processes were performed on the specimen? "
   ]
  },
  {
   "cell_type": "code",
   "execution_count": 14,
   "id": "dcd5559e-eccb-4a1f-ba37-b26c2a95e191",
   "metadata": {},
   "outputs": [
    {
     "name": "stdout",
     "output_type": "stream",
     "text": [
      "Sending query to \"http://ontodocker.iwm.pmd.internal/api/v1/jena/pmdco2_tto_example_parallel/sparql\". Result:\n",
      "  URI                                                      Process type                        \n",
      "0  https://w3id.org/pmd/ao/tte/pmdao-tto-tt-S355-1_process  https://w3id.org/pmd/co/TensileTest\n",
      "1  https://w3id.org/pmd/ao/tte/pmdao-tto-tt-S355-2_process  https://w3id.org/pmd/co/TensileTest\n",
      "2  https://w3id.org/pmd/ao/tte/pmdao-tto-tt-S355-3_process  https://w3id.org/pmd/co/TensileTest\n",
      "3  https://w3id.org/pmd/ao/tte/pmdao-tto-tt-S355-4_process  https://w3id.org/pmd/co/TensileTest\n",
      "\n",
      "Sending query to \"https://ontodocker.iwt.pmd.internal/api/v1/jena/pmdco2_tto_example_perpendicular/sparql\". Result:\n",
      "  URI                                                      Process type                        \n",
      "0  https://w3id.org/pmd/ao/tte/pmdao-tto-tt-S355-5_process  https://w3id.org/pmd/co/TensileTest\n",
      "1  https://w3id.org/pmd/ao/tte/pmdao-tto-tt-S355-6_process  https://w3id.org/pmd/co/TensileTest\n",
      "2  https://w3id.org/pmd/ao/tte/pmdao-tto-tt-S355-7_process  https://w3id.org/pmd/co/TensileTest\n",
      "3  https://w3id.org/pmd/ao/tte/pmdao-tto-tt-S355-8_process  https://w3id.org/pmd/co/TensileTest\n",
      "\n",
      "Sending query to \"http://ontodocker.mpi-susmat.pmd.internal/api/v1/jena/pmdco2_tto_example_diagonal/sparql\". Result:\n",
      "  URI                                                       Process type                        \n",
      "0  https://w3id.org/pmd/ao/tte/pmdao-tto-tt-S355-10_process  https://w3id.org/pmd/co/TensileTest\n",
      "1   https://w3id.org/pmd/ao/tte/pmdao-tto-tt-S355-9_process  https://w3id.org/pmd/co/TensileTest\n",
      "\n"
     ]
    }
   ],
   "source": [
    "query = queries.process_type()\n",
    "process_type_results = helpers.federated_query(partners, datasets, query.query, query.columns, print_to_screen=True)\n",
    "process_type_results_rns = helpers.RecursiveNamespace(**process_type_results)"
   ]
  },
  {
   "cell_type": "markdown",
   "id": "f097b7f4-8369-46d0-874b-437e8bd43648",
   "metadata": {},
   "source": [
    "### 3.) In what orientation relative to the rolling direction was each specimen cut?"
   ]
  },
  {
   "cell_type": "code",
   "execution_count": 15,
   "id": "5cd711b2-ba67-4ede-8154-3f3ada6533d4",
   "metadata": {},
   "outputs": [
    {
     "name": "stdout",
     "output_type": "stream",
     "text": [
      "Sending query to \"http://ontodocker.iwm.pmd.internal/api/v1/jena/pmdco2_tto_example_parallel/sparql\". Result:\n",
      "  URI                                                      cut orientation      \n",
      "0  https://w3id.org/pmd/ao/tte/pmdao-tto-tt-S355-1_process  in rolling direction\n",
      "1  https://w3id.org/pmd/ao/tte/pmdao-tto-tt-S355-2_process  in rolling direction\n",
      "2  https://w3id.org/pmd/ao/tte/pmdao-tto-tt-S355-3_process  in rolling direction\n",
      "3  https://w3id.org/pmd/ao/tte/pmdao-tto-tt-S355-4_process  in rolling direction\n",
      "\n",
      "Sending query to \"https://ontodocker.iwt.pmd.internal/api/v1/jena/pmdco2_tto_example_perpendicular/sparql\". Result:\n",
      "  URI                                                      cut orientation                    \n",
      "0  https://w3id.org/pmd/ao/tte/pmdao-tto-tt-S355-5_process  perpendicular to rolling direction\n",
      "1  https://w3id.org/pmd/ao/tte/pmdao-tto-tt-S355-6_process  perpendicular to rolling direction\n",
      "2  https://w3id.org/pmd/ao/tte/pmdao-tto-tt-S355-7_process  perpendicular to rolling direction\n",
      "3  https://w3id.org/pmd/ao/tte/pmdao-tto-tt-S355-8_process  perpendicular to rolling direction\n",
      "\n",
      "Sending query to \"http://ontodocker.mpi-susmat.pmd.internal/api/v1/jena/pmdco2_tto_example_diagonal/sparql\". Result:\n",
      "  URI                                                       cut orientation               \n",
      "0  https://w3id.org/pmd/ao/tte/pmdao-tto-tt-S355-10_process  diagonal to rolling direction\n",
      "1   https://w3id.org/pmd/ao/tte/pmdao-tto-tt-S355-9_process  diagonal to rolling direction\n",
      "\n"
     ]
    }
   ],
   "source": [
    "query = queries.orientation()\n",
    "orientation_results = helpers.federated_query(partners, datasets, query.query, query.columns, print_to_screen=True)\n",
    "orientation_results_rns = helpers.RecursiveNamespace(**orientation_results)"
   ]
  },
  {
   "cell_type": "markdown",
   "id": "df7ecfd0-68bb-49ea-ab42-30762005e49a",
   "metadata": {},
   "source": [
    "### 4.) Which device was used for the measurements?"
   ]
  },
  {
   "cell_type": "code",
   "execution_count": 16,
   "id": "fd62037e-a474-487d-b5ad-b5b2e3db22c1",
   "metadata": {},
   "outputs": [
    {
     "name": "stdout",
     "output_type": "stream",
     "text": [
      "Sending query to \"http://ontodocker.iwm.pmd.internal/api/v1/jena/pmdco2_tto_example_parallel/sparql\". Result:\n",
      "  URI                                                      Extensiometer model\n",
      "0  https://w3id.org/pmd/ao/tte/pmdao-tto-tt-S355-1_process  HBM               \n",
      "1  https://w3id.org/pmd/ao/tte/pmdao-tto-tt-S355-2_process  HBM               \n",
      "2  https://w3id.org/pmd/ao/tte/pmdao-tto-tt-S355-3_process  HBM               \n",
      "3  https://w3id.org/pmd/ao/tte/pmdao-tto-tt-S355-4_process  HBM               \n",
      "\n",
      "Sending query to \"https://ontodocker.iwt.pmd.internal/api/v1/jena/pmdco2_tto_example_perpendicular/sparql\". Result:\n",
      "  URI                                                      Extensiometer model\n",
      "0  https://w3id.org/pmd/ao/tte/pmdao-tto-tt-S355-5_process  HBM               \n",
      "1  https://w3id.org/pmd/ao/tte/pmdao-tto-tt-S355-6_process  HBM               \n",
      "2  https://w3id.org/pmd/ao/tte/pmdao-tto-tt-S355-7_process  HBM               \n",
      "3  https://w3id.org/pmd/ao/tte/pmdao-tto-tt-S355-8_process  HBM               \n",
      "\n",
      "Sending query to \"http://ontodocker.mpi-susmat.pmd.internal/api/v1/jena/pmdco2_tto_example_diagonal/sparql\". Result:\n",
      "  URI                                                       Extensiometer model\n",
      "0  https://w3id.org/pmd/ao/tte/pmdao-tto-tt-S355-10_process  HBM               \n",
      "1   https://w3id.org/pmd/ao/tte/pmdao-tto-tt-S355-9_process  HBM               \n",
      "\n"
     ]
    }
   ],
   "source": [
    "query = queries.extensiometer()\n",
    "extensiometer_results = helpers.federated_query(partners, datasets, query.query, query.columns, print_to_screen=True)\n",
    "extensiometer_results_rns = helpers.RecursiveNamespace(**extensiometer_results)"
   ]
  },
  {
   "cell_type": "markdown",
   "id": "930ae6a5-a005-4987-9ac1-a81392959cb8",
   "metadata": {},
   "source": [
    "### 5.) Which standard was applied?"
   ]
  },
  {
   "cell_type": "code",
   "execution_count": 17,
   "id": "59839076-53a4-4881-9e22-b3915eedaa3d",
   "metadata": {},
   "outputs": [
    {
     "name": "stdout",
     "output_type": "stream",
     "text": [
      "Sending query to \"http://ontodocker.iwm.pmd.internal/api/v1/jena/pmdco2_tto_example_parallel/sparql\". Result:\n",
      "  URI                                                      Extensiometer model Standard         \n",
      "0  https://w3id.org/pmd/ao/tte/pmdao-tto-tt-S355-1_process  HBM                 DIN EN ISO 17025\n",
      "1  https://w3id.org/pmd/ao/tte/pmdao-tto-tt-S355-2_process  HBM                 DIN EN ISO 17025\n",
      "2  https://w3id.org/pmd/ao/tte/pmdao-tto-tt-S355-3_process  HBM                 DIN EN ISO 17025\n",
      "3  https://w3id.org/pmd/ao/tte/pmdao-tto-tt-S355-4_process  HBM                 DIN EN ISO 17025\n",
      "\n",
      "Sending query to \"https://ontodocker.iwt.pmd.internal/api/v1/jena/pmdco2_tto_example_perpendicular/sparql\". Result:\n",
      "  URI                                                      Extensiometer model Standard         \n",
      "0  https://w3id.org/pmd/ao/tte/pmdao-tto-tt-S355-5_process  HBM                 DIN EN ISO 17025\n",
      "1  https://w3id.org/pmd/ao/tte/pmdao-tto-tt-S355-6_process  HBM                 DIN EN ISO 17025\n",
      "2  https://w3id.org/pmd/ao/tte/pmdao-tto-tt-S355-7_process  HBM                 DIN EN ISO 17025\n",
      "3  https://w3id.org/pmd/ao/tte/pmdao-tto-tt-S355-8_process  HBM                 DIN EN ISO 17025\n",
      "\n",
      "Sending query to \"http://ontodocker.mpi-susmat.pmd.internal/api/v1/jena/pmdco2_tto_example_diagonal/sparql\". Result:\n",
      "  URI                                                       Extensiometer model Standard         \n",
      "0  https://w3id.org/pmd/ao/tte/pmdao-tto-tt-S355-10_process  HBM                 DIN EN ISO 17025\n",
      "1   https://w3id.org/pmd/ao/tte/pmdao-tto-tt-S355-9_process  HBM                 DIN EN ISO 17025\n",
      "\n"
     ]
    }
   ],
   "source": [
    "query = queries.standard()\n",
    "standard_results = helpers.federated_query(partners, datasets, query.query, query.columns, print_to_screen=True)\n",
    "standard_results_rns = helpers.RecursiveNamespace(**standard_results)"
   ]
  },
  {
   "cell_type": "markdown",
   "id": "757d82d7-57ce-4d51-8679-03e02ef74296",
   "metadata": {},
   "source": [
    "### 6.) Which ID was assigned to the specimen?"
   ]
  },
  {
   "cell_type": "code",
   "execution_count": 18,
   "id": "2df22ccd-19c4-4738-a5d0-cc26f5585117",
   "metadata": {},
   "outputs": [
    {
     "name": "stdout",
     "output_type": "stream",
     "text": [
      "Sending query to \"http://ontodocker.iwm.pmd.internal/api/v1/jena/pmdco2_tto_example_parallel/sparql\". Result:\n",
      "  URI                                                      Specimen ID                                                 \n",
      "0  https://w3id.org/pmd/ao/tte/pmdao-tto-tt-S355-1_process  https://w3id.org/pmd/ao/tte/testpiece_name/Zx1testpiece/Zx1\n",
      "1  https://w3id.org/pmd/ao/tte/pmdao-tto-tt-S355-2_process  https://w3id.org/pmd/ao/tte/testpiece_name/Zx2testpiece/Zx2\n",
      "2  https://w3id.org/pmd/ao/tte/pmdao-tto-tt-S355-3_process  https://w3id.org/pmd/ao/tte/testpiece_name/Zx3testpiece/Zx3\n",
      "3  https://w3id.org/pmd/ao/tte/pmdao-tto-tt-S355-4_process  https://w3id.org/pmd/ao/tte/testpiece_name/Zx4testpiece/Zx4\n",
      "\n",
      "Sending query to \"https://ontodocker.iwt.pmd.internal/api/v1/jena/pmdco2_tto_example_perpendicular/sparql\". Result:\n",
      "  URI                                                      Specimen ID                                                 \n",
      "0  https://w3id.org/pmd/ao/tte/pmdao-tto-tt-S355-5_process  https://w3id.org/pmd/ao/tte/testpiece_name/Zy1testpiece/Zy1\n",
      "1  https://w3id.org/pmd/ao/tte/pmdao-tto-tt-S355-6_process  https://w3id.org/pmd/ao/tte/testpiece_name/Zy2testpiece/Zy2\n",
      "2  https://w3id.org/pmd/ao/tte/pmdao-tto-tt-S355-7_process  https://w3id.org/pmd/ao/tte/testpiece_name/Zy3testpiece/Zy3\n",
      "3  https://w3id.org/pmd/ao/tte/pmdao-tto-tt-S355-8_process  https://w3id.org/pmd/ao/tte/testpiece_name/Zy4testpiece/Zy4\n",
      "\n",
      "Sending query to \"http://ontodocker.mpi-susmat.pmd.internal/api/v1/jena/pmdco2_tto_example_diagonal/sparql\". Result:\n",
      "  URI                                                       Specimen ID                                                 \n",
      "0  https://w3id.org/pmd/ao/tte/pmdao-tto-tt-S355-10_process  https://w3id.org/pmd/ao/tte/testpiece_name/Zd3testpiece/Zd3\n",
      "1   https://w3id.org/pmd/ao/tte/pmdao-tto-tt-S355-9_process  https://w3id.org/pmd/ao/tte/testpiece_name/Zd2testpiece/Zd2\n",
      "\n"
     ]
    }
   ],
   "source": [
    "query = queries.specimen_id()\n",
    "specimen_id_results = helpers.federated_query(partners, datasets, query.query, query.columns, print_to_screen=True)\n",
    "specimen_id_results_rns = helpers.RecursiveNamespace(**specimen_id_results)"
   ]
  },
  {
   "cell_type": "markdown",
   "id": "162069d6-3038-45d5-818a-c95d4d3a32c6",
   "metadata": {},
   "source": [
    "### 7.) For each process, show the URL to the data file."
   ]
  },
  {
   "cell_type": "code",
   "execution_count": 19,
   "id": "e0f50680-68a2-4a3d-b4e7-e9bc9b7a3ed8",
   "metadata": {},
   "outputs": [
    {
     "name": "stdout",
     "output_type": "stream",
     "text": [
      "Sending query to \"http://ontodocker.iwm.pmd.internal/api/v1/jena/pmdco2_tto_example_parallel/sparql\". Result:\n",
      "  URI                                                      URL                                                                                                                     \n",
      "0  https://w3id.org/pmd/ao/tte/pmdao-tto-tt-S355-1_process  https://github.com/materialdigital/application-ontologies/tree/main/tensile_test_ontology_TTO/data/primary_data/Zx1.csv\n",
      "1  https://w3id.org/pmd/ao/tte/pmdao-tto-tt-S355-2_process  https://github.com/materialdigital/application-ontologies/tree/main/tensile_test_ontology_TTO/data/primary_data/Zx2.csv\n",
      "2  https://w3id.org/pmd/ao/tte/pmdao-tto-tt-S355-3_process  https://github.com/materialdigital/application-ontologies/tree/main/tensile_test_ontology_TTO/data/primary_data/Zx3.csv\n",
      "3  https://w3id.org/pmd/ao/tte/pmdao-tto-tt-S355-4_process  https://github.com/materialdigital/application-ontologies/tree/main/tensile_test_ontology_TTO/data/primary_data/Zx4.csv\n",
      "\n",
      "Sending query to \"https://ontodocker.iwt.pmd.internal/api/v1/jena/pmdco2_tto_example_perpendicular/sparql\". Result:\n",
      "  URI                                                      URL                                                                                                                     \n",
      "0  https://w3id.org/pmd/ao/tte/pmdao-tto-tt-S355-5_process  https://github.com/materialdigital/application-ontologies/tree/main/tensile_test_ontology_TTO/data/primary_data/Zy1.csv\n",
      "1  https://w3id.org/pmd/ao/tte/pmdao-tto-tt-S355-6_process  https://github.com/materialdigital/application-ontologies/tree/main/tensile_test_ontology_TTO/data/primary_data/Zy2.csv\n",
      "2  https://w3id.org/pmd/ao/tte/pmdao-tto-tt-S355-7_process  https://github.com/materialdigital/application-ontologies/tree/main/tensile_test_ontology_TTO/data/primary_data/Zy3.csv\n",
      "3  https://w3id.org/pmd/ao/tte/pmdao-tto-tt-S355-8_process  https://github.com/materialdigital/application-ontologies/tree/main/tensile_test_ontology_TTO/data/primary_data/Zy4.csv\n",
      "\n",
      "Sending query to \"http://ontodocker.mpi-susmat.pmd.internal/api/v1/jena/pmdco2_tto_example_diagonal/sparql\". Result:\n",
      "  URI                                                       URL                                                                                                                     \n",
      "0  https://w3id.org/pmd/ao/tte/pmdao-tto-tt-S355-10_process  https://github.com/materialdigital/application-ontologies/tree/main/tensile_test_ontology_TTO/data/primary_data/Zd3.csv\n",
      "1   https://w3id.org/pmd/ao/tte/pmdao-tto-tt-S355-9_process  https://github.com/materialdigital/application-ontologies/tree/main/tensile_test_ontology_TTO/data/primary_data/Zd2.csv\n",
      "\n"
     ]
    }
   ],
   "source": [
    "query = queries.csv_url()\n",
    "csv_url_results = helpers.federated_query(partners, datasets, query.query, query.columns, print_to_screen=True)\n",
    "csv_url_results_rns = helpers.RecursiveNamespace(**csv_url_results)"
   ]
  },
  {
   "cell_type": "markdown",
   "id": "f6d356e2-35ab-4f49-b6ed-e8d09350e550",
   "metadata": {},
   "source": [
    "## Other data: `PrimaryData`, `SecondaryData` and `MetaData`"
   ]
  },
  {
   "cell_type": "markdown",
   "id": "3aacb340-ec65-46c9-8a66-808e68e8d17f",
   "metadata": {},
   "source": [
    "### 8.) `PrimaryData`\n",
    "Data acquired before / after a process either refering to the geometry (e.g. width) of the specimen or as a register of the setup (e.g. original gauge length)."
   ]
  },
  {
   "cell_type": "code",
   "execution_count": 20,
   "id": "2d3cc06a-e38b-4164-abc1-3e4450c4eef3",
   "metadata": {},
   "outputs": [
    {
     "name": "stdout",
     "output_type": "stream",
     "text": [
      "Sending query to \"http://ontodocker.iwm.pmd.internal/api/v1/jena/pmdco2_tto_example_parallel/sparql\". Result:\n",
      "   URI                                                      Quantity                                                                          value    unit                               \n",
      "0   https://w3id.org/pmd/ao/tte/pmdao-tto-tt-S355-1_process               https://w3id.org/pmd/ao/tte/pmdao-tto-tt-S355-1_crossSectionArea_S0  120.636  http://qudt.org/vocab/unit/MilliM2\n",
      "1   https://w3id.org/pmd/ao/tte/pmdao-tto-tt-S355-1_process               https://w3id.org/pmd/ao/tte/pmdao-tto-tt-S355-1_crossSectionArea_Su   52.659  http://qudt.org/vocab/unit/MilliM2\n",
      "2   https://w3id.org/pmd/ao/tte/pmdao-tto-tt-S355-1_process               https://w3id.org/pmd/ao/tte/pmdao-tto-tt-S355-1_crossSectionArea_s1  120.675  http://qudt.org/vocab/unit/MilliM2\n",
      "3   https://w3id.org/pmd/ao/tte/pmdao-tto-tt-S355-1_process               https://w3id.org/pmd/ao/tte/pmdao-tto-tt-S355-1_crossSectionArea_s2  120.608  http://qudt.org/vocab/unit/MilliM2\n",
      "4   https://w3id.org/pmd/ao/tte/pmdao-tto-tt-S355-1_process               https://w3id.org/pmd/ao/tte/pmdao-tto-tt-S355-1_crossSectionArea_s3  120.625  http://qudt.org/vocab/unit/MilliM2\n",
      "5   https://w3id.org/pmd/ao/tte/pmdao-tto-tt-S355-1_process  https://w3id.org/pmd/ao/tte/pmdao-tto-tt-S355-1_finalGaugeLengthAfterFracture_Lu      NaN   http://qudt.org/vocab/unit/MilliM\n",
      "6   https://w3id.org/pmd/ao/tte/pmdao-tto-tt-S355-1_process            https://w3id.org/pmd/ao/tte/pmdao-tto-tt-S355-1_originalGaugeLength_L0     60.0   http://qudt.org/vocab/unit/MilliM\n",
      "7   https://w3id.org/pmd/ao/tte/pmdao-tto-tt-S355-1_process         https://w3id.org/pmd/ao/tte/pmdao-tto-tt-S355-1_thicknessAfterFracture_au     3.52   http://qudt.org/vocab/unit/MilliM\n",
      "8   https://w3id.org/pmd/ao/tte/pmdao-tto-tt-S355-1_process                      https://w3id.org/pmd/ao/tte/pmdao-tto-tt-S355-1_thickness_a1    5.993   http://qudt.org/vocab/unit/MilliM\n",
      "9   https://w3id.org/pmd/ao/tte/pmdao-tto-tt-S355-1_process                      https://w3id.org/pmd/ao/tte/pmdao-tto-tt-S355-1_thickness_a2    5.987   http://qudt.org/vocab/unit/MilliM\n",
      "10  https://w3id.org/pmd/ao/tte/pmdao-tto-tt-S355-1_process                      https://w3id.org/pmd/ao/tte/pmdao-tto-tt-S355-1_thickness_a3    5.992   http://qudt.org/vocab/unit/MilliM\n",
      "11  https://w3id.org/pmd/ao/tte/pmdao-tto-tt-S355-1_process             https://w3id.org/pmd/ao/tte/pmdao-tto-tt-S355-1_widthAfterFracture_bu    14.96   http://qudt.org/vocab/unit/MilliM\n",
      "12  https://w3id.org/pmd/ao/tte/pmdao-tto-tt-S355-1_process                          https://w3id.org/pmd/ao/tte/pmdao-tto-tt-S355-1_width_b1   20.136   http://qudt.org/vocab/unit/MilliM\n",
      "13  https://w3id.org/pmd/ao/tte/pmdao-tto-tt-S355-1_process                          https://w3id.org/pmd/ao/tte/pmdao-tto-tt-S355-1_width_b2   20.145   http://qudt.org/vocab/unit/MilliM\n",
      "14  https://w3id.org/pmd/ao/tte/pmdao-tto-tt-S355-1_process                          https://w3id.org/pmd/ao/tte/pmdao-tto-tt-S355-1_width_b3   20.131   http://qudt.org/vocab/unit/MilliM\n",
      "15  https://w3id.org/pmd/ao/tte/pmdao-tto-tt-S355-2_process               https://w3id.org/pmd/ao/tte/pmdao-tto-tt-S355-2_crossSectionArea_S0  120.444  http://qudt.org/vocab/unit/MilliM2\n",
      "16  https://w3id.org/pmd/ao/tte/pmdao-tto-tt-S355-2_process               https://w3id.org/pmd/ao/tte/pmdao-tto-tt-S355-2_crossSectionArea_Su   49.585  http://qudt.org/vocab/unit/MilliM2\n",
      "17  https://w3id.org/pmd/ao/tte/pmdao-tto-tt-S355-2_process               https://w3id.org/pmd/ao/tte/pmdao-tto-tt-S355-2_crossSectionArea_s1  120.503  http://qudt.org/vocab/unit/MilliM2\n",
      "18  https://w3id.org/pmd/ao/tte/pmdao-tto-tt-S355-2_process               https://w3id.org/pmd/ao/tte/pmdao-tto-tt-S355-2_crossSectionArea_s2  120.425  http://qudt.org/vocab/unit/MilliM2\n",
      "19  https://w3id.org/pmd/ao/tte/pmdao-tto-tt-S355-2_process               https://w3id.org/pmd/ao/tte/pmdao-tto-tt-S355-2_crossSectionArea_s3  120.403  http://qudt.org/vocab/unit/MilliM2\n",
      "20  https://w3id.org/pmd/ao/tte/pmdao-tto-tt-S355-2_process  https://w3id.org/pmd/ao/tte/pmdao-tto-tt-S355-2_finalGaugeLengthAfterFracture_Lu     81.0   http://qudt.org/vocab/unit/MilliM\n",
      "21  https://w3id.org/pmd/ao/tte/pmdao-tto-tt-S355-2_process            https://w3id.org/pmd/ao/tte/pmdao-tto-tt-S355-2_originalGaugeLength_L0     60.0   http://qudt.org/vocab/unit/MilliM\n",
      "22  https://w3id.org/pmd/ao/tte/pmdao-tto-tt-S355-2_process         https://w3id.org/pmd/ao/tte/pmdao-tto-tt-S355-2_thicknessAfterFracture_au     3.38   http://qudt.org/vocab/unit/MilliM\n",
      "23  https://w3id.org/pmd/ao/tte/pmdao-tto-tt-S355-2_process                      https://w3id.org/pmd/ao/tte/pmdao-tto-tt-S355-2_thickness_a1    5.991   http://qudt.org/vocab/unit/MilliM\n",
      "24  https://w3id.org/pmd/ao/tte/pmdao-tto-tt-S355-2_process                      https://w3id.org/pmd/ao/tte/pmdao-tto-tt-S355-2_thickness_a2    5.991   http://qudt.org/vocab/unit/MilliM\n",
      "25  https://w3id.org/pmd/ao/tte/pmdao-tto-tt-S355-2_process                      https://w3id.org/pmd/ao/tte/pmdao-tto-tt-S355-2_thickness_a3    5.992   http://qudt.org/vocab/unit/MilliM\n",
      "26  https://w3id.org/pmd/ao/tte/pmdao-tto-tt-S355-2_process             https://w3id.org/pmd/ao/tte/pmdao-tto-tt-S355-2_widthAfterFracture_bu    14.67   http://qudt.org/vocab/unit/MilliM\n",
      "27  https://w3id.org/pmd/ao/tte/pmdao-tto-tt-S355-2_process                          https://w3id.org/pmd/ao/tte/pmdao-tto-tt-S355-2_width_b1   20.114   http://qudt.org/vocab/unit/MilliM\n",
      "28  https://w3id.org/pmd/ao/tte/pmdao-tto-tt-S355-2_process                          https://w3id.org/pmd/ao/tte/pmdao-tto-tt-S355-2_width_b2   20.101   http://qudt.org/vocab/unit/MilliM\n",
      "29  https://w3id.org/pmd/ao/tte/pmdao-tto-tt-S355-2_process                          https://w3id.org/pmd/ao/tte/pmdao-tto-tt-S355-2_width_b3   20.094   http://qudt.org/vocab/unit/MilliM\n",
      "30  https://w3id.org/pmd/ao/tte/pmdao-tto-tt-S355-3_process               https://w3id.org/pmd/ao/tte/pmdao-tto-tt-S355-3_crossSectionArea_S0  120.396  http://qudt.org/vocab/unit/MilliM2\n",
      "31  https://w3id.org/pmd/ao/tte/pmdao-tto-tt-S355-3_process               https://w3id.org/pmd/ao/tte/pmdao-tto-tt-S355-3_crossSectionArea_Su   50.502  http://qudt.org/vocab/unit/MilliM2\n",
      "32  https://w3id.org/pmd/ao/tte/pmdao-tto-tt-S355-3_process               https://w3id.org/pmd/ao/tte/pmdao-tto-tt-S355-3_crossSectionArea_s1  120.323  http://qudt.org/vocab/unit/MilliM2\n",
      "33  https://w3id.org/pmd/ao/tte/pmdao-tto-tt-S355-3_process               https://w3id.org/pmd/ao/tte/pmdao-tto-tt-S355-3_crossSectionArea_s2  120.431  http://qudt.org/vocab/unit/MilliM2\n",
      "34  https://w3id.org/pmd/ao/tte/pmdao-tto-tt-S355-3_process               https://w3id.org/pmd/ao/tte/pmdao-tto-tt-S355-3_crossSectionArea_s3  120.433  http://qudt.org/vocab/unit/MilliM2\n",
      "35  https://w3id.org/pmd/ao/tte/pmdao-tto-tt-S355-3_process  https://w3id.org/pmd/ao/tte/pmdao-tto-tt-S355-3_finalGaugeLengthAfterFracture_Lu     81.1   http://qudt.org/vocab/unit/MilliM\n",
      "36  https://w3id.org/pmd/ao/tte/pmdao-tto-tt-S355-3_process            https://w3id.org/pmd/ao/tte/pmdao-tto-tt-S355-3_originalGaugeLength_L0     60.0   http://qudt.org/vocab/unit/MilliM\n",
      "37  https://w3id.org/pmd/ao/tte/pmdao-tto-tt-S355-3_process         https://w3id.org/pmd/ao/tte/pmdao-tto-tt-S355-3_thicknessAfterFracture_au     3.41   http://qudt.org/vocab/unit/MilliM\n",
      "38  https://w3id.org/pmd/ao/tte/pmdao-tto-tt-S355-3_process                      https://w3id.org/pmd/ao/tte/pmdao-tto-tt-S355-3_thickness_a1    5.991   http://qudt.org/vocab/unit/MilliM\n",
      "39  https://w3id.org/pmd/ao/tte/pmdao-tto-tt-S355-3_process                      https://w3id.org/pmd/ao/tte/pmdao-tto-tt-S355-3_thickness_a2    5.994   http://qudt.org/vocab/unit/MilliM\n",
      "40  https://w3id.org/pmd/ao/tte/pmdao-tto-tt-S355-3_process                      https://w3id.org/pmd/ao/tte/pmdao-tto-tt-S355-3_thickness_a3    5.992   http://qudt.org/vocab/unit/MilliM\n",
      "41  https://w3id.org/pmd/ao/tte/pmdao-tto-tt-S355-3_process             https://w3id.org/pmd/ao/tte/pmdao-tto-tt-S355-3_widthAfterFracture_bu    14.81   http://qudt.org/vocab/unit/MilliM\n",
      "42  https://w3id.org/pmd/ao/tte/pmdao-tto-tt-S355-3_process                          https://w3id.org/pmd/ao/tte/pmdao-tto-tt-S355-3_width_b1   20.084   http://qudt.org/vocab/unit/MilliM\n",
      "43  https://w3id.org/pmd/ao/tte/pmdao-tto-tt-S355-3_process                          https://w3id.org/pmd/ao/tte/pmdao-tto-tt-S355-3_width_b2   20.092   http://qudt.org/vocab/unit/MilliM\n",
      "44  https://w3id.org/pmd/ao/tte/pmdao-tto-tt-S355-3_process                          https://w3id.org/pmd/ao/tte/pmdao-tto-tt-S355-3_width_b3   20.099   http://qudt.org/vocab/unit/MilliM\n",
      "45  https://w3id.org/pmd/ao/tte/pmdao-tto-tt-S355-4_process               https://w3id.org/pmd/ao/tte/pmdao-tto-tt-S355-4_crossSectionArea_S0  120.014  http://qudt.org/vocab/unit/MilliM2\n",
      "46  https://w3id.org/pmd/ao/tte/pmdao-tto-tt-S355-4_process               https://w3id.org/pmd/ao/tte/pmdao-tto-tt-S355-4_crossSectionArea_Su   47.382  http://qudt.org/vocab/unit/MilliM2\n",
      "47  https://w3id.org/pmd/ao/tte/pmdao-tto-tt-S355-4_process               https://w3id.org/pmd/ao/tte/pmdao-tto-tt-S355-4_crossSectionArea_s1  120.095  http://qudt.org/vocab/unit/MilliM2\n",
      "48  https://w3id.org/pmd/ao/tte/pmdao-tto-tt-S355-4_process               https://w3id.org/pmd/ao/tte/pmdao-tto-tt-S355-4_crossSectionArea_s2   119.99  http://qudt.org/vocab/unit/MilliM2\n",
      "49  https://w3id.org/pmd/ao/tte/pmdao-tto-tt-S355-4_process               https://w3id.org/pmd/ao/tte/pmdao-tto-tt-S355-4_crossSectionArea_s3  119.958  http://qudt.org/vocab/unit/MilliM2\n",
      "50  https://w3id.org/pmd/ao/tte/pmdao-tto-tt-S355-4_process  https://w3id.org/pmd/ao/tte/pmdao-tto-tt-S355-4_finalGaugeLengthAfterFracture_Lu     80.9   http://qudt.org/vocab/unit/MilliM\n",
      "51  https://w3id.org/pmd/ao/tte/pmdao-tto-tt-S355-4_process            https://w3id.org/pmd/ao/tte/pmdao-tto-tt-S355-4_originalGaugeLength_L0     60.0   http://qudt.org/vocab/unit/MilliM\n",
      "52  https://w3id.org/pmd/ao/tte/pmdao-tto-tt-S355-4_process         https://w3id.org/pmd/ao/tte/pmdao-tto-tt-S355-4_thicknessAfterFracture_au     3.27   http://qudt.org/vocab/unit/MilliM\n",
      "53  https://w3id.org/pmd/ao/tte/pmdao-tto-tt-S355-4_process                      https://w3id.org/pmd/ao/tte/pmdao-tto-tt-S355-4_thickness_a1    5.982   http://qudt.org/vocab/unit/MilliM\n",
      "54  https://w3id.org/pmd/ao/tte/pmdao-tto-tt-S355-4_process                      https://w3id.org/pmd/ao/tte/pmdao-tto-tt-S355-4_thickness_a2    5.978   http://qudt.org/vocab/unit/MilliM\n",
      "55  https://w3id.org/pmd/ao/tte/pmdao-tto-tt-S355-4_process                      https://w3id.org/pmd/ao/tte/pmdao-tto-tt-S355-4_thickness_a3    5.977   http://qudt.org/vocab/unit/MilliM\n",
      "56  https://w3id.org/pmd/ao/tte/pmdao-tto-tt-S355-4_process             https://w3id.org/pmd/ao/tte/pmdao-tto-tt-S355-4_widthAfterFracture_bu    14.49   http://qudt.org/vocab/unit/MilliM\n",
      "57  https://w3id.org/pmd/ao/tte/pmdao-tto-tt-S355-4_process                          https://w3id.org/pmd/ao/tte/pmdao-tto-tt-S355-4_width_b1   20.076   http://qudt.org/vocab/unit/MilliM\n",
      "58  https://w3id.org/pmd/ao/tte/pmdao-tto-tt-S355-4_process                          https://w3id.org/pmd/ao/tte/pmdao-tto-tt-S355-4_width_b2   20.072   http://qudt.org/vocab/unit/MilliM\n",
      "59  https://w3id.org/pmd/ao/tte/pmdao-tto-tt-S355-4_process                          https://w3id.org/pmd/ao/tte/pmdao-tto-tt-S355-4_width_b3   45.127   http://qudt.org/vocab/unit/MilliM\n",
      "\n",
      "Sending query to \"https://ontodocker.iwt.pmd.internal/api/v1/jena/pmdco2_tto_example_perpendicular/sparql\". Result:\n",
      "   URI                                                      Quantity                                                                          value    unit                               \n",
      "0   https://w3id.org/pmd/ao/tte/pmdao-tto-tt-S355-5_process               https://w3id.org/pmd/ao/tte/pmdao-tto-tt-S355-5_crossSectionArea_S0  120.679  http://qudt.org/vocab/unit/MilliM2\n",
      "1   https://w3id.org/pmd/ao/tte/pmdao-tto-tt-S355-5_process               https://w3id.org/pmd/ao/tte/pmdao-tto-tt-S355-5_crossSectionArea_Su   56.039  http://qudt.org/vocab/unit/MilliM2\n",
      "2   https://w3id.org/pmd/ao/tte/pmdao-tto-tt-S355-5_process               https://w3id.org/pmd/ao/tte/pmdao-tto-tt-S355-5_crossSectionArea_s1  120.774  http://qudt.org/vocab/unit/MilliM2\n",
      "3   https://w3id.org/pmd/ao/tte/pmdao-tto-tt-S355-5_process               https://w3id.org/pmd/ao/tte/pmdao-tto-tt-S355-5_crossSectionArea_s2  120.637  http://qudt.org/vocab/unit/MilliM2\n",
      "4   https://w3id.org/pmd/ao/tte/pmdao-tto-tt-S355-5_process               https://w3id.org/pmd/ao/tte/pmdao-tto-tt-S355-5_crossSectionArea_s3  120.627  http://qudt.org/vocab/unit/MilliM2\n",
      "5   https://w3id.org/pmd/ao/tte/pmdao-tto-tt-S355-5_process  https://w3id.org/pmd/ao/tte/pmdao-tto-tt-S355-5_finalGaugeLengthAfterFracture_Lu      NaN   http://qudt.org/vocab/unit/MilliM\n",
      "6   https://w3id.org/pmd/ao/tte/pmdao-tto-tt-S355-5_process            https://w3id.org/pmd/ao/tte/pmdao-tto-tt-S355-5_originalGaugeLength_L0     60.0   http://qudt.org/vocab/unit/MilliM\n",
      "7   https://w3id.org/pmd/ao/tte/pmdao-tto-tt-S355-5_process         https://w3id.org/pmd/ao/tte/pmdao-tto-tt-S355-5_thicknessAfterFracture_au     3.82   http://qudt.org/vocab/unit/MilliM\n",
      "8   https://w3id.org/pmd/ao/tte/pmdao-tto-tt-S355-5_process                      https://w3id.org/pmd/ao/tte/pmdao-tto-tt-S355-5_thickness_a1      6.0   http://qudt.org/vocab/unit/MilliM\n",
      "9   https://w3id.org/pmd/ao/tte/pmdao-tto-tt-S355-5_process                      https://w3id.org/pmd/ao/tte/pmdao-tto-tt-S355-5_thickness_a2    5.992   http://qudt.org/vocab/unit/MilliM\n",
      "10  https://w3id.org/pmd/ao/tte/pmdao-tto-tt-S355-5_process                      https://w3id.org/pmd/ao/tte/pmdao-tto-tt-S355-5_thickness_a3    5.993   http://qudt.org/vocab/unit/MilliM\n",
      "11  https://w3id.org/pmd/ao/tte/pmdao-tto-tt-S355-5_process             https://w3id.org/pmd/ao/tte/pmdao-tto-tt-S355-5_widthAfterFracture_bu    14.67   http://qudt.org/vocab/unit/MilliM\n",
      "12  https://w3id.org/pmd/ao/tte/pmdao-tto-tt-S355-5_process                          https://w3id.org/pmd/ao/tte/pmdao-tto-tt-S355-5_width_b1   20.129   http://qudt.org/vocab/unit/MilliM\n",
      "13  https://w3id.org/pmd/ao/tte/pmdao-tto-tt-S355-5_process                          https://w3id.org/pmd/ao/tte/pmdao-tto-tt-S355-5_width_b2   20.133   http://qudt.org/vocab/unit/MilliM\n",
      "14  https://w3id.org/pmd/ao/tte/pmdao-tto-tt-S355-5_process                          https://w3id.org/pmd/ao/tte/pmdao-tto-tt-S355-5_width_b3   20.128   http://qudt.org/vocab/unit/MilliM\n",
      "15  https://w3id.org/pmd/ao/tte/pmdao-tto-tt-S355-6_process               https://w3id.org/pmd/ao/tte/pmdao-tto-tt-S355-6_crossSectionArea_S0   120.71  http://qudt.org/vocab/unit/MilliM2\n",
      "16  https://w3id.org/pmd/ao/tte/pmdao-tto-tt-S355-6_process               https://w3id.org/pmd/ao/tte/pmdao-tto-tt-S355-6_crossSectionArea_Su   53.435  http://qudt.org/vocab/unit/MilliM2\n",
      "17  https://w3id.org/pmd/ao/tte/pmdao-tto-tt-S355-6_process               https://w3id.org/pmd/ao/tte/pmdao-tto-tt-S355-6_crossSectionArea_s1  120.765  http://qudt.org/vocab/unit/MilliM2\n",
      "18  https://w3id.org/pmd/ao/tte/pmdao-tto-tt-S355-6_process               https://w3id.org/pmd/ao/tte/pmdao-tto-tt-S355-6_crossSectionArea_s2    120.6  http://qudt.org/vocab/unit/MilliM2\n",
      "19  https://w3id.org/pmd/ao/tte/pmdao-tto-tt-S355-6_process               https://w3id.org/pmd/ao/tte/pmdao-tto-tt-S355-6_crossSectionArea_s3  120.764  http://qudt.org/vocab/unit/MilliM2\n",
      "20  https://w3id.org/pmd/ao/tte/pmdao-tto-tt-S355-6_process  https://w3id.org/pmd/ao/tte/pmdao-tto-tt-S355-6_finalGaugeLengthAfterFracture_Lu     81.0   http://qudt.org/vocab/unit/MilliM\n",
      "21  https://w3id.org/pmd/ao/tte/pmdao-tto-tt-S355-6_process            https://w3id.org/pmd/ao/tte/pmdao-tto-tt-S355-6_originalGaugeLength_L0     60.0   http://qudt.org/vocab/unit/MilliM\n",
      "22  https://w3id.org/pmd/ao/tte/pmdao-tto-tt-S355-6_process         https://w3id.org/pmd/ao/tte/pmdao-tto-tt-S355-6_thicknessAfterFracture_au     3.64   http://qudt.org/vocab/unit/MilliM\n",
      "23  https://w3id.org/pmd/ao/tte/pmdao-tto-tt-S355-6_process                      https://w3id.org/pmd/ao/tte/pmdao-tto-tt-S355-6_thickness_a1    5.996   http://qudt.org/vocab/unit/MilliM\n",
      "24  https://w3id.org/pmd/ao/tte/pmdao-tto-tt-S355-6_process                      https://w3id.org/pmd/ao/tte/pmdao-tto-tt-S355-6_thickness_a2    5.989   http://qudt.org/vocab/unit/MilliM\n",
      "25  https://w3id.org/pmd/ao/tte/pmdao-tto-tt-S355-6_process                      https://w3id.org/pmd/ao/tte/pmdao-tto-tt-S355-6_thickness_a3    5.998   http://qudt.org/vocab/unit/MilliM\n",
      "26  https://w3id.org/pmd/ao/tte/pmdao-tto-tt-S355-6_process             https://w3id.org/pmd/ao/tte/pmdao-tto-tt-S355-6_widthAfterFracture_bu    14.68   http://qudt.org/vocab/unit/MilliM\n",
      "27  https://w3id.org/pmd/ao/tte/pmdao-tto-tt-S355-6_process                          https://w3id.org/pmd/ao/tte/pmdao-tto-tt-S355-6_width_b1   20.141   http://qudt.org/vocab/unit/MilliM\n",
      "28  https://w3id.org/pmd/ao/tte/pmdao-tto-tt-S355-6_process                          https://w3id.org/pmd/ao/tte/pmdao-tto-tt-S355-6_width_b2   20.137   http://qudt.org/vocab/unit/MilliM\n",
      "29  https://w3id.org/pmd/ao/tte/pmdao-tto-tt-S355-6_process                          https://w3id.org/pmd/ao/tte/pmdao-tto-tt-S355-6_width_b3   20.134   http://qudt.org/vocab/unit/MilliM\n",
      "30  https://w3id.org/pmd/ao/tte/pmdao-tto-tt-S355-7_process               https://w3id.org/pmd/ao/tte/pmdao-tto-tt-S355-7_crossSectionArea_S0  120.663  http://qudt.org/vocab/unit/MilliM2\n",
      "31  https://w3id.org/pmd/ao/tte/pmdao-tto-tt-S355-7_process               https://w3id.org/pmd/ao/tte/pmdao-tto-tt-S355-7_crossSectionArea_Su   50.365  http://qudt.org/vocab/unit/MilliM2\n",
      "32  https://w3id.org/pmd/ao/tte/pmdao-tto-tt-S355-7_process               https://w3id.org/pmd/ao/tte/pmdao-tto-tt-S355-7_crossSectionArea_s1  120.581  http://qudt.org/vocab/unit/MilliM2\n",
      "33  https://w3id.org/pmd/ao/tte/pmdao-tto-tt-S355-7_process               https://w3id.org/pmd/ao/tte/pmdao-tto-tt-S355-7_crossSectionArea_s2  120.581  http://qudt.org/vocab/unit/MilliM2\n",
      "34  https://w3id.org/pmd/ao/tte/pmdao-tto-tt-S355-7_process               https://w3id.org/pmd/ao/tte/pmdao-tto-tt-S355-7_crossSectionArea_s3  120.826  http://qudt.org/vocab/unit/MilliM2\n",
      "35  https://w3id.org/pmd/ao/tte/pmdao-tto-tt-S355-7_process  https://w3id.org/pmd/ao/tte/pmdao-tto-tt-S355-7_finalGaugeLengthAfterFracture_Lu    80.14   http://qudt.org/vocab/unit/MilliM\n",
      "36  https://w3id.org/pmd/ao/tte/pmdao-tto-tt-S355-7_process            https://w3id.org/pmd/ao/tte/pmdao-tto-tt-S355-7_originalGaugeLength_L0     60.0   http://qudt.org/vocab/unit/MilliM\n",
      "37  https://w3id.org/pmd/ao/tte/pmdao-tto-tt-S355-7_process         https://w3id.org/pmd/ao/tte/pmdao-tto-tt-S355-7_thicknessAfterFracture_au      3.5   http://qudt.org/vocab/unit/MilliM\n",
      "38  https://w3id.org/pmd/ao/tte/pmdao-tto-tt-S355-7_process                      https://w3id.org/pmd/ao/tte/pmdao-tto-tt-S355-7_thickness_a1    5.991   http://qudt.org/vocab/unit/MilliM\n",
      "39  https://w3id.org/pmd/ao/tte/pmdao-tto-tt-S355-7_process                      https://w3id.org/pmd/ao/tte/pmdao-tto-tt-S355-7_thickness_a2    5.991   http://qudt.org/vocab/unit/MilliM\n",
      "40  https://w3id.org/pmd/ao/tte/pmdao-tto-tt-S355-7_process                      https://w3id.org/pmd/ao/tte/pmdao-tto-tt-S355-7_thickness_a3    6.002   http://qudt.org/vocab/unit/MilliM\n",
      "41  https://w3id.org/pmd/ao/tte/pmdao-tto-tt-S355-7_process             https://w3id.org/pmd/ao/tte/pmdao-tto-tt-S355-7_widthAfterFracture_bu    14.39   http://qudt.org/vocab/unit/MilliM\n",
      "42  https://w3id.org/pmd/ao/tte/pmdao-tto-tt-S355-7_process                          https://w3id.org/pmd/ao/tte/pmdao-tto-tt-S355-7_width_b1   20.127   http://qudt.org/vocab/unit/MilliM\n",
      "43  https://w3id.org/pmd/ao/tte/pmdao-tto-tt-S355-7_process                          https://w3id.org/pmd/ao/tte/pmdao-tto-tt-S355-7_width_b2   20.127   http://qudt.org/vocab/unit/MilliM\n",
      "44  https://w3id.org/pmd/ao/tte/pmdao-tto-tt-S355-7_process                          https://w3id.org/pmd/ao/tte/pmdao-tto-tt-S355-7_width_b3   20.131   http://qudt.org/vocab/unit/MilliM\n",
      "45  https://w3id.org/pmd/ao/tte/pmdao-tto-tt-S355-8_process               https://w3id.org/pmd/ao/tte/pmdao-tto-tt-S355-8_crossSectionArea_S0  120.583  http://qudt.org/vocab/unit/MilliM2\n",
      "46  https://w3id.org/pmd/ao/tte/pmdao-tto-tt-S355-8_process               https://w3id.org/pmd/ao/tte/pmdao-tto-tt-S355-8_crossSectionArea_Su   54.132  http://qudt.org/vocab/unit/MilliM2\n",
      "47  https://w3id.org/pmd/ao/tte/pmdao-tto-tt-S355-8_process               https://w3id.org/pmd/ao/tte/pmdao-tto-tt-S355-8_crossSectionArea_s1  120.561  http://qudt.org/vocab/unit/MilliM2\n",
      "48  https://w3id.org/pmd/ao/tte/pmdao-tto-tt-S355-8_process               https://w3id.org/pmd/ao/tte/pmdao-tto-tt-S355-8_crossSectionArea_s2  120.501  http://qudt.org/vocab/unit/MilliM2\n",
      "49  https://w3id.org/pmd/ao/tte/pmdao-tto-tt-S355-8_process               https://w3id.org/pmd/ao/tte/pmdao-tto-tt-S355-8_crossSectionArea_s3  120.687  http://qudt.org/vocab/unit/MilliM2\n",
      "50  https://w3id.org/pmd/ao/tte/pmdao-tto-tt-S355-8_process  https://w3id.org/pmd/ao/tte/pmdao-tto-tt-S355-8_finalGaugeLengthAfterFracture_Lu    79.74   http://qudt.org/vocab/unit/MilliM\n",
      "51  https://w3id.org/pmd/ao/tte/pmdao-tto-tt-S355-8_process            https://w3id.org/pmd/ao/tte/pmdao-tto-tt-S355-8_originalGaugeLength_L0     60.0   http://qudt.org/vocab/unit/MilliM\n",
      "52  https://w3id.org/pmd/ao/tte/pmdao-tto-tt-S355-8_process         https://w3id.org/pmd/ao/tte/pmdao-tto-tt-S355-8_thicknessAfterFracture_au     3.69   http://qudt.org/vocab/unit/MilliM\n",
      "53  https://w3id.org/pmd/ao/tte/pmdao-tto-tt-S355-8_process                      https://w3id.org/pmd/ao/tte/pmdao-tto-tt-S355-8_thickness_a1    5.982   http://qudt.org/vocab/unit/MilliM\n",
      "54  https://w3id.org/pmd/ao/tte/pmdao-tto-tt-S355-8_process                      https://w3id.org/pmd/ao/tte/pmdao-tto-tt-S355-8_thickness_a2    5.979   http://qudt.org/vocab/unit/MilliM\n",
      "55  https://w3id.org/pmd/ao/tte/pmdao-tto-tt-S355-8_process                      https://w3id.org/pmd/ao/tte/pmdao-tto-tt-S355-8_thickness_a3     5.99   http://qudt.org/vocab/unit/MilliM\n",
      "56  https://w3id.org/pmd/ao/tte/pmdao-tto-tt-S355-8_process             https://w3id.org/pmd/ao/tte/pmdao-tto-tt-S355-8_widthAfterFracture_bu    14.67   http://qudt.org/vocab/unit/MilliM\n",
      "57  https://w3id.org/pmd/ao/tte/pmdao-tto-tt-S355-8_process                          https://w3id.org/pmd/ao/tte/pmdao-tto-tt-S355-8_width_b1   20.154   http://qudt.org/vocab/unit/MilliM\n",
      "58  https://w3id.org/pmd/ao/tte/pmdao-tto-tt-S355-8_process                          https://w3id.org/pmd/ao/tte/pmdao-tto-tt-S355-8_width_b2   20.154   http://qudt.org/vocab/unit/MilliM\n",
      "59  https://w3id.org/pmd/ao/tte/pmdao-tto-tt-S355-8_process                          https://w3id.org/pmd/ao/tte/pmdao-tto-tt-S355-8_width_b3   20.148   http://qudt.org/vocab/unit/MilliM\n",
      "\n",
      "Sending query to \"http://ontodocker.mpi-susmat.pmd.internal/api/v1/jena/pmdco2_tto_example_diagonal/sparql\". Result:\n",
      "   URI                                                       Quantity                                                                           value    unit                               \n",
      "0   https://w3id.org/pmd/ao/tte/pmdao-tto-tt-S355-10_process               https://w3id.org/pmd/ao/tte/pmdao-tto-tt-S355-10_crossSectionArea_S0  120.707  http://qudt.org/vocab/unit/MilliM2\n",
      "1   https://w3id.org/pmd/ao/tte/pmdao-tto-tt-S355-10_process               https://w3id.org/pmd/ao/tte/pmdao-tto-tt-S355-10_crossSectionArea_Su   43.924  http://qudt.org/vocab/unit/MilliM2\n",
      "2   https://w3id.org/pmd/ao/tte/pmdao-tto-tt-S355-10_process               https://w3id.org/pmd/ao/tte/pmdao-tto-tt-S355-10_crossSectionArea_s1  120.867  http://qudt.org/vocab/unit/MilliM2\n",
      "3   https://w3id.org/pmd/ao/tte/pmdao-tto-tt-S355-10_process               https://w3id.org/pmd/ao/tte/pmdao-tto-tt-S355-10_crossSectionArea_s2  120.544  http://qudt.org/vocab/unit/MilliM2\n",
      "4   https://w3id.org/pmd/ao/tte/pmdao-tto-tt-S355-10_process               https://w3id.org/pmd/ao/tte/pmdao-tto-tt-S355-10_crossSectionArea_s3   120.71  http://qudt.org/vocab/unit/MilliM2\n",
      "5   https://w3id.org/pmd/ao/tte/pmdao-tto-tt-S355-10_process  https://w3id.org/pmd/ao/tte/pmdao-tto-tt-S355-10_finalGaugeLengthAfterFracture_Lu    79.97   http://qudt.org/vocab/unit/MilliM\n",
      "6   https://w3id.org/pmd/ao/tte/pmdao-tto-tt-S355-10_process            https://w3id.org/pmd/ao/tte/pmdao-tto-tt-S355-10_originalGaugeLength_L0     60.0   http://qudt.org/vocab/unit/MilliM\n",
      "7   https://w3id.org/pmd/ao/tte/pmdao-tto-tt-S355-10_process         https://w3id.org/pmd/ao/tte/pmdao-tto-tt-S355-10_thicknessAfterFracture_au     3.16   http://qudt.org/vocab/unit/MilliM\n",
      "8   https://w3id.org/pmd/ao/tte/pmdao-tto-tt-S355-10_process                      https://w3id.org/pmd/ao/tte/pmdao-tto-tt-S355-10_thickness_a1    5.993   http://qudt.org/vocab/unit/MilliM\n",
      "9   https://w3id.org/pmd/ao/tte/pmdao-tto-tt-S355-10_process                      https://w3id.org/pmd/ao/tte/pmdao-tto-tt-S355-10_thickness_a2    5.985   http://qudt.org/vocab/unit/MilliM\n",
      "10  https://w3id.org/pmd/ao/tte/pmdao-tto-tt-S355-10_process                      https://w3id.org/pmd/ao/tte/pmdao-tto-tt-S355-10_thickness_a3     5.99   http://qudt.org/vocab/unit/MilliM\n",
      "11  https://w3id.org/pmd/ao/tte/pmdao-tto-tt-S355-10_process             https://w3id.org/pmd/ao/tte/pmdao-tto-tt-S355-10_widthAfterFracture_bu     13.9   http://qudt.org/vocab/unit/MilliM\n",
      "12  https://w3id.org/pmd/ao/tte/pmdao-tto-tt-S355-10_process                          https://w3id.org/pmd/ao/tte/pmdao-tto-tt-S355-10_width_b1   20.168   http://qudt.org/vocab/unit/MilliM\n",
      "13  https://w3id.org/pmd/ao/tte/pmdao-tto-tt-S355-10_process                          https://w3id.org/pmd/ao/tte/pmdao-tto-tt-S355-10_width_b2   20.141   http://qudt.org/vocab/unit/MilliM\n",
      "14  https://w3id.org/pmd/ao/tte/pmdao-tto-tt-S355-10_process                          https://w3id.org/pmd/ao/tte/pmdao-tto-tt-S355-10_width_b3   20.152   http://qudt.org/vocab/unit/MilliM\n",
      "15   https://w3id.org/pmd/ao/tte/pmdao-tto-tt-S355-9_process                https://w3id.org/pmd/ao/tte/pmdao-tto-tt-S355-9_crossSectionArea_S0  120.715  http://qudt.org/vocab/unit/MilliM2\n",
      "16   https://w3id.org/pmd/ao/tte/pmdao-tto-tt-S355-9_process                https://w3id.org/pmd/ao/tte/pmdao-tto-tt-S355-9_crossSectionArea_Su   48.813  http://qudt.org/vocab/unit/MilliM2\n",
      "17   https://w3id.org/pmd/ao/tte/pmdao-tto-tt-S355-9_process                https://w3id.org/pmd/ao/tte/pmdao-tto-tt-S355-9_crossSectionArea_s1  120.649  http://qudt.org/vocab/unit/MilliM2\n",
      "18   https://w3id.org/pmd/ao/tte/pmdao-tto-tt-S355-9_process                https://w3id.org/pmd/ao/tte/pmdao-tto-tt-S355-9_crossSectionArea_s2  120.683  http://qudt.org/vocab/unit/MilliM2\n",
      "19   https://w3id.org/pmd/ao/tte/pmdao-tto-tt-S355-9_process                https://w3id.org/pmd/ao/tte/pmdao-tto-tt-S355-9_crossSectionArea_s3  120.813  http://qudt.org/vocab/unit/MilliM2\n",
      "20   https://w3id.org/pmd/ao/tte/pmdao-tto-tt-S355-9_process   https://w3id.org/pmd/ao/tte/pmdao-tto-tt-S355-9_finalGaugeLengthAfterFracture_Lu    80.02   http://qudt.org/vocab/unit/MilliM\n",
      "21   https://w3id.org/pmd/ao/tte/pmdao-tto-tt-S355-9_process             https://w3id.org/pmd/ao/tte/pmdao-tto-tt-S355-9_originalGaugeLength_L0     60.0   http://qudt.org/vocab/unit/MilliM\n",
      "22   https://w3id.org/pmd/ao/tte/pmdao-tto-tt-S355-9_process          https://w3id.org/pmd/ao/tte/pmdao-tto-tt-S355-9_thicknessAfterFracture_au     3.55   http://qudt.org/vocab/unit/MilliM\n",
      "23   https://w3id.org/pmd/ao/tte/pmdao-tto-tt-S355-9_process                       https://w3id.org/pmd/ao/tte/pmdao-tto-tt-S355-9_thickness_a1    5.992   http://qudt.org/vocab/unit/MilliM\n",
      "24   https://w3id.org/pmd/ao/tte/pmdao-tto-tt-S355-9_process                       https://w3id.org/pmd/ao/tte/pmdao-tto-tt-S355-9_thickness_a2    5.991   http://qudt.org/vocab/unit/MilliM\n",
      "25   https://w3id.org/pmd/ao/tte/pmdao-tto-tt-S355-9_process                       https://w3id.org/pmd/ao/tte/pmdao-tto-tt-S355-9_thickness_a3    5.993   http://qudt.org/vocab/unit/MilliM\n",
      "26   https://w3id.org/pmd/ao/tte/pmdao-tto-tt-S355-9_process              https://w3id.org/pmd/ao/tte/pmdao-tto-tt-S355-9_widthAfterFracture_bu    13.75   http://qudt.org/vocab/unit/MilliM\n",
      "27   https://w3id.org/pmd/ao/tte/pmdao-tto-tt-S355-9_process                           https://w3id.org/pmd/ao/tte/pmdao-tto-tt-S355-9_width_b1   20.135   http://qudt.org/vocab/unit/MilliM\n",
      "28   https://w3id.org/pmd/ao/tte/pmdao-tto-tt-S355-9_process                           https://w3id.org/pmd/ao/tte/pmdao-tto-tt-S355-9_width_b2   20.144   http://qudt.org/vocab/unit/MilliM\n",
      "29   https://w3id.org/pmd/ao/tte/pmdao-tto-tt-S355-9_process                           https://w3id.org/pmd/ao/tte/pmdao-tto-tt-S355-9_width_b3   20.159   http://qudt.org/vocab/unit/MilliM\n",
      "\n"
     ]
    }
   ],
   "source": [
    "query = queries.primary_data()\n",
    "primary_data_results = helpers.federated_query(partners, datasets, query.query, query.columns, print_to_screen=True)\n",
    "primary_data_results_rns = helpers.RecursiveNamespace(**primary_data_results)"
   ]
  },
  {
   "cell_type": "markdown",
   "id": "0ebcd4cc-d83e-4bd9-a013-c9dcbed8ee15",
   "metadata": {},
   "source": [
    "### 9.) `SecondaryData`\n",
    "Characteristic values (e.g. test results) determined by equations or algorithms using primary data and metadata for a process."
   ]
  },
  {
   "cell_type": "code",
   "execution_count": 21,
   "id": "c7bd35bb-9ac1-417d-8c61-c15c2a4deec9",
   "metadata": {},
   "outputs": [
    {
     "name": "stdout",
     "output_type": "stream",
     "text": [
      "Sending query to \"http://ontodocker.iwm.pmd.internal/api/v1/jena/pmdco2_tto_example_parallel/sparql\". Result:\n",
      "   URI                                                      Quantity                                                                           value   unit                               \n",
      "0   https://w3id.org/pmd/ao/tte/pmdao-tto-tt-S355-1_process                       https://w3id.org/pmd/ao/tte/pmdao-tto-tt-S355-1_maximumForce  62.007    http://qudt.org/vocab/unit/kiloN\n",
      "1   https://w3id.org/pmd/ao/tte/pmdao-tto-tt-S355-1_process                https://w3id.org/pmd/ao/tte/pmdao-tto-tt-S355-1_modulusOfElasticity   194.0   http://qudt.org/vocab/unit/GigaPa\n",
      "2   https://w3id.org/pmd/ao/tte/pmdao-tto-tt-S355-1_process  https://w3id.org/pmd/ao/tte/pmdao-tto-tt-S355-1_percentageElongationAfterFracture     NaN  http://qudt.org/vocab/unit/PERCENT\n",
      "3   https://w3id.org/pmd/ao/tte/pmdao-tto-tt-S355-1_process          https://w3id.org/pmd/ao/tte/pmdao-tto-tt-S355-1_percentageReductionOfArea    56.0  http://qudt.org/vocab/unit/PERCENT\n",
      "4   https://w3id.org/pmd/ao/tte/pmdao-tto-tt-S355-1_process                 https://w3id.org/pmd/ao/tte/pmdao-tto-tt-S355-1_proofStrength_Rp02   375.0   http://qudt.org/vocab/unit/MegaPa\n",
      "5   https://w3id.org/pmd/ao/tte/pmdao-tto-tt-S355-1_process                    https://w3id.org/pmd/ao/tte/pmdao-tto-tt-S355-1_tensileStrength   514.0   http://qudt.org/vocab/unit/MegaPa\n",
      "6   https://w3id.org/pmd/ao/tte/pmdao-tto-tt-S355-1_process                 https://w3id.org/pmd/ao/tte/pmdao-tto-tt-S355-1_upperYieldStrength   380.0   http://qudt.org/vocab/unit/MegaPa\n",
      "7   https://w3id.org/pmd/ao/tte/pmdao-tto-tt-S355-2_process                       https://w3id.org/pmd/ao/tte/pmdao-tto-tt-S355-2_maximumForce  60.704    http://qudt.org/vocab/unit/kiloN\n",
      "8   https://w3id.org/pmd/ao/tte/pmdao-tto-tt-S355-2_process                https://w3id.org/pmd/ao/tte/pmdao-tto-tt-S355-2_modulusOfElasticity   199.0   http://qudt.org/vocab/unit/GigaPa\n",
      "9   https://w3id.org/pmd/ao/tte/pmdao-tto-tt-S355-2_process  https://w3id.org/pmd/ao/tte/pmdao-tto-tt-S355-2_percentageElongationAfterFracture    35.0  http://qudt.org/vocab/unit/PERCENT\n",
      "10  https://w3id.org/pmd/ao/tte/pmdao-tto-tt-S355-2_process          https://w3id.org/pmd/ao/tte/pmdao-tto-tt-S355-2_percentageReductionOfArea    59.0  http://qudt.org/vocab/unit/PERCENT\n",
      "11  https://w3id.org/pmd/ao/tte/pmdao-tto-tt-S355-2_process                 https://w3id.org/pmd/ao/tte/pmdao-tto-tt-S355-2_proofStrength_Rp02   374.0   http://qudt.org/vocab/unit/MegaPa\n",
      "12  https://w3id.org/pmd/ao/tte/pmdao-tto-tt-S355-2_process                    https://w3id.org/pmd/ao/tte/pmdao-tto-tt-S355-2_tensileStrength   504.0   http://qudt.org/vocab/unit/MegaPa\n",
      "13  https://w3id.org/pmd/ao/tte/pmdao-tto-tt-S355-2_process                 https://w3id.org/pmd/ao/tte/pmdao-tto-tt-S355-2_upperYieldStrength   379.0   http://qudt.org/vocab/unit/MegaPa\n",
      "14  https://w3id.org/pmd/ao/tte/pmdao-tto-tt-S355-3_process                       https://w3id.org/pmd/ao/tte/pmdao-tto-tt-S355-3_maximumForce   60.68    http://qudt.org/vocab/unit/kiloN\n",
      "15  https://w3id.org/pmd/ao/tte/pmdao-tto-tt-S355-3_process                https://w3id.org/pmd/ao/tte/pmdao-tto-tt-S355-3_modulusOfElasticity   199.0   http://qudt.org/vocab/unit/GigaPa\n",
      "16  https://w3id.org/pmd/ao/tte/pmdao-tto-tt-S355-3_process  https://w3id.org/pmd/ao/tte/pmdao-tto-tt-S355-3_percentageElongationAfterFracture    35.0  http://qudt.org/vocab/unit/PERCENT\n",
      "17  https://w3id.org/pmd/ao/tte/pmdao-tto-tt-S355-3_process          https://w3id.org/pmd/ao/tte/pmdao-tto-tt-S355-3_percentageReductionOfArea    58.0  http://qudt.org/vocab/unit/PERCENT\n",
      "18  https://w3id.org/pmd/ao/tte/pmdao-tto-tt-S355-3_process                 https://w3id.org/pmd/ao/tte/pmdao-tto-tt-S355-3_proofStrength_Rp02   376.0   http://qudt.org/vocab/unit/MegaPa\n",
      "19  https://w3id.org/pmd/ao/tte/pmdao-tto-tt-S355-3_process                    https://w3id.org/pmd/ao/tte/pmdao-tto-tt-S355-3_tensileStrength   504.0   http://qudt.org/vocab/unit/MegaPa\n",
      "20  https://w3id.org/pmd/ao/tte/pmdao-tto-tt-S355-3_process                 https://w3id.org/pmd/ao/tte/pmdao-tto-tt-S355-3_upperYieldStrength   379.0   http://qudt.org/vocab/unit/MegaPa\n",
      "21  https://w3id.org/pmd/ao/tte/pmdao-tto-tt-S355-4_process                       https://w3id.org/pmd/ao/tte/pmdao-tto-tt-S355-4_maximumForce  62.288    http://qudt.org/vocab/unit/kiloN\n",
      "22  https://w3id.org/pmd/ao/tte/pmdao-tto-tt-S355-4_process                https://w3id.org/pmd/ao/tte/pmdao-tto-tt-S355-4_modulusOfElasticity   196.0   http://qudt.org/vocab/unit/GigaPa\n",
      "23  https://w3id.org/pmd/ao/tte/pmdao-tto-tt-S355-4_process  https://w3id.org/pmd/ao/tte/pmdao-tto-tt-S355-4_percentageElongationAfterFracture    35.0  http://qudt.org/vocab/unit/PERCENT\n",
      "24  https://w3id.org/pmd/ao/tte/pmdao-tto-tt-S355-4_process          https://w3id.org/pmd/ao/tte/pmdao-tto-tt-S355-4_percentageReductionOfArea    61.0  http://qudt.org/vocab/unit/PERCENT\n",
      "25  https://w3id.org/pmd/ao/tte/pmdao-tto-tt-S355-4_process                 https://w3id.org/pmd/ao/tte/pmdao-tto-tt-S355-4_proofStrength_Rp02   382.0   http://qudt.org/vocab/unit/MegaPa\n",
      "26  https://w3id.org/pmd/ao/tte/pmdao-tto-tt-S355-4_process                    https://w3id.org/pmd/ao/tte/pmdao-tto-tt-S355-4_tensileStrength   519.0   http://qudt.org/vocab/unit/MegaPa\n",
      "27  https://w3id.org/pmd/ao/tte/pmdao-tto-tt-S355-4_process                 https://w3id.org/pmd/ao/tte/pmdao-tto-tt-S355-4_upperYieldStrength   388.0   http://qudt.org/vocab/unit/MegaPa\n",
      "\n",
      "Sending query to \"https://ontodocker.iwt.pmd.internal/api/v1/jena/pmdco2_tto_example_perpendicular/sparql\". Result:\n",
      "   URI                                                      Quantity                                                                           value   unit                               \n",
      "0   https://w3id.org/pmd/ao/tte/pmdao-tto-tt-S355-5_process                       https://w3id.org/pmd/ao/tte/pmdao-tto-tt-S355-5_maximumForce  61.305    http://qudt.org/vocab/unit/kiloN\n",
      "1   https://w3id.org/pmd/ao/tte/pmdao-tto-tt-S355-5_process                https://w3id.org/pmd/ao/tte/pmdao-tto-tt-S355-5_modulusOfElasticity   210.0   http://qudt.org/vocab/unit/GigaPa\n",
      "2   https://w3id.org/pmd/ao/tte/pmdao-tto-tt-S355-5_process  https://w3id.org/pmd/ao/tte/pmdao-tto-tt-S355-5_percentageElongationAfterFracture     NaN  http://qudt.org/vocab/unit/PERCENT\n",
      "3   https://w3id.org/pmd/ao/tte/pmdao-tto-tt-S355-5_process          https://w3id.org/pmd/ao/tte/pmdao-tto-tt-S355-5_percentageReductionOfArea    54.0  http://qudt.org/vocab/unit/PERCENT\n",
      "4   https://w3id.org/pmd/ao/tte/pmdao-tto-tt-S355-5_process                 https://w3id.org/pmd/ao/tte/pmdao-tto-tt-S355-5_proofStrength_Rp02   396.0   http://qudt.org/vocab/unit/MegaPa\n",
      "5   https://w3id.org/pmd/ao/tte/pmdao-tto-tt-S355-5_process                    https://w3id.org/pmd/ao/tte/pmdao-tto-tt-S355-5_tensileStrength   508.0   http://qudt.org/vocab/unit/MegaPa\n",
      "6   https://w3id.org/pmd/ao/tte/pmdao-tto-tt-S355-5_process                 https://w3id.org/pmd/ao/tte/pmdao-tto-tt-S355-5_upperYieldStrength   399.0   http://qudt.org/vocab/unit/MegaPa\n",
      "7   https://w3id.org/pmd/ao/tte/pmdao-tto-tt-S355-6_process                       https://w3id.org/pmd/ao/tte/pmdao-tto-tt-S355-6_maximumForce    61.2    http://qudt.org/vocab/unit/kiloN\n",
      "8   https://w3id.org/pmd/ao/tte/pmdao-tto-tt-S355-6_process                https://w3id.org/pmd/ao/tte/pmdao-tto-tt-S355-6_modulusOfElasticity   214.0   http://qudt.org/vocab/unit/GigaPa\n",
      "9   https://w3id.org/pmd/ao/tte/pmdao-tto-tt-S355-6_process  https://w3id.org/pmd/ao/tte/pmdao-tto-tt-S355-6_percentageElongationAfterFracture    35.0  http://qudt.org/vocab/unit/PERCENT\n",
      "10  https://w3id.org/pmd/ao/tte/pmdao-tto-tt-S355-6_process          https://w3id.org/pmd/ao/tte/pmdao-tto-tt-S355-6_percentageReductionOfArea    56.0  http://qudt.org/vocab/unit/PERCENT\n",
      "11  https://w3id.org/pmd/ao/tte/pmdao-tto-tt-S355-6_process                 https://w3id.org/pmd/ao/tte/pmdao-tto-tt-S355-6_proofStrength_Rp02   390.0   http://qudt.org/vocab/unit/MegaPa\n",
      "12  https://w3id.org/pmd/ao/tte/pmdao-tto-tt-S355-6_process                    https://w3id.org/pmd/ao/tte/pmdao-tto-tt-S355-6_tensileStrength   507.0   http://qudt.org/vocab/unit/MegaPa\n",
      "13  https://w3id.org/pmd/ao/tte/pmdao-tto-tt-S355-6_process                 https://w3id.org/pmd/ao/tte/pmdao-tto-tt-S355-6_upperYieldStrength   399.0   http://qudt.org/vocab/unit/MegaPa\n",
      "14  https://w3id.org/pmd/ao/tte/pmdao-tto-tt-S355-7_process                       https://w3id.org/pmd/ao/tte/pmdao-tto-tt-S355-7_maximumForce  60.935    http://qudt.org/vocab/unit/kiloN\n",
      "15  https://w3id.org/pmd/ao/tte/pmdao-tto-tt-S355-7_process                https://w3id.org/pmd/ao/tte/pmdao-tto-tt-S355-7_modulusOfElasticity   206.0   http://qudt.org/vocab/unit/GigaPa\n",
      "16  https://w3id.org/pmd/ao/tte/pmdao-tto-tt-S355-7_process  https://w3id.org/pmd/ao/tte/pmdao-tto-tt-S355-7_percentageElongationAfterFracture    33.5  http://qudt.org/vocab/unit/PERCENT\n",
      "17  https://w3id.org/pmd/ao/tte/pmdao-tto-tt-S355-7_process          https://w3id.org/pmd/ao/tte/pmdao-tto-tt-S355-7_percentageReductionOfArea    58.0  http://qudt.org/vocab/unit/PERCENT\n",
      "18  https://w3id.org/pmd/ao/tte/pmdao-tto-tt-S355-7_process                 https://w3id.org/pmd/ao/tte/pmdao-tto-tt-S355-7_proofStrength_Rp02     NaN   http://qudt.org/vocab/unit/MegaPa\n",
      "19  https://w3id.org/pmd/ao/tte/pmdao-tto-tt-S355-7_process                    https://w3id.org/pmd/ao/tte/pmdao-tto-tt-S355-7_tensileStrength   505.0   http://qudt.org/vocab/unit/MegaPa\n",
      "20  https://w3id.org/pmd/ao/tte/pmdao-tto-tt-S355-7_process                 https://w3id.org/pmd/ao/tte/pmdao-tto-tt-S355-7_upperYieldStrength   408.0   http://qudt.org/vocab/unit/MegaPa\n",
      "21  https://w3id.org/pmd/ao/tte/pmdao-tto-tt-S355-8_process                       https://w3id.org/pmd/ao/tte/pmdao-tto-tt-S355-8_maximumForce   61.98    http://qudt.org/vocab/unit/kiloN\n",
      "22  https://w3id.org/pmd/ao/tte/pmdao-tto-tt-S355-8_process                https://w3id.org/pmd/ao/tte/pmdao-tto-tt-S355-8_modulusOfElasticity   211.0   http://qudt.org/vocab/unit/GigaPa\n",
      "23  https://w3id.org/pmd/ao/tte/pmdao-tto-tt-S355-8_process  https://w3id.org/pmd/ao/tte/pmdao-tto-tt-S355-8_percentageElongationAfterFracture    33.0  http://qudt.org/vocab/unit/PERCENT\n",
      "24  https://w3id.org/pmd/ao/tte/pmdao-tto-tt-S355-8_process          https://w3id.org/pmd/ao/tte/pmdao-tto-tt-S355-8_percentageReductionOfArea    55.0  http://qudt.org/vocab/unit/PERCENT\n",
      "25  https://w3id.org/pmd/ao/tte/pmdao-tto-tt-S355-8_process                 https://w3id.org/pmd/ao/tte/pmdao-tto-tt-S355-8_proofStrength_Rp02   402.0   http://qudt.org/vocab/unit/MegaPa\n",
      "26  https://w3id.org/pmd/ao/tte/pmdao-tto-tt-S355-8_process                    https://w3id.org/pmd/ao/tte/pmdao-tto-tt-S355-8_tensileStrength   514.0   http://qudt.org/vocab/unit/MegaPa\n",
      "27  https://w3id.org/pmd/ao/tte/pmdao-tto-tt-S355-8_process                 https://w3id.org/pmd/ao/tte/pmdao-tto-tt-S355-8_upperYieldStrength   407.0   http://qudt.org/vocab/unit/MegaPa\n",
      "\n",
      "Sending query to \"http://ontodocker.mpi-susmat.pmd.internal/api/v1/jena/pmdco2_tto_example_diagonal/sparql\". Result:\n",
      "   URI                                                       Quantity                                                                            value   unit                               \n",
      "0   https://w3id.org/pmd/ao/tte/pmdao-tto-tt-S355-10_process                       https://w3id.org/pmd/ao/tte/pmdao-tto-tt-S355-10_maximumForce  61.681    http://qudt.org/vocab/unit/kiloN\n",
      "1   https://w3id.org/pmd/ao/tte/pmdao-tto-tt-S355-10_process                https://w3id.org/pmd/ao/tte/pmdao-tto-tt-S355-10_modulusOfElasticity   195.0   http://qudt.org/vocab/unit/GigaPa\n",
      "2   https://w3id.org/pmd/ao/tte/pmdao-tto-tt-S355-10_process  https://w3id.org/pmd/ao/tte/pmdao-tto-tt-S355-10_percentageElongationAfterFracture    33.0  http://qudt.org/vocab/unit/PERCENT\n",
      "3   https://w3id.org/pmd/ao/tte/pmdao-tto-tt-S355-10_process          https://w3id.org/pmd/ao/tte/pmdao-tto-tt-S355-10_percentageReductionOfArea    64.0  http://qudt.org/vocab/unit/PERCENT\n",
      "4   https://w3id.org/pmd/ao/tte/pmdao-tto-tt-S355-10_process                 https://w3id.org/pmd/ao/tte/pmdao-tto-tt-S355-10_proofStrength_Rp02     NaN   http://qudt.org/vocab/unit/MegaPa\n",
      "5   https://w3id.org/pmd/ao/tte/pmdao-tto-tt-S355-10_process                    https://w3id.org/pmd/ao/tte/pmdao-tto-tt-S355-10_tensileStrength   511.0   http://qudt.org/vocab/unit/MegaPa\n",
      "6   https://w3id.org/pmd/ao/tte/pmdao-tto-tt-S355-10_process                 https://w3id.org/pmd/ao/tte/pmdao-tto-tt-S355-10_upperYieldStrength   396.0   http://qudt.org/vocab/unit/MegaPa\n",
      "7    https://w3id.org/pmd/ao/tte/pmdao-tto-tt-S355-9_process                        https://w3id.org/pmd/ao/tte/pmdao-tto-tt-S355-9_maximumForce  62.168    http://qudt.org/vocab/unit/kiloN\n",
      "8    https://w3id.org/pmd/ao/tte/pmdao-tto-tt-S355-9_process                 https://w3id.org/pmd/ao/tte/pmdao-tto-tt-S355-9_modulusOfElasticity   201.0   http://qudt.org/vocab/unit/GigaPa\n",
      "9    https://w3id.org/pmd/ao/tte/pmdao-tto-tt-S355-9_process   https://w3id.org/pmd/ao/tte/pmdao-tto-tt-S355-9_percentageElongationAfterFracture    33.5  http://qudt.org/vocab/unit/PERCENT\n",
      "10   https://w3id.org/pmd/ao/tte/pmdao-tto-tt-S355-9_process           https://w3id.org/pmd/ao/tte/pmdao-tto-tt-S355-9_percentageReductionOfArea    60.0  http://qudt.org/vocab/unit/PERCENT\n",
      "11   https://w3id.org/pmd/ao/tte/pmdao-tto-tt-S355-9_process                  https://w3id.org/pmd/ao/tte/pmdao-tto-tt-S355-9_proofStrength_Rp02   390.0   http://qudt.org/vocab/unit/MegaPa\n",
      "12   https://w3id.org/pmd/ao/tte/pmdao-tto-tt-S355-9_process                     https://w3id.org/pmd/ao/tte/pmdao-tto-tt-S355-9_tensileStrength   515.0   http://qudt.org/vocab/unit/MegaPa\n",
      "13   https://w3id.org/pmd/ao/tte/pmdao-tto-tt-S355-9_process                  https://w3id.org/pmd/ao/tte/pmdao-tto-tt-S355-9_upperYieldStrength   399.0   http://qudt.org/vocab/unit/MegaPa\n",
      "\n"
     ]
    }
   ],
   "source": [
    "query = queries.secondary_data()\n",
    "secondary_data_results = helpers.federated_query(partners, datasets, query.query, query.columns, print_to_screen=True)\n",
    "secondary_data_results_rns = helpers.RecursiveNamespace(**secondary_data_results)"
   ]
  },
  {
   "cell_type": "markdown",
   "id": "91b50cbe-4acf-4883-8088-1239364ba627",
   "metadata": {},
   "source": [
    "### 10.) `MetaData`\n",
    "Attributes and additional data concerning the factory, laboratory, the process system and the objects which allow the evaluation of the quality / reliability of the measurements and a systematic search task of a database."
   ]
  },
  {
   "cell_type": "code",
   "execution_count": 22,
   "id": "38fbe9aa-e116-471f-b51b-9032c21ff1e4",
   "metadata": {},
   "outputs": [
    {
     "name": "stdout",
     "output_type": "stream",
     "text": [
      "Sending query to \"http://ontodocker.iwm.pmd.internal/api/v1/jena/pmdco2_tto_example_parallel/sparql\". Result:\n",
      "   URI                                                      Quantity                                                                  value unit                               \n",
      "0   https://w3id.org/pmd/ao/tte/pmdao-tto-tt-S355-1_process  https://w3id.org/pmd/ao/tte/pmdao-tto-tt-S355-1_environmentalTemperature  20.0    http://qudt.org/vocab/unit/DEG_C\n",
      "1   https://w3id.org/pmd/ao/tte/pmdao-tto-tt-S355-1_process   https://w3id.org/pmd/ao/tte/pmdao-tto-tt-S355-1_extensometerGaugeLength  50.0   http://qudt.org/vocab/unit/MilliM\n",
      "2   https://w3id.org/pmd/ao/tte/pmdao-tto-tt-S355-1_process           https://w3id.org/pmd/ao/tte/pmdao-tto-tt-S355-1_transitionPoint   1.6  http://qudt.org/vocab/unit/PERCENT\n",
      "3   https://w3id.org/pmd/ao/tte/pmdao-tto-tt-S355-2_process  https://w3id.org/pmd/ao/tte/pmdao-tto-tt-S355-2_environmentalTemperature  20.0    http://qudt.org/vocab/unit/DEG_C\n",
      "4   https://w3id.org/pmd/ao/tte/pmdao-tto-tt-S355-2_process   https://w3id.org/pmd/ao/tte/pmdao-tto-tt-S355-2_extensometerGaugeLength  50.0   http://qudt.org/vocab/unit/MilliM\n",
      "5   https://w3id.org/pmd/ao/tte/pmdao-tto-tt-S355-2_process           https://w3id.org/pmd/ao/tte/pmdao-tto-tt-S355-2_transitionPoint   3.8  http://qudt.org/vocab/unit/PERCENT\n",
      "6   https://w3id.org/pmd/ao/tte/pmdao-tto-tt-S355-3_process  https://w3id.org/pmd/ao/tte/pmdao-tto-tt-S355-3_environmentalTemperature  20.0    http://qudt.org/vocab/unit/DEG_C\n",
      "7   https://w3id.org/pmd/ao/tte/pmdao-tto-tt-S355-3_process   https://w3id.org/pmd/ao/tte/pmdao-tto-tt-S355-3_extensometerGaugeLength  50.0   http://qudt.org/vocab/unit/MilliM\n",
      "8   https://w3id.org/pmd/ao/tte/pmdao-tto-tt-S355-3_process           https://w3id.org/pmd/ao/tte/pmdao-tto-tt-S355-3_transitionPoint   3.8  http://qudt.org/vocab/unit/PERCENT\n",
      "9   https://w3id.org/pmd/ao/tte/pmdao-tto-tt-S355-4_process  https://w3id.org/pmd/ao/tte/pmdao-tto-tt-S355-4_environmentalTemperature  20.0    http://qudt.org/vocab/unit/DEG_C\n",
      "10  https://w3id.org/pmd/ao/tte/pmdao-tto-tt-S355-4_process   https://w3id.org/pmd/ao/tte/pmdao-tto-tt-S355-4_extensometerGaugeLength  50.0   http://qudt.org/vocab/unit/MilliM\n",
      "11  https://w3id.org/pmd/ao/tte/pmdao-tto-tt-S355-4_process           https://w3id.org/pmd/ao/tte/pmdao-tto-tt-S355-4_transitionPoint   3.8  http://qudt.org/vocab/unit/PERCENT\n",
      "\n",
      "Sending query to \"https://ontodocker.iwt.pmd.internal/api/v1/jena/pmdco2_tto_example_perpendicular/sparql\". Result:\n",
      "   URI                                                      Quantity                                                                  value unit                               \n",
      "0   https://w3id.org/pmd/ao/tte/pmdao-tto-tt-S355-5_process  https://w3id.org/pmd/ao/tte/pmdao-tto-tt-S355-5_environmentalTemperature  20.0    http://qudt.org/vocab/unit/DEG_C\n",
      "1   https://w3id.org/pmd/ao/tte/pmdao-tto-tt-S355-5_process   https://w3id.org/pmd/ao/tte/pmdao-tto-tt-S355-5_extensometerGaugeLength  50.0   http://qudt.org/vocab/unit/MilliM\n",
      "2   https://w3id.org/pmd/ao/tte/pmdao-tto-tt-S355-5_process           https://w3id.org/pmd/ao/tte/pmdao-tto-tt-S355-5_transitionPoint   3.8  http://qudt.org/vocab/unit/PERCENT\n",
      "3   https://w3id.org/pmd/ao/tte/pmdao-tto-tt-S355-6_process  https://w3id.org/pmd/ao/tte/pmdao-tto-tt-S355-6_environmentalTemperature  20.0    http://qudt.org/vocab/unit/DEG_C\n",
      "4   https://w3id.org/pmd/ao/tte/pmdao-tto-tt-S355-6_process   https://w3id.org/pmd/ao/tte/pmdao-tto-tt-S355-6_extensometerGaugeLength  50.0   http://qudt.org/vocab/unit/MilliM\n",
      "5   https://w3id.org/pmd/ao/tte/pmdao-tto-tt-S355-6_process           https://w3id.org/pmd/ao/tte/pmdao-tto-tt-S355-6_transitionPoint   3.8  http://qudt.org/vocab/unit/PERCENT\n",
      "6   https://w3id.org/pmd/ao/tte/pmdao-tto-tt-S355-7_process  https://w3id.org/pmd/ao/tte/pmdao-tto-tt-S355-7_environmentalTemperature  20.0    http://qudt.org/vocab/unit/DEG_C\n",
      "7   https://w3id.org/pmd/ao/tte/pmdao-tto-tt-S355-7_process   https://w3id.org/pmd/ao/tte/pmdao-tto-tt-S355-7_extensometerGaugeLength  50.0   http://qudt.org/vocab/unit/MilliM\n",
      "8   https://w3id.org/pmd/ao/tte/pmdao-tto-tt-S355-7_process           https://w3id.org/pmd/ao/tte/pmdao-tto-tt-S355-7_transitionPoint   3.8  http://qudt.org/vocab/unit/PERCENT\n",
      "9   https://w3id.org/pmd/ao/tte/pmdao-tto-tt-S355-8_process  https://w3id.org/pmd/ao/tte/pmdao-tto-tt-S355-8_environmentalTemperature  20.0    http://qudt.org/vocab/unit/DEG_C\n",
      "10  https://w3id.org/pmd/ao/tte/pmdao-tto-tt-S355-8_process   https://w3id.org/pmd/ao/tte/pmdao-tto-tt-S355-8_extensometerGaugeLength  50.0   http://qudt.org/vocab/unit/MilliM\n",
      "11  https://w3id.org/pmd/ao/tte/pmdao-tto-tt-S355-8_process           https://w3id.org/pmd/ao/tte/pmdao-tto-tt-S355-8_transitionPoint   3.8  http://qudt.org/vocab/unit/PERCENT\n",
      "\n",
      "Sending query to \"http://ontodocker.mpi-susmat.pmd.internal/api/v1/jena/pmdco2_tto_example_diagonal/sparql\". Result:\n",
      "  URI                                                       Quantity                                                                   value unit                               \n",
      "0  https://w3id.org/pmd/ao/tte/pmdao-tto-tt-S355-10_process  https://w3id.org/pmd/ao/tte/pmdao-tto-tt-S355-10_environmentalTemperature  20.0    http://qudt.org/vocab/unit/DEG_C\n",
      "1  https://w3id.org/pmd/ao/tte/pmdao-tto-tt-S355-10_process   https://w3id.org/pmd/ao/tte/pmdao-tto-tt-S355-10_extensometerGaugeLength  50.0   http://qudt.org/vocab/unit/MilliM\n",
      "2  https://w3id.org/pmd/ao/tte/pmdao-tto-tt-S355-10_process           https://w3id.org/pmd/ao/tte/pmdao-tto-tt-S355-10_transitionPoint   4.0  http://qudt.org/vocab/unit/PERCENT\n",
      "3   https://w3id.org/pmd/ao/tte/pmdao-tto-tt-S355-9_process   https://w3id.org/pmd/ao/tte/pmdao-tto-tt-S355-9_environmentalTemperature  20.0    http://qudt.org/vocab/unit/DEG_C\n",
      "4   https://w3id.org/pmd/ao/tte/pmdao-tto-tt-S355-9_process    https://w3id.org/pmd/ao/tte/pmdao-tto-tt-S355-9_extensometerGaugeLength  50.0   http://qudt.org/vocab/unit/MilliM\n",
      "5   https://w3id.org/pmd/ao/tte/pmdao-tto-tt-S355-9_process            https://w3id.org/pmd/ao/tte/pmdao-tto-tt-S355-9_transitionPoint   4.0  http://qudt.org/vocab/unit/PERCENT\n",
      "\n"
     ]
    }
   ],
   "source": [
    "query = queries.metadata()\n",
    "metadata_results = helpers.federated_query(partners, datasets, query.query, query.columns, print_to_screen=True)\n",
    "metadata_results_rns = helpers.RecursiveNamespace(**metadata_results)"
   ]
  },
  {
   "cell_type": "markdown",
   "id": "0e5e57f2-601f-4862-ba0f-4af74007c539",
   "metadata": {},
   "source": [
    "### Further exploration"
   ]
  },
  {
   "cell_type": "markdown",
   "id": "1b2dad88-4286-4cb2-8ab8-6d17ce054b38",
   "metadata": {},
   "source": [
    "Queries (at them moment: primary, meta, and secondary data) kan be limitet to only be perfomred for a specified `URI`:"
   ]
  },
  {
   "cell_type": "code",
   "execution_count": 23,
   "id": "a3dde731-fa7c-4401-ba8f-bd043d75cb5b",
   "metadata": {},
   "outputs": [
    {
     "name": "stdout",
     "output_type": "stream",
     "text": [
      "Sending query to \"http://ontodocker.iwm.pmd.internal/api/v1/jena/pmdco2_tto_example_parallel/sparql\". Result:\n",
      "  URI                                                      Quantity                                                                  value unit                               \n",
      "0  https://w3id.org/pmd/ao/tte/pmdao-tto-tt-S355-1_process  https://w3id.org/pmd/ao/tte/pmdao-tto-tt-S355-1_environmentalTemperature  20.0    http://qudt.org/vocab/unit/DEG_C\n",
      "1  https://w3id.org/pmd/ao/tte/pmdao-tto-tt-S355-1_process   https://w3id.org/pmd/ao/tte/pmdao-tto-tt-S355-1_extensometerGaugeLength  50.0   http://qudt.org/vocab/unit/MilliM\n",
      "2  https://w3id.org/pmd/ao/tte/pmdao-tto-tt-S355-1_process           https://w3id.org/pmd/ao/tte/pmdao-tto-tt-S355-1_transitionPoint   1.6  http://qudt.org/vocab/unit/PERCENT\n",
      "\n",
      "Sending query to \"https://ontodocker.iwt.pmd.internal/api/v1/jena/pmdco2_tto_example_perpendicular/sparql\". Result:\n",
      "Empty DataFrame\n",
      "Columns: [URI, Quantity, value, unit]\n",
      "Index: []\n",
      "\n",
      "Sending query to \"http://ontodocker.mpi-susmat.pmd.internal/api/v1/jena/pmdco2_tto_example_diagonal/sparql\". Result:\n",
      "Empty DataFrame\n",
      "Columns: [URI, Quantity, value, unit]\n",
      "Index: []\n",
      "\n"
     ]
    }
   ],
   "source": [
    "testURI = \"https://w3id.org/pmd/ao/tte/pmdao-tto-tt-S355-1_process\"\n",
    "query = queries.metadata(testURI)\n",
    "results = helpers.federated_query(partners, datasets, query.query, query.columns, print_to_screen=True)\n",
    "results_rns = helpers.RecursiveNamespace(**matDes_results)"
   ]
  },
  {
   "cell_type": "code",
   "execution_count": 24,
   "id": "5fc7b48a-c64a-467d-b0d8-d036107eaa9c",
   "metadata": {},
   "outputs": [
    {
     "data": {
      "text/html": [
       "<div>\n",
       "<style scoped>\n",
       "    .dataframe tbody tr th:only-of-type {\n",
       "        vertical-align: middle;\n",
       "    }\n",
       "\n",
       "    .dataframe tbody tr th {\n",
       "        vertical-align: top;\n",
       "    }\n",
       "\n",
       "    .dataframe thead th {\n",
       "        text-align: right;\n",
       "    }\n",
       "</style>\n",
       "<table border=\"1\" class=\"dataframe\">\n",
       "  <thead>\n",
       "    <tr style=\"text-align: left;\">\n",
       "      <th></th>\n",
       "      <th>URI</th>\n",
       "      <th>Quantity</th>\n",
       "      <th>value</th>\n",
       "      <th>unit</th>\n",
       "    </tr>\n",
       "  </thead>\n",
       "  <tbody>\n",
       "    <tr>\n",
       "      <th>0</th>\n",
       "      <td>https://w3id.org/pmd/ao/tte/pmdao-tto-tt-S355-1_process</td>\n",
       "      <td>https://w3id.org/pmd/ao/tte/pmdao-tto-tt-S355-1_environmentalTemperature</td>\n",
       "      <td>20.0</td>\n",
       "      <td>http://qudt.org/vocab/unit/DEG_C</td>\n",
       "    </tr>\n",
       "    <tr>\n",
       "      <th>1</th>\n",
       "      <td>https://w3id.org/pmd/ao/tte/pmdao-tto-tt-S355-1_process</td>\n",
       "      <td>https://w3id.org/pmd/ao/tte/pmdao-tto-tt-S355-1_extensometerGaugeLength</td>\n",
       "      <td>50.0</td>\n",
       "      <td>http://qudt.org/vocab/unit/MilliM</td>\n",
       "    </tr>\n",
       "    <tr>\n",
       "      <th>2</th>\n",
       "      <td>https://w3id.org/pmd/ao/tte/pmdao-tto-tt-S355-1_process</td>\n",
       "      <td>https://w3id.org/pmd/ao/tte/pmdao-tto-tt-S355-1_transitionPoint</td>\n",
       "      <td>1.6</td>\n",
       "      <td>http://qudt.org/vocab/unit/PERCENT</td>\n",
       "    </tr>\n",
       "    <tr>\n",
       "      <th>3</th>\n",
       "      <td>https://w3id.org/pmd/ao/tte/pmdao-tto-tt-S355-2_process</td>\n",
       "      <td>https://w3id.org/pmd/ao/tte/pmdao-tto-tt-S355-2_environmentalTemperature</td>\n",
       "      <td>20.0</td>\n",
       "      <td>http://qudt.org/vocab/unit/DEG_C</td>\n",
       "    </tr>\n",
       "    <tr>\n",
       "      <th>4</th>\n",
       "      <td>https://w3id.org/pmd/ao/tte/pmdao-tto-tt-S355-2_process</td>\n",
       "      <td>https://w3id.org/pmd/ao/tte/pmdao-tto-tt-S355-2_extensometerGaugeLength</td>\n",
       "      <td>50.0</td>\n",
       "      <td>http://qudt.org/vocab/unit/MilliM</td>\n",
       "    </tr>\n",
       "    <tr>\n",
       "      <th>5</th>\n",
       "      <td>https://w3id.org/pmd/ao/tte/pmdao-tto-tt-S355-2_process</td>\n",
       "      <td>https://w3id.org/pmd/ao/tte/pmdao-tto-tt-S355-2_transitionPoint</td>\n",
       "      <td>3.8</td>\n",
       "      <td>http://qudt.org/vocab/unit/PERCENT</td>\n",
       "    </tr>\n",
       "    <tr>\n",
       "      <th>6</th>\n",
       "      <td>https://w3id.org/pmd/ao/tte/pmdao-tto-tt-S355-3_process</td>\n",
       "      <td>https://w3id.org/pmd/ao/tte/pmdao-tto-tt-S355-3_environmentalTemperature</td>\n",
       "      <td>20.0</td>\n",
       "      <td>http://qudt.org/vocab/unit/DEG_C</td>\n",
       "    </tr>\n",
       "    <tr>\n",
       "      <th>7</th>\n",
       "      <td>https://w3id.org/pmd/ao/tte/pmdao-tto-tt-S355-3_process</td>\n",
       "      <td>https://w3id.org/pmd/ao/tte/pmdao-tto-tt-S355-3_extensometerGaugeLength</td>\n",
       "      <td>50.0</td>\n",
       "      <td>http://qudt.org/vocab/unit/MilliM</td>\n",
       "    </tr>\n",
       "    <tr>\n",
       "      <th>8</th>\n",
       "      <td>https://w3id.org/pmd/ao/tte/pmdao-tto-tt-S355-3_process</td>\n",
       "      <td>https://w3id.org/pmd/ao/tte/pmdao-tto-tt-S355-3_transitionPoint</td>\n",
       "      <td>3.8</td>\n",
       "      <td>http://qudt.org/vocab/unit/PERCENT</td>\n",
       "    </tr>\n",
       "    <tr>\n",
       "      <th>9</th>\n",
       "      <td>https://w3id.org/pmd/ao/tte/pmdao-tto-tt-S355-4_process</td>\n",
       "      <td>https://w3id.org/pmd/ao/tte/pmdao-tto-tt-S355-4_environmentalTemperature</td>\n",
       "      <td>20.0</td>\n",
       "      <td>http://qudt.org/vocab/unit/DEG_C</td>\n",
       "    </tr>\n",
       "    <tr>\n",
       "      <th>10</th>\n",
       "      <td>https://w3id.org/pmd/ao/tte/pmdao-tto-tt-S355-4_process</td>\n",
       "      <td>https://w3id.org/pmd/ao/tte/pmdao-tto-tt-S355-4_extensometerGaugeLength</td>\n",
       "      <td>50.0</td>\n",
       "      <td>http://qudt.org/vocab/unit/MilliM</td>\n",
       "    </tr>\n",
       "    <tr>\n",
       "      <th>11</th>\n",
       "      <td>https://w3id.org/pmd/ao/tte/pmdao-tto-tt-S355-4_process</td>\n",
       "      <td>https://w3id.org/pmd/ao/tte/pmdao-tto-tt-S355-4_transitionPoint</td>\n",
       "      <td>3.8</td>\n",
       "      <td>http://qudt.org/vocab/unit/PERCENT</td>\n",
       "    </tr>\n",
       "  </tbody>\n",
       "</table>\n",
       "</div>"
      ],
      "text/plain": [
       "   URI                                                      Quantity                                                                  value unit                               \n",
       "0   https://w3id.org/pmd/ao/tte/pmdao-tto-tt-S355-1_process  https://w3id.org/pmd/ao/tte/pmdao-tto-tt-S355-1_environmentalTemperature  20.0    http://qudt.org/vocab/unit/DEG_C\n",
       "1   https://w3id.org/pmd/ao/tte/pmdao-tto-tt-S355-1_process   https://w3id.org/pmd/ao/tte/pmdao-tto-tt-S355-1_extensometerGaugeLength  50.0   http://qudt.org/vocab/unit/MilliM\n",
       "2   https://w3id.org/pmd/ao/tte/pmdao-tto-tt-S355-1_process           https://w3id.org/pmd/ao/tte/pmdao-tto-tt-S355-1_transitionPoint   1.6  http://qudt.org/vocab/unit/PERCENT\n",
       "3   https://w3id.org/pmd/ao/tte/pmdao-tto-tt-S355-2_process  https://w3id.org/pmd/ao/tte/pmdao-tto-tt-S355-2_environmentalTemperature  20.0    http://qudt.org/vocab/unit/DEG_C\n",
       "4   https://w3id.org/pmd/ao/tte/pmdao-tto-tt-S355-2_process   https://w3id.org/pmd/ao/tte/pmdao-tto-tt-S355-2_extensometerGaugeLength  50.0   http://qudt.org/vocab/unit/MilliM\n",
       "5   https://w3id.org/pmd/ao/tte/pmdao-tto-tt-S355-2_process           https://w3id.org/pmd/ao/tte/pmdao-tto-tt-S355-2_transitionPoint   3.8  http://qudt.org/vocab/unit/PERCENT\n",
       "6   https://w3id.org/pmd/ao/tte/pmdao-tto-tt-S355-3_process  https://w3id.org/pmd/ao/tte/pmdao-tto-tt-S355-3_environmentalTemperature  20.0    http://qudt.org/vocab/unit/DEG_C\n",
       "7   https://w3id.org/pmd/ao/tte/pmdao-tto-tt-S355-3_process   https://w3id.org/pmd/ao/tte/pmdao-tto-tt-S355-3_extensometerGaugeLength  50.0   http://qudt.org/vocab/unit/MilliM\n",
       "8   https://w3id.org/pmd/ao/tte/pmdao-tto-tt-S355-3_process           https://w3id.org/pmd/ao/tte/pmdao-tto-tt-S355-3_transitionPoint   3.8  http://qudt.org/vocab/unit/PERCENT\n",
       "9   https://w3id.org/pmd/ao/tte/pmdao-tto-tt-S355-4_process  https://w3id.org/pmd/ao/tte/pmdao-tto-tt-S355-4_environmentalTemperature  20.0    http://qudt.org/vocab/unit/DEG_C\n",
       "10  https://w3id.org/pmd/ao/tte/pmdao-tto-tt-S355-4_process   https://w3id.org/pmd/ao/tte/pmdao-tto-tt-S355-4_extensometerGaugeLength  50.0   http://qudt.org/vocab/unit/MilliM\n",
       "11  https://w3id.org/pmd/ao/tte/pmdao-tto-tt-S355-4_process           https://w3id.org/pmd/ao/tte/pmdao-tto-tt-S355-4_transitionPoint   3.8  http://qudt.org/vocab/unit/PERCENT"
      ]
     },
     "execution_count": 24,
     "metadata": {},
     "output_type": "execute_result"
    }
   ],
   "source": [
    "metadata_results_rns.iwm.ontodocker_iwm.pmdco2_tto_example_parallel.result # is a pandas dataframe"
   ]
  },
  {
   "cell_type": "code",
   "execution_count": 25,
   "id": "56fda764-e949-48ea-b64e-6594ec62364e",
   "metadata": {},
   "outputs": [],
   "source": [
    "results_test_URI = primary_data_results_rns.iwm.ontodocker_iwm.pmdco2_tto_example_parallel.result.query('URI == @testURI')"
   ]
  },
  {
   "cell_type": "code",
   "execution_count": 26,
   "id": "c761e0df-a701-4a01-85c3-c4cf281ef5d2",
   "metadata": {},
   "outputs": [
    {
     "data": {
      "text/html": [
       "<div>\n",
       "<style scoped>\n",
       "    .dataframe tbody tr th:only-of-type {\n",
       "        vertical-align: middle;\n",
       "    }\n",
       "\n",
       "    .dataframe tbody tr th {\n",
       "        vertical-align: top;\n",
       "    }\n",
       "\n",
       "    .dataframe thead th {\n",
       "        text-align: right;\n",
       "    }\n",
       "</style>\n",
       "<table border=\"1\" class=\"dataframe\">\n",
       "  <thead>\n",
       "    <tr style=\"text-align: left;\">\n",
       "      <th></th>\n",
       "      <th>URI</th>\n",
       "      <th>Quantity</th>\n",
       "      <th>value</th>\n",
       "      <th>unit</th>\n",
       "    </tr>\n",
       "  </thead>\n",
       "  <tbody>\n",
       "    <tr>\n",
       "      <th>0</th>\n",
       "      <td>https://w3id.org/pmd/ao/tte/pmdao-tto-tt-S355-1_process</td>\n",
       "      <td>https://w3id.org/pmd/ao/tte/pmdao-tto-tt-S355-1_crossSectionArea_S0</td>\n",
       "      <td>120.636</td>\n",
       "      <td>http://qudt.org/vocab/unit/MilliM2</td>\n",
       "    </tr>\n",
       "    <tr>\n",
       "      <th>1</th>\n",
       "      <td>https://w3id.org/pmd/ao/tte/pmdao-tto-tt-S355-1_process</td>\n",
       "      <td>https://w3id.org/pmd/ao/tte/pmdao-tto-tt-S355-1_crossSectionArea_Su</td>\n",
       "      <td>52.659</td>\n",
       "      <td>http://qudt.org/vocab/unit/MilliM2</td>\n",
       "    </tr>\n",
       "    <tr>\n",
       "      <th>2</th>\n",
       "      <td>https://w3id.org/pmd/ao/tte/pmdao-tto-tt-S355-1_process</td>\n",
       "      <td>https://w3id.org/pmd/ao/tte/pmdao-tto-tt-S355-1_crossSectionArea_s1</td>\n",
       "      <td>120.675</td>\n",
       "      <td>http://qudt.org/vocab/unit/MilliM2</td>\n",
       "    </tr>\n",
       "    <tr>\n",
       "      <th>3</th>\n",
       "      <td>https://w3id.org/pmd/ao/tte/pmdao-tto-tt-S355-1_process</td>\n",
       "      <td>https://w3id.org/pmd/ao/tte/pmdao-tto-tt-S355-1_crossSectionArea_s2</td>\n",
       "      <td>120.608</td>\n",
       "      <td>http://qudt.org/vocab/unit/MilliM2</td>\n",
       "    </tr>\n",
       "    <tr>\n",
       "      <th>4</th>\n",
       "      <td>https://w3id.org/pmd/ao/tte/pmdao-tto-tt-S355-1_process</td>\n",
       "      <td>https://w3id.org/pmd/ao/tte/pmdao-tto-tt-S355-1_crossSectionArea_s3</td>\n",
       "      <td>120.625</td>\n",
       "      <td>http://qudt.org/vocab/unit/MilliM2</td>\n",
       "    </tr>\n",
       "    <tr>\n",
       "      <th>5</th>\n",
       "      <td>https://w3id.org/pmd/ao/tte/pmdao-tto-tt-S355-1_process</td>\n",
       "      <td>https://w3id.org/pmd/ao/tte/pmdao-tto-tt-S355-1_finalGaugeLengthAfterFracture_Lu</td>\n",
       "      <td>NaN</td>\n",
       "      <td>http://qudt.org/vocab/unit/MilliM</td>\n",
       "    </tr>\n",
       "    <tr>\n",
       "      <th>6</th>\n",
       "      <td>https://w3id.org/pmd/ao/tte/pmdao-tto-tt-S355-1_process</td>\n",
       "      <td>https://w3id.org/pmd/ao/tte/pmdao-tto-tt-S355-1_originalGaugeLength_L0</td>\n",
       "      <td>60.0</td>\n",
       "      <td>http://qudt.org/vocab/unit/MilliM</td>\n",
       "    </tr>\n",
       "    <tr>\n",
       "      <th>7</th>\n",
       "      <td>https://w3id.org/pmd/ao/tte/pmdao-tto-tt-S355-1_process</td>\n",
       "      <td>https://w3id.org/pmd/ao/tte/pmdao-tto-tt-S355-1_thicknessAfterFracture_au</td>\n",
       "      <td>3.52</td>\n",
       "      <td>http://qudt.org/vocab/unit/MilliM</td>\n",
       "    </tr>\n",
       "    <tr>\n",
       "      <th>8</th>\n",
       "      <td>https://w3id.org/pmd/ao/tte/pmdao-tto-tt-S355-1_process</td>\n",
       "      <td>https://w3id.org/pmd/ao/tte/pmdao-tto-tt-S355-1_thickness_a1</td>\n",
       "      <td>5.993</td>\n",
       "      <td>http://qudt.org/vocab/unit/MilliM</td>\n",
       "    </tr>\n",
       "    <tr>\n",
       "      <th>9</th>\n",
       "      <td>https://w3id.org/pmd/ao/tte/pmdao-tto-tt-S355-1_process</td>\n",
       "      <td>https://w3id.org/pmd/ao/tte/pmdao-tto-tt-S355-1_thickness_a2</td>\n",
       "      <td>5.987</td>\n",
       "      <td>http://qudt.org/vocab/unit/MilliM</td>\n",
       "    </tr>\n",
       "    <tr>\n",
       "      <th>10</th>\n",
       "      <td>https://w3id.org/pmd/ao/tte/pmdao-tto-tt-S355-1_process</td>\n",
       "      <td>https://w3id.org/pmd/ao/tte/pmdao-tto-tt-S355-1_thickness_a3</td>\n",
       "      <td>5.992</td>\n",
       "      <td>http://qudt.org/vocab/unit/MilliM</td>\n",
       "    </tr>\n",
       "    <tr>\n",
       "      <th>11</th>\n",
       "      <td>https://w3id.org/pmd/ao/tte/pmdao-tto-tt-S355-1_process</td>\n",
       "      <td>https://w3id.org/pmd/ao/tte/pmdao-tto-tt-S355-1_widthAfterFracture_bu</td>\n",
       "      <td>14.96</td>\n",
       "      <td>http://qudt.org/vocab/unit/MilliM</td>\n",
       "    </tr>\n",
       "    <tr>\n",
       "      <th>12</th>\n",
       "      <td>https://w3id.org/pmd/ao/tte/pmdao-tto-tt-S355-1_process</td>\n",
       "      <td>https://w3id.org/pmd/ao/tte/pmdao-tto-tt-S355-1_width_b1</td>\n",
       "      <td>20.136</td>\n",
       "      <td>http://qudt.org/vocab/unit/MilliM</td>\n",
       "    </tr>\n",
       "    <tr>\n",
       "      <th>13</th>\n",
       "      <td>https://w3id.org/pmd/ao/tte/pmdao-tto-tt-S355-1_process</td>\n",
       "      <td>https://w3id.org/pmd/ao/tte/pmdao-tto-tt-S355-1_width_b2</td>\n",
       "      <td>20.145</td>\n",
       "      <td>http://qudt.org/vocab/unit/MilliM</td>\n",
       "    </tr>\n",
       "    <tr>\n",
       "      <th>14</th>\n",
       "      <td>https://w3id.org/pmd/ao/tte/pmdao-tto-tt-S355-1_process</td>\n",
       "      <td>https://w3id.org/pmd/ao/tte/pmdao-tto-tt-S355-1_width_b3</td>\n",
       "      <td>20.131</td>\n",
       "      <td>http://qudt.org/vocab/unit/MilliM</td>\n",
       "    </tr>\n",
       "  </tbody>\n",
       "</table>\n",
       "</div>"
      ],
      "text/plain": [
       "   URI                                                      Quantity                                                                          value    unit                               \n",
       "0   https://w3id.org/pmd/ao/tte/pmdao-tto-tt-S355-1_process               https://w3id.org/pmd/ao/tte/pmdao-tto-tt-S355-1_crossSectionArea_S0  120.636  http://qudt.org/vocab/unit/MilliM2\n",
       "1   https://w3id.org/pmd/ao/tte/pmdao-tto-tt-S355-1_process               https://w3id.org/pmd/ao/tte/pmdao-tto-tt-S355-1_crossSectionArea_Su   52.659  http://qudt.org/vocab/unit/MilliM2\n",
       "2   https://w3id.org/pmd/ao/tte/pmdao-tto-tt-S355-1_process               https://w3id.org/pmd/ao/tte/pmdao-tto-tt-S355-1_crossSectionArea_s1  120.675  http://qudt.org/vocab/unit/MilliM2\n",
       "3   https://w3id.org/pmd/ao/tte/pmdao-tto-tt-S355-1_process               https://w3id.org/pmd/ao/tte/pmdao-tto-tt-S355-1_crossSectionArea_s2  120.608  http://qudt.org/vocab/unit/MilliM2\n",
       "4   https://w3id.org/pmd/ao/tte/pmdao-tto-tt-S355-1_process               https://w3id.org/pmd/ao/tte/pmdao-tto-tt-S355-1_crossSectionArea_s3  120.625  http://qudt.org/vocab/unit/MilliM2\n",
       "5   https://w3id.org/pmd/ao/tte/pmdao-tto-tt-S355-1_process  https://w3id.org/pmd/ao/tte/pmdao-tto-tt-S355-1_finalGaugeLengthAfterFracture_Lu      NaN   http://qudt.org/vocab/unit/MilliM\n",
       "6   https://w3id.org/pmd/ao/tte/pmdao-tto-tt-S355-1_process            https://w3id.org/pmd/ao/tte/pmdao-tto-tt-S355-1_originalGaugeLength_L0     60.0   http://qudt.org/vocab/unit/MilliM\n",
       "7   https://w3id.org/pmd/ao/tte/pmdao-tto-tt-S355-1_process         https://w3id.org/pmd/ao/tte/pmdao-tto-tt-S355-1_thicknessAfterFracture_au     3.52   http://qudt.org/vocab/unit/MilliM\n",
       "8   https://w3id.org/pmd/ao/tte/pmdao-tto-tt-S355-1_process                      https://w3id.org/pmd/ao/tte/pmdao-tto-tt-S355-1_thickness_a1    5.993   http://qudt.org/vocab/unit/MilliM\n",
       "9   https://w3id.org/pmd/ao/tte/pmdao-tto-tt-S355-1_process                      https://w3id.org/pmd/ao/tte/pmdao-tto-tt-S355-1_thickness_a2    5.987   http://qudt.org/vocab/unit/MilliM\n",
       "10  https://w3id.org/pmd/ao/tte/pmdao-tto-tt-S355-1_process                      https://w3id.org/pmd/ao/tte/pmdao-tto-tt-S355-1_thickness_a3    5.992   http://qudt.org/vocab/unit/MilliM\n",
       "11  https://w3id.org/pmd/ao/tte/pmdao-tto-tt-S355-1_process             https://w3id.org/pmd/ao/tte/pmdao-tto-tt-S355-1_widthAfterFracture_bu    14.96   http://qudt.org/vocab/unit/MilliM\n",
       "12  https://w3id.org/pmd/ao/tte/pmdao-tto-tt-S355-1_process                          https://w3id.org/pmd/ao/tte/pmdao-tto-tt-S355-1_width_b1   20.136   http://qudt.org/vocab/unit/MilliM\n",
       "13  https://w3id.org/pmd/ao/tte/pmdao-tto-tt-S355-1_process                          https://w3id.org/pmd/ao/tte/pmdao-tto-tt-S355-1_width_b2   20.145   http://qudt.org/vocab/unit/MilliM\n",
       "14  https://w3id.org/pmd/ao/tte/pmdao-tto-tt-S355-1_process                          https://w3id.org/pmd/ao/tte/pmdao-tto-tt-S355-1_width_b3   20.131   http://qudt.org/vocab/unit/MilliM"
      ]
     },
     "execution_count": 26,
     "metadata": {},
     "output_type": "execute_result"
    }
   ],
   "source": [
    "results_test_URI"
   ]
  },
  {
   "cell_type": "code",
   "execution_count": 27,
   "id": "bac8e20e-fe04-4406-9109-c85bd6ff78b0",
   "metadata": {},
   "outputs": [
    {
     "data": {
      "text/html": [
       "<div>\n",
       "<style scoped>\n",
       "    .dataframe tbody tr th:only-of-type {\n",
       "        vertical-align: middle;\n",
       "    }\n",
       "\n",
       "    .dataframe tbody tr th {\n",
       "        vertical-align: top;\n",
       "    }\n",
       "\n",
       "    .dataframe thead th {\n",
       "        text-align: right;\n",
       "    }\n",
       "</style>\n",
       "<table border=\"1\" class=\"dataframe\">\n",
       "  <thead>\n",
       "    <tr style=\"text-align: left;\">\n",
       "      <th></th>\n",
       "      <th>URI</th>\n",
       "      <th>Quantity</th>\n",
       "      <th>value</th>\n",
       "      <th>unit</th>\n",
       "    </tr>\n",
       "  </thead>\n",
       "  <tbody>\n",
       "    <tr>\n",
       "      <th>0</th>\n",
       "      <td>https://w3id.org/pmd/ao/tte/pmdao-tto-tt-S355-1_process</td>\n",
       "      <td>https://w3id.org/pmd/ao/tte/pmdao-tto-tt-S355-1_crossSectionArea_S0</td>\n",
       "      <td>120.636</td>\n",
       "      <td>http://qudt.org/vocab/unit/MilliM2</td>\n",
       "    </tr>\n",
       "  </tbody>\n",
       "</table>\n",
       "</div>"
      ],
      "text/plain": [
       "  URI                                                      Quantity                                                             value    unit                               \n",
       "0  https://w3id.org/pmd/ao/tte/pmdao-tto-tt-S355-1_process  https://w3id.org/pmd/ao/tte/pmdao-tto-tt-S355-1_crossSectionArea_S0  120.636  http://qudt.org/vocab/unit/MilliM2"
      ]
     },
     "execution_count": 27,
     "metadata": {},
     "output_type": "execute_result"
    }
   ],
   "source": [
    "results_test_URI.query(\"Quantity == 'https://w3id.org/pmd/ao/tte/pmdao-tto-tt-S355-1_crossSectionArea_S0'\")"
   ]
  },
  {
   "cell_type": "code",
   "execution_count": 28,
   "id": "9eca4758-50ea-4e26-8db3-ad542ababeff",
   "metadata": {},
   "outputs": [
    {
     "data": {
      "text/plain": [
       "0    120.636\n",
       "Name: value, dtype: object"
      ]
     },
     "execution_count": 28,
     "metadata": {},
     "output_type": "execute_result"
    }
   ],
   "source": [
    "s0_value_ds = results_test_URI.query(\"Quantity == 'https://w3id.org/pmd/ao/tte/pmdao-tto-tt-S355-1_crossSectionArea_S0'\")['value']\n",
    "s0_value_ds"
   ]
  },
  {
   "cell_type": "code",
   "execution_count": 29,
   "id": "d8c9cc8f-8e9a-4daa-ad12-9f95bb22c738",
   "metadata": {},
   "outputs": [
    {
     "data": {
      "text/plain": [
       "0    http://qudt.org/vocab/unit/MilliM2\n",
       "Name: unit, dtype: object"
      ]
     },
     "execution_count": 29,
     "metadata": {},
     "output_type": "execute_result"
    }
   ],
   "source": [
    "s0_unit_ds = results_test_URI.query(\"Quantity == 'https://w3id.org/pmd/ao/tte/pmdao-tto-tt-S355-1_crossSectionArea_S0'\")['unit']\n",
    "s0_unit_ds"
   ]
  },
  {
   "cell_type": "code",
   "execution_count": 30,
   "id": "a5513fe7-d978-4ac9-b8e9-3ee1eb029bda",
   "metadata": {},
   "outputs": [
    {
     "data": {
      "text/plain": [
       "'120.636'"
      ]
     },
     "execution_count": 30,
     "metadata": {},
     "output_type": "execute_result"
    }
   ],
   "source": [
    "s0_value_ds[0] # is a string"
   ]
  },
  {
   "cell_type": "code",
   "execution_count": 31,
   "id": "2004eed4-bea9-4db4-8958-ce0a1daf371d",
   "metadata": {},
   "outputs": [
    {
     "data": {
      "text/plain": [
       "120.636"
      ]
     },
     "execution_count": 31,
     "metadata": {},
     "output_type": "execute_result"
    }
   ],
   "source": [
    "import ast\n",
    "ast.literal_eval(s0_value_ds[0]) # convert to the correct type using abstract sysntax tree"
   ]
  },
  {
   "cell_type": "code",
   "execution_count": 32,
   "id": "dc18a0ee-356b-4144-a2b2-c76800310cc1",
   "metadata": {},
   "outputs": [
    {
     "data": {
      "text/plain": [
       "float"
      ]
     },
     "execution_count": 32,
     "metadata": {},
     "output_type": "execute_result"
    }
   ],
   "source": [
    "type(ast.literal_eval(s0_value_ds[0]))"
   ]
  },
  {
   "cell_type": "code",
   "execution_count": 33,
   "id": "9d2c7cb0-7eb3-444a-b38c-0ab8d597c4ab",
   "metadata": {},
   "outputs": [
    {
     "data": {
      "text/plain": [
       "str"
      ]
     },
     "execution_count": 33,
     "metadata": {},
     "output_type": "execute_result"
    }
   ],
   "source": [
    "type(s0_unit_ds[0])"
   ]
  },
  {
   "cell_type": "code",
   "execution_count": null,
   "id": "cdb1d830-91e6-4e1c-9405-03e9a323522c",
   "metadata": {},
   "outputs": [],
   "source": []
  }
 ],
 "metadata": {
  "kernelspec": {
   "display_name": "Python 3 (ipykernel)",
   "language": "python",
   "name": "python3"
  },
  "language_info": {
   "codemirror_mode": {
    "name": "ipython",
    "version": 3
   },
   "file_extension": ".py",
   "mimetype": "text/x-python",
   "name": "python",
   "nbconvert_exporter": "python",
   "pygments_lexer": "ipython3",
   "version": "3.11.10"
  }
 },
 "nbformat": 4,
 "nbformat_minor": 5
}
