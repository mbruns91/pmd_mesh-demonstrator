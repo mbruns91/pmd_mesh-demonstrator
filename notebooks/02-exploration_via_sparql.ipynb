{
 "cells": [
  {
   "cell_type": "markdown",
   "id": "7bf139f3-cb64-4c87-b914-055628b07ad3",
   "metadata": {},
   "source": [
    "# Exploring the distributed information via SPARQL and helper methods\n",
    "Next, we answer a few typical quations a user would ask when working with the datasets. A user has to know the addresses of the SPARQL endpoints of interest.  \n",
    "We basically have 2 options:\n",
    "1. Define the SPARQL-query, then loop over all SPARQL-Endpoints and digest the response\n",
    "2. Collect the graphs from the Endpoints, put the together into one graph-object and then operate on this object.\n",
    "   1. collect via SPARQL, store, put together\n",
    "   2. directly get the turtlefile via the ontodocker API, store locally, then load from the files and put together into one object. "
   ]
  },
  {
   "cell_type": "markdown",
   "id": "0c6bf437-8f61-4af6-a81e-a19a5b961718",
   "metadata": {},
   "source": [
    "Set up things to use the mesh and load participanf information:"
   ]
  },
  {
   "cell_type": "code",
   "execution_count": 1,
   "id": "da7bd96a-f55b-4115-b6a7-0bc132641814",
   "metadata": {},
   "outputs": [],
   "source": [
    "import os\n",
    "os.environ[\"REQUESTS_CA_BUNDLE\"] = \"/etc/ssl/certs/ca-certificates.crt\"\n",
    "\n",
    "import json\n",
    "import sys\n",
    "sys.path.append(\"..\")\n",
    "import helpers\n",
    "\n",
    "with open('../secrets/participant_registry.json') as f:\n",
    "    partners = json.load(f, object_hook=lambda d: helpers.RecursiveNamespace(**d))"
   ]
  },
  {
   "cell_type": "markdown",
   "id": "f6c90ada-7b80-4229-a1b9-031d0629e349",
   "metadata": {},
   "source": [
    "## SPARQL queries\n",
    "To make the following notebook easierly readable, we define some queries in `queries.py`. At the moment, they are hard-coded and will only work for these specific versions of pmdCO and the TTO."
   ]
  },
  {
   "cell_type": "code",
   "execution_count": 2,
   "id": "377d82f6-d6ff-4b82-ba67-2e90507de43a",
   "metadata": {},
   "outputs": [],
   "source": [
    "from queries import QueryCollection\n",
    "queries = QueryCollection()"
   ]
  },
  {
   "attachments": {},
   "cell_type": "markdown",
   "id": "be62f22c-9fe1-4282-afff-bde89af6be21",
   "metadata": {},
   "source": [
    "You can find queries which prompt for various information:\n",
    "- `queries.query_materialDesignation()` For which material is data available?  \n",
    "This reads out the `pmdco:value` stored under `pmdco:materialDesignation`\n",
    "- `queries.query_processType()`: What process type was performed on S355?\n",
    "- `queries.query_orientation()`: In what orientation relative to the rolling direction was each specimen cut?\n",
    "- `queries.query_deviceAndStandard()`: Which device and standard was used for the measurements?\n",
    "- `queries.query_specimen()`: What is the specimen ID\n",
    "- `queries.query_csvurl()`: Under which URL can we find the csv-file?\n",
    "\n",
    "The queries are defined as class methods. They return a dataclass instance, allowing to easily add new methods(queries) and enabling a dot notation and tab completion. They return the query (as a string) and column headers (as a list of strings), corresponding to the returned values of the resp. query.  \n",
    "Because a `dataclass` is uesd, it is very easy to make returned contents attributes directly accessible via dot-notation while reducing boilerplate code (defining `__init__` etc.):"
   ]
  },
  {
   "cell_type": "code",
   "execution_count": 3,
   "id": "a36c3e3a-0992-4d7d-b85f-e162514d6893",
   "metadata": {},
   "outputs": [
    {
     "name": "stdout",
     "output_type": "stream",
     "text": [
      "query =\n",
      "        PREFIX pmd: <https://w3id.org/pmd/co/>\n",
      "        SELECT DISTINCT ?p ?matDesVal\n",
      "        WHERE {\n",
      "            ?s a pmd:TestPiece .\n",
      "            ?p pmd:input ?s .\n",
      "            ?p pmd:characteristic ?matDes .\n",
      "            ?matDes a pmd:materialDesignation .\n",
      "            ?matDes pmd:value ?matDesVal .\n",
      "        }\n",
      "        ORDER BY ?p\n",
      "        \n",
      "\n",
      "columns = ['URI', 'materialDesignation']\n"
     ]
    }
   ],
   "source": [
    "query = queries.material_designation()\n",
    "print(\"query =\"+query.query)\n",
    "print(\"\")\n",
    "print(\"columns = \"+str(query.columns))"
   ]
  },
  {
   "cell_type": "markdown",
   "id": "35a99f93-6354-4a79-80e8-8a152fce5070",
   "metadata": {},
   "source": [
    "## Explore the datasets\n",
    "Here, we demonstrate how a simple data exploration can be done by sending queries directly to the intances' SPARQL endpoints and looping over instances. We perform queries using the `SPARQLWrapper` module, wrpeed in some convenience methods (from `../helpers.py`)"
   ]
  },
  {
   "cell_type": "markdown",
   "id": "67b1da2c-2151-44be-9470-8803f6fed783",
   "metadata": {},
   "source": [
    "### Get a first idea\n",
    "First, we have a look at the accessible endpoints on the instances referenced in `partners`, to know which endpoints are accessible. We do this via http requests to the ontodocker API (sending `GET` to `<address>/api/v1/endpoints`): "
   ]
  },
  {
   "cell_type": "code",
   "execution_count": 4,
   "id": "ccc51b9d-3a90-4808-880b-679c4ea96825",
   "metadata": {},
   "outputs": [
    {
     "name": "stdout",
     "output_type": "stream",
     "text": [
      "['http://ontodocker.iwm.pmd.internal/api/v1/jena/pmdco2_tto_example_parallel/sparql', 'http://ontodocker.iwm.pmd.internal/api/v1/jena/pmdco2_tto_example_perpendicular/sparql', 'http://ontodocker.iwm.pmd.internal/api/v1/jena/test/sparql']\n",
      "['https://ontodocker.iwt.pmd.internal/api/v1/jena/pmdco2_tto_example_parallel/sparql', 'https://ontodocker.iwt.pmd.internal/api/v1/jena/pmdco2_tto_example_perpendicular/sparql']\n",
      "['http://ontodocker.mpi-susmat.pmd.internal/api/v1/jena/pmdco2_tto_example_diagonal/sparql']\n"
     ]
    }
   ],
   "source": [
    "import requests\n",
    "for key in partners.__dict__:\n",
    "    address = getattr(partners, key).ontodocker.address\n",
    "    token = getattr(partners, key).ontodocker.token\n",
    "    \n",
    "    headers = {\"Authorization\": f\"Bearer {token}\"}\n",
    "    result = helpers.rectify_endpoints(requests.get(f'{address}/api/v1/endpoints', headers=headers).content.decode())\n",
    "    print(result)"
   ]
  },
  {
   "cell_type": "markdown",
   "id": "782c6683-503b-45d1-a44e-08b0eabfa8c6",
   "metadata": {},
   "source": [
    "This gives us an idea of the dataset names. In `heleprs.py`, ther is a method `federated_query()`, which helps to distribute the query among endpoints. To avoid alway querying all endpoints, eventhough they do not contain the dataset of interest, you can pass a list of strings, of which you expect to be in the dataset names (e.g. `\"_tto_example_\"` in this case). You can also just list the exact names of the datasets to query precisely the correct endpoints. if `datasets = None`, all endpoints are queried."
   ]
  },
  {
   "cell_type": "code",
   "execution_count": 5,
   "id": "1814a23e-1538-4f14-930e-275b199de31e",
   "metadata": {},
   "outputs": [],
   "source": [
    "datasets = None"
   ]
  },
  {
   "cell_type": "code",
   "execution_count": 6,
   "id": "0a898fd5-feb2-4cab-9c12-6e7310d3c72c",
   "metadata": {},
   "outputs": [
    {
     "name": "stdout",
     "output_type": "stream",
     "text": [
      "Sending query to \"http://ontodocker.iwm.pmd.internal/api/v1/jena/pmdco2_tto_example_parallel/sparql\". Result:\n",
      "                                                 URI materialDesignation\n",
      "0  https://w3id.org/pmd/ao/tte/pmdao-tto-tt-S355-...                S355\n",
      "1  https://w3id.org/pmd/ao/tte/pmdao-tto-tt-S355-...                S355\n",
      "2  https://w3id.org/pmd/ao/tte/pmdao-tto-tt-S355-...                S355\n",
      "3  https://w3id.org/pmd/ao/tte/pmdao-tto-tt-S355-...                S355\n",
      "\n",
      "Sending query to \"http://ontodocker.iwm.pmd.internal/api/v1/jena/pmdco2_tto_example_perpendicular/sparql\". Result:\n",
      "                                                 URI materialDesignation\n",
      "0  https://w3id.org/pmd/ao/tte/pmdao-tto-tt-S355-...                S355\n",
      "1  https://w3id.org/pmd/ao/tte/pmdao-tto-tt-S355-...                S355\n",
      "2  https://w3id.org/pmd/ao/tte/pmdao-tto-tt-S355-...                S355\n",
      "3  https://w3id.org/pmd/ao/tte/pmdao-tto-tt-S355-...                S355\n",
      "\n",
      "Sending query to \"http://ontodocker.iwm.pmd.internal/api/v1/jena/test/sparql\". Result:\n",
      "Empty DataFrame\n",
      "Columns: [URI, materialDesignation]\n",
      "Index: []\n",
      "\n",
      "Sending query to \"https://ontodocker.iwt.pmd.internal/api/v1/jena/pmdco2_tto_example_parallel/sparql\". Result:\n",
      "                                                 URI materialDesignation\n",
      "0  https://w3id.org/pmd/ao/tte/pmdao-tto-tt-S355-...                S355\n",
      "1  https://w3id.org/pmd/ao/tte/pmdao-tto-tt-S355-...                S355\n",
      "2  https://w3id.org/pmd/ao/tte/pmdao-tto-tt-S355-...                S355\n",
      "3  https://w3id.org/pmd/ao/tte/pmdao-tto-tt-S355-...                S355\n",
      "\n",
      "Sending query to \"https://ontodocker.iwt.pmd.internal/api/v1/jena/pmdco2_tto_example_perpendicular/sparql\". Result:\n",
      "                                                 URI materialDesignation\n",
      "0  https://w3id.org/pmd/ao/tte/pmdao-tto-tt-S355-...                S355\n",
      "1  https://w3id.org/pmd/ao/tte/pmdao-tto-tt-S355-...                S355\n",
      "2  https://w3id.org/pmd/ao/tte/pmdao-tto-tt-S355-...                S355\n",
      "3  https://w3id.org/pmd/ao/tte/pmdao-tto-tt-S355-...                S355\n",
      "\n",
      "Sending query to \"http://ontodocker.mpi-susmat.pmd.internal/api/v1/jena/pmdco2_tto_example_diagonal/sparql\". Result:\n",
      "                                                 URI materialDesignation\n",
      "0  https://w3id.org/pmd/ao/tte/pmdao-tto-tt-S355-...                S355\n",
      "1  https://w3id.org/pmd/ao/tte/pmdao-tto-tt-S355-...                S355\n",
      "\n"
     ]
    }
   ],
   "source": [
    "query = queries.material_designation()\n",
    "matDes_results = helpers.federated_query(partners, datasets, query.query, query.columns, print_to_screen=True)"
   ]
  },
  {
   "cell_type": "markdown",
   "id": "01d0a12b-5756-431d-9f7b-51ae89cafe37",
   "metadata": {},
   "source": [
    "You can suppress the output to screen by stting `print_to_screen=False`. Note the empty oputput for datasets which do not fit the query. This can be avoided by specifying `datasets` more precisely:"
   ]
  },
  {
   "cell_type": "code",
   "execution_count": 7,
   "id": "aedce92a-9a14-40c9-9bc2-394324b8f245",
   "metadata": {},
   "outputs": [
    {
     "name": "stdout",
     "output_type": "stream",
     "text": [
      "Sending query to \"http://ontodocker.iwm.pmd.internal/api/v1/jena/pmdco2_tto_example_parallel/sparql\". Result:\n",
      "                                                 URI materialDesignation\n",
      "0  https://w3id.org/pmd/ao/tte/pmdao-tto-tt-S355-...                S355\n",
      "1  https://w3id.org/pmd/ao/tte/pmdao-tto-tt-S355-...                S355\n",
      "2  https://w3id.org/pmd/ao/tte/pmdao-tto-tt-S355-...                S355\n",
      "3  https://w3id.org/pmd/ao/tte/pmdao-tto-tt-S355-...                S355\n",
      "\n",
      "Sending query to \"http://ontodocker.iwm.pmd.internal/api/v1/jena/pmdco2_tto_example_perpendicular/sparql\". Result:\n",
      "                                                 URI materialDesignation\n",
      "0  https://w3id.org/pmd/ao/tte/pmdao-tto-tt-S355-...                S355\n",
      "1  https://w3id.org/pmd/ao/tte/pmdao-tto-tt-S355-...                S355\n",
      "2  https://w3id.org/pmd/ao/tte/pmdao-tto-tt-S355-...                S355\n",
      "3  https://w3id.org/pmd/ao/tte/pmdao-tto-tt-S355-...                S355\n",
      "\n",
      "Sending query to \"https://ontodocker.iwt.pmd.internal/api/v1/jena/pmdco2_tto_example_parallel/sparql\". Result:\n",
      "                                                 URI materialDesignation\n",
      "0  https://w3id.org/pmd/ao/tte/pmdao-tto-tt-S355-...                S355\n",
      "1  https://w3id.org/pmd/ao/tte/pmdao-tto-tt-S355-...                S355\n",
      "2  https://w3id.org/pmd/ao/tte/pmdao-tto-tt-S355-...                S355\n",
      "3  https://w3id.org/pmd/ao/tte/pmdao-tto-tt-S355-...                S355\n",
      "\n",
      "Sending query to \"https://ontodocker.iwt.pmd.internal/api/v1/jena/pmdco2_tto_example_perpendicular/sparql\". Result:\n",
      "                                                 URI materialDesignation\n",
      "0  https://w3id.org/pmd/ao/tte/pmdao-tto-tt-S355-...                S355\n",
      "1  https://w3id.org/pmd/ao/tte/pmdao-tto-tt-S355-...                S355\n",
      "2  https://w3id.org/pmd/ao/tte/pmdao-tto-tt-S355-...                S355\n",
      "3  https://w3id.org/pmd/ao/tte/pmdao-tto-tt-S355-...                S355\n",
      "\n",
      "Sending query to \"http://ontodocker.mpi-susmat.pmd.internal/api/v1/jena/pmdco2_tto_example_diagonal/sparql\". Result:\n",
      "                                                 URI materialDesignation\n",
      "0  https://w3id.org/pmd/ao/tte/pmdao-tto-tt-S355-...                S355\n",
      "1  https://w3id.org/pmd/ao/tte/pmdao-tto-tt-S355-...                S355\n",
      "\n"
     ]
    }
   ],
   "source": [
    "datasets = [\"pmdco2_tto_example_parallel\", \"pmdco2_tto_example_perpendicular\",\"pmdco2_tto_example_diagonal\"]\n",
    "matDes_results = helpers.federated_query(partners, datasets, query.query, query.columns, print_to_screen=True)"
   ]
  },
  {
   "cell_type": "markdown",
   "id": "2e7cb81c-a4ab-4448-9b3d-6c7552881321",
   "metadata": {},
   "source": [
    "Again, we can again use the `RecusiveNamespace` class to make this browsable via dot-notation and tab-completion:"
   ]
  },
  {
   "cell_type": "code",
   "execution_count": 8,
   "id": "d8c91951-952c-413c-8314-ec3d69135ece",
   "metadata": {},
   "outputs": [],
   "source": [
    "matDes_results_rns = helpers.RecursiveNamespace(**matDes_results)"
   ]
  },
  {
   "cell_type": "code",
   "execution_count": 9,
   "id": "969ed63f-eaa5-4a3e-b1c0-f945ff5f27c2",
   "metadata": {},
   "outputs": [
    {
     "name": "stdout",
     "output_type": "stream",
     "text": [
      "endpoint =\n",
      "http://ontodocker.mpi-susmat.pmd.internal/api/v1/jena/pmdco2_tto_example_diagonal/sparql\n",
      "\n",
      "query =\n",
      "        PREFIX pmd: <https://w3id.org/pmd/co/>\n",
      "        SELECT DISTINCT ?p ?matDesVal\n",
      "        WHERE {\n",
      "            ?s a pmd:TestPiece .\n",
      "            ?p pmd:input ?s .\n",
      "            ?p pmd:characteristic ?matDes .\n",
      "            ?matDes a pmd:materialDesignation .\n",
      "            ?matDes pmd:value ?matDesVal .\n",
      "        }\n",
      "        ORDER BY ?p\n",
      "        \n"
     ]
    }
   ],
   "source": [
    "print(\"endpoint =\\n\"+str(matDes_results_rns.mpi_susmat.ontodocker_mpisusmat.pmdco2_tto_example_diagonal.endpoint))\n",
    "print(\"\")\n",
    "print(\"query =\"+str(matDes_results_rns.mpi_susmat.ontodocker_mpisusmat.pmdco2_tto_example_diagonal.query))"
   ]
  },
  {
   "cell_type": "markdown",
   "id": "52ef4d28-a27e-4f4a-b306-5bb60fe55341",
   "metadata": {},
   "source": [
    "And of course the result of the query is also accessible (as a `pandas` dataframe):"
   ]
  },
  {
   "cell_type": "code",
   "execution_count": 13,
   "id": "24fd90a0-bc72-4080-a3cf-379b727d0ca8",
   "metadata": {},
   "outputs": [
    {
     "data": {
      "text/html": [
       "<div>\n",
       "<style scoped>\n",
       "    .dataframe tbody tr th:only-of-type {\n",
       "        vertical-align: middle;\n",
       "    }\n",
       "\n",
       "    .dataframe tbody tr th {\n",
       "        vertical-align: top;\n",
       "    }\n",
       "\n",
       "    .dataframe thead th {\n",
       "        text-align: right;\n",
       "    }\n",
       "</style>\n",
       "<table border=\"1\" class=\"dataframe\">\n",
       "  <thead>\n",
       "    <tr style=\"text-align: left;\">\n",
       "      <th></th>\n",
       "      <th>URI</th>\n",
       "      <th>materialDesignation</th>\n",
       "    </tr>\n",
       "  </thead>\n",
       "  <tbody>\n",
       "    <tr>\n",
       "      <th>0</th>\n",
       "      <td>https://w3id.org/pmd/ao/tte/pmdao-tto-tt-S355-10_process</td>\n",
       "      <td>S355</td>\n",
       "    </tr>\n",
       "    <tr>\n",
       "      <th>1</th>\n",
       "      <td>https://w3id.org/pmd/ao/tte/pmdao-tto-tt-S355-9_process</td>\n",
       "      <td>S355</td>\n",
       "    </tr>\n",
       "  </tbody>\n",
       "</table>\n",
       "</div>"
      ],
      "text/plain": [
       "  URI                                                       materialDesignation\n",
       "0  https://w3id.org/pmd/ao/tte/pmdao-tto-tt-S355-10_process  S355              \n",
       "1   https://w3id.org/pmd/ao/tte/pmdao-tto-tt-S355-9_process  S355              "
      ]
     },
     "execution_count": 13,
     "metadata": {},
     "output_type": "execute_result"
    }
   ],
   "source": [
    "matDes_results_rns.mpi_susmat.ontodocker_mpisusmat.pmdco2_tto_example_diagonal.result"
   ]
  },
  {
   "cell_type": "markdown",
   "id": "9176a52a-f961-490a-bdad-ee480b497bcd",
   "metadata": {},
   "source": [
    "Adjust `pandas` to improve readability:"
   ]
  },
  {
   "cell_type": "code",
   "execution_count": 14,
   "id": "c20bbea2-efbb-43e3-a642-2a2907d63dad",
   "metadata": {},
   "outputs": [
    {
     "data": {
      "text/html": [
       "<div>\n",
       "<style scoped>\n",
       "    .dataframe tbody tr th:only-of-type {\n",
       "        vertical-align: middle;\n",
       "    }\n",
       "\n",
       "    .dataframe tbody tr th {\n",
       "        vertical-align: top;\n",
       "    }\n",
       "\n",
       "    .dataframe thead th {\n",
       "        text-align: right;\n",
       "    }\n",
       "</style>\n",
       "<table border=\"1\" class=\"dataframe\">\n",
       "  <thead>\n",
       "    <tr style=\"text-align: left;\">\n",
       "      <th></th>\n",
       "      <th>URI</th>\n",
       "      <th>materialDesignation</th>\n",
       "    </tr>\n",
       "  </thead>\n",
       "  <tbody>\n",
       "    <tr>\n",
       "      <th>0</th>\n",
       "      <td>https://w3id.org/pmd/ao/tte/pmdao-tto-tt-S355-10_process</td>\n",
       "      <td>S355</td>\n",
       "    </tr>\n",
       "    <tr>\n",
       "      <th>1</th>\n",
       "      <td>https://w3id.org/pmd/ao/tte/pmdao-tto-tt-S355-9_process</td>\n",
       "      <td>S355</td>\n",
       "    </tr>\n",
       "  </tbody>\n",
       "</table>\n",
       "</div>"
      ],
      "text/plain": [
       "  URI                                                       materialDesignation\n",
       "0  https://w3id.org/pmd/ao/tte/pmdao-tto-tt-S355-10_process  S355              \n",
       "1   https://w3id.org/pmd/ao/tte/pmdao-tto-tt-S355-9_process  S355              "
      ]
     },
     "execution_count": 14,
     "metadata": {},
     "output_type": "execute_result"
    }
   ],
   "source": [
    "import pandas as pd\n",
    "pd.set_option('display.max_colwidth', None)\n",
    "pd.set_option('display.colheader_justify', 'left')\n",
    "pd.set_option('display.width', 200)\n",
    "\n",
    "matDes_results_rns.mpi_susmat.ontodocker_mpisusmat.pmdco2_tto_example_diagonal.result"
   ]
  },
  {
   "cell_type": "markdown",
   "id": "f3b46765-0224-4954-9270-fc872693d2d6",
   "metadata": {},
   "source": [
    "## The actual exploration:\n",
    "### 1.) What material was tested?"
   ]
  },
  {
   "cell_type": "code",
   "execution_count": 15,
   "id": "dbf44ec9-85bb-428a-af01-5ae23d97ec80",
   "metadata": {},
   "outputs": [
    {
     "name": "stdout",
     "output_type": "stream",
     "text": [
      "Sending query to \"http://ontodocker.iwm.pmd.internal/api/v1/jena/pmdco2_tto_example_parallel/sparql\". Result:\n",
      "  URI                                                      materialDesignation\n",
      "0  https://w3id.org/pmd/ao/tte/pmdao-tto-tt-S355-1_process  S355              \n",
      "1  https://w3id.org/pmd/ao/tte/pmdao-tto-tt-S355-2_process  S355              \n",
      "2  https://w3id.org/pmd/ao/tte/pmdao-tto-tt-S355-3_process  S355              \n",
      "3  https://w3id.org/pmd/ao/tte/pmdao-tto-tt-S355-4_process  S355              \n",
      "\n",
      "Sending query to \"http://ontodocker.iwm.pmd.internal/api/v1/jena/pmdco2_tto_example_perpendicular/sparql\". Result:\n",
      "  URI                                                      materialDesignation\n",
      "0  https://w3id.org/pmd/ao/tte/pmdao-tto-tt-S355-5_process  S355              \n",
      "1  https://w3id.org/pmd/ao/tte/pmdao-tto-tt-S355-6_process  S355              \n",
      "2  https://w3id.org/pmd/ao/tte/pmdao-tto-tt-S355-7_process  S355              \n",
      "3  https://w3id.org/pmd/ao/tte/pmdao-tto-tt-S355-8_process  S355              \n",
      "\n",
      "Sending query to \"https://ontodocker.iwt.pmd.internal/api/v1/jena/pmdco2_tto_example_parallel/sparql\". Result:\n",
      "  URI                                                      materialDesignation\n",
      "0  https://w3id.org/pmd/ao/tte/pmdao-tto-tt-S355-1_process  S355              \n",
      "1  https://w3id.org/pmd/ao/tte/pmdao-tto-tt-S355-2_process  S355              \n",
      "2  https://w3id.org/pmd/ao/tte/pmdao-tto-tt-S355-3_process  S355              \n",
      "3  https://w3id.org/pmd/ao/tte/pmdao-tto-tt-S355-4_process  S355              \n",
      "\n",
      "Sending query to \"https://ontodocker.iwt.pmd.internal/api/v1/jena/pmdco2_tto_example_perpendicular/sparql\". Result:\n",
      "  URI                                                      materialDesignation\n",
      "0  https://w3id.org/pmd/ao/tte/pmdao-tto-tt-S355-5_process  S355              \n",
      "1  https://w3id.org/pmd/ao/tte/pmdao-tto-tt-S355-6_process  S355              \n",
      "2  https://w3id.org/pmd/ao/tte/pmdao-tto-tt-S355-7_process  S355              \n",
      "3  https://w3id.org/pmd/ao/tte/pmdao-tto-tt-S355-8_process  S355              \n",
      "\n",
      "Sending query to \"http://ontodocker.mpi-susmat.pmd.internal/api/v1/jena/pmdco2_tto_example_diagonal/sparql\". Result:\n",
      "  URI                                                       materialDesignation\n",
      "0  https://w3id.org/pmd/ao/tte/pmdao-tto-tt-S355-10_process  S355              \n",
      "1   https://w3id.org/pmd/ao/tte/pmdao-tto-tt-S355-9_process  S355              \n",
      "\n"
     ]
    }
   ],
   "source": [
    "query = queries.material_designation()\n",
    "results = helpers.federated_query(partners, datasets, query.query, query.columns, print_to_screen=True)\n",
    "results_rns = helpers.RecursiveNamespace(**matDes_results)"
   ]
  },
  {
   "cell_type": "markdown",
   "id": "95ded5c6-5b1d-40ce-add3-aa64fa9081ab",
   "metadata": {},
   "source": [
    "### 2.) What processes were performed on the specimen? "
   ]
  },
  {
   "cell_type": "code",
   "execution_count": 16,
   "id": "dcd5559e-eccb-4a1f-ba37-b26c2a95e191",
   "metadata": {},
   "outputs": [
    {
     "name": "stdout",
     "output_type": "stream",
     "text": [
      "Sending query to \"http://ontodocker.iwm.pmd.internal/api/v1/jena/pmdco2_tto_example_parallel/sparql\". Result:\n",
      "  URI                                                      Process type                        \n",
      "0  https://w3id.org/pmd/ao/tte/pmdao-tto-tt-S355-1_process  https://w3id.org/pmd/co/TensileTest\n",
      "1  https://w3id.org/pmd/ao/tte/pmdao-tto-tt-S355-2_process  https://w3id.org/pmd/co/TensileTest\n",
      "2  https://w3id.org/pmd/ao/tte/pmdao-tto-tt-S355-3_process  https://w3id.org/pmd/co/TensileTest\n",
      "3  https://w3id.org/pmd/ao/tte/pmdao-tto-tt-S355-4_process  https://w3id.org/pmd/co/TensileTest\n",
      "\n",
      "Sending query to \"http://ontodocker.iwm.pmd.internal/api/v1/jena/pmdco2_tto_example_perpendicular/sparql\". Result:\n",
      "  URI                                                      Process type                        \n",
      "0  https://w3id.org/pmd/ao/tte/pmdao-tto-tt-S355-5_process  https://w3id.org/pmd/co/TensileTest\n",
      "1  https://w3id.org/pmd/ao/tte/pmdao-tto-tt-S355-6_process  https://w3id.org/pmd/co/TensileTest\n",
      "2  https://w3id.org/pmd/ao/tte/pmdao-tto-tt-S355-7_process  https://w3id.org/pmd/co/TensileTest\n",
      "3  https://w3id.org/pmd/ao/tte/pmdao-tto-tt-S355-8_process  https://w3id.org/pmd/co/TensileTest\n",
      "\n",
      "Sending query to \"https://ontodocker.iwt.pmd.internal/api/v1/jena/pmdco2_tto_example_parallel/sparql\". Result:\n",
      "  URI                                                      Process type                        \n",
      "0  https://w3id.org/pmd/ao/tte/pmdao-tto-tt-S355-1_process  https://w3id.org/pmd/co/TensileTest\n",
      "1  https://w3id.org/pmd/ao/tte/pmdao-tto-tt-S355-2_process  https://w3id.org/pmd/co/TensileTest\n",
      "2  https://w3id.org/pmd/ao/tte/pmdao-tto-tt-S355-3_process  https://w3id.org/pmd/co/TensileTest\n",
      "3  https://w3id.org/pmd/ao/tte/pmdao-tto-tt-S355-4_process  https://w3id.org/pmd/co/TensileTest\n",
      "\n",
      "Sending query to \"https://ontodocker.iwt.pmd.internal/api/v1/jena/pmdco2_tto_example_perpendicular/sparql\". Result:\n",
      "  URI                                                      Process type                        \n",
      "0  https://w3id.org/pmd/ao/tte/pmdao-tto-tt-S355-5_process  https://w3id.org/pmd/co/TensileTest\n",
      "1  https://w3id.org/pmd/ao/tte/pmdao-tto-tt-S355-6_process  https://w3id.org/pmd/co/TensileTest\n",
      "2  https://w3id.org/pmd/ao/tte/pmdao-tto-tt-S355-7_process  https://w3id.org/pmd/co/TensileTest\n",
      "3  https://w3id.org/pmd/ao/tte/pmdao-tto-tt-S355-8_process  https://w3id.org/pmd/co/TensileTest\n",
      "\n",
      "Sending query to \"http://ontodocker.mpi-susmat.pmd.internal/api/v1/jena/pmdco2_tto_example_diagonal/sparql\". Result:\n",
      "  URI                                                       Process type                        \n",
      "0  https://w3id.org/pmd/ao/tte/pmdao-tto-tt-S355-10_process  https://w3id.org/pmd/co/TensileTest\n",
      "1   https://w3id.org/pmd/ao/tte/pmdao-tto-tt-S355-9_process  https://w3id.org/pmd/co/TensileTest\n",
      "\n"
     ]
    }
   ],
   "source": [
    "query = queries.process_type()\n",
    "results = helpers.federated_query(partners, datasets, query.query, query.columns, print_to_screen=True)\n",
    "results_rns = helpers.RecursiveNamespace(**matDes_results)"
   ]
  },
  {
   "cell_type": "markdown",
   "id": "f097b7f4-8369-46d0-874b-437e8bd43648",
   "metadata": {},
   "source": [
    "### 3.) In what orientation relative to the rolling direction was each specimen cut?"
   ]
  },
  {
   "cell_type": "code",
   "execution_count": null,
   "id": "5cd711b2-ba67-4ede-8154-3f3ada6533d4",
   "metadata": {},
   "outputs": [],
   "source": [
    "query = queries.orientation()\n",
    "results = helpers.federated_query(partners, datasets, query.query, query.columns, print_to_screen=True)\n",
    "results_rns = helpers.RecursiveNamespace(**matDes_results)"
   ]
  },
  {
   "cell_type": "markdown",
   "id": "df7ecfd0-68bb-49ea-ab42-30762005e49a",
   "metadata": {},
   "source": [
    "### 4.) Which device was used for the measurements?"
   ]
  },
  {
   "cell_type": "code",
   "execution_count": null,
   "id": "fd62037e-a474-487d-b5ad-b5b2e3db22c1",
   "metadata": {},
   "outputs": [],
   "source": [
    "query = queries.extensiometer()\n",
    "results = helpers.federated_query(partners, datasets, query.query, query.columns, print_to_screen=True)\n",
    "results_rns = helpers.RecursiveNamespace(**matDes_results)"
   ]
  },
  {
   "cell_type": "markdown",
   "id": "930ae6a5-a005-4987-9ac1-a81392959cb8",
   "metadata": {},
   "source": [
    "### 5.) Which standard was applied?"
   ]
  },
  {
   "cell_type": "code",
   "execution_count": null,
   "id": "59839076-53a4-4881-9e22-b3915eedaa3d",
   "metadata": {},
   "outputs": [],
   "source": [
    "query = queries.standard()\n",
    "results = helpers.federated_query(partners, datasets, query.query, query.columns, print_to_screen=True)\n",
    "results_rns = helpers.RecursiveNamespace(**matDes_results)"
   ]
  },
  {
   "cell_type": "markdown",
   "id": "757d82d7-57ce-4d51-8679-03e02ef74296",
   "metadata": {},
   "source": [
    "### 6.) Which ID was assigned to the specimen?"
   ]
  },
  {
   "cell_type": "code",
   "execution_count": null,
   "id": "2df22ccd-19c4-4738-a5d0-cc26f5585117",
   "metadata": {},
   "outputs": [],
   "source": [
    "query = queries.specimen_id()\n",
    "results = helpers.federated_query(partners, datasets, query.query, query.columns, print_to_screen=True)\n",
    "results_rns = helpers.RecursiveNamespace(**matDes_results)"
   ]
  },
  {
   "cell_type": "markdown",
   "id": "162069d6-3038-45d5-818a-c95d4d3a32c6",
   "metadata": {},
   "source": [
    "### 7.) For each process, show the URL to the data file."
   ]
  },
  {
   "cell_type": "code",
   "execution_count": null,
   "id": "e0f50680-68a2-4a3d-b4e7-e9bc9b7a3ed8",
   "metadata": {},
   "outputs": [],
   "source": [
    "query = queries.csv_url()\n",
    "results = helpers.federated_query(partners, datasets, query.query, query.columns, print_to_screen=True)\n",
    "results_rns = helpers.RecursiveNamespace(**matDes_results)"
   ]
  },
  {
   "cell_type": "markdown",
   "id": "f6d356e2-35ab-4f49-b6ed-e8d09350e550",
   "metadata": {},
   "source": [
    "**WIP:** Metadata. The queries are ther, but it makes sense to opionally only perform these queries for specific URI to reduce output."
   ]
  },
  {
   "cell_type": "code",
   "execution_count": null,
   "id": "2d3cc06a-e38b-4164-abc1-3e4450c4eef3",
   "metadata": {},
   "outputs": [],
   "source": [
    "testURI = \"https://w3id.org/pmd/ao/tte/pmdao-tto-tt-S355-1_process\"\n",
    "query = queries.primary_data(testURI)\n",
    "#distributed_query(partners, datasets, query.query, query.columns)"
   ]
  },
  {
   "cell_type": "code",
   "execution_count": null,
   "id": "c7bd35bb-9ac1-417d-8c61-c15c2a4deec9",
   "metadata": {},
   "outputs": [],
   "source": [
    "query = queries.secondary_data(testURI)\n",
    "#distributed_query(partners, datasets, query.query, query.columns)"
   ]
  },
  {
   "cell_type": "code",
   "execution_count": null,
   "id": "38fbe9aa-e116-471f-b51b-9032c21ff1e4",
   "metadata": {},
   "outputs": [],
   "source": [
    "query = queries.metadata(testURI)\n",
    "#distributed_query(partners, datasets, query.query, query.columns)"
   ]
  },
  {
   "cell_type": "code",
   "execution_count": null,
   "id": "56d4795d-c2be-44c6-b822-f07bcb4a265c",
   "metadata": {},
   "outputs": [],
   "source": []
  }
 ],
 "metadata": {
  "kernelspec": {
   "display_name": "Python 3 (ipykernel)",
   "language": "python",
   "name": "python3"
  },
  "language_info": {
   "codemirror_mode": {
    "name": "ipython",
    "version": 3
   },
   "file_extension": ".py",
   "mimetype": "text/x-python",
   "name": "python",
   "nbconvert_exporter": "python",
   "pygments_lexer": "ipython3",
   "version": "3.11.10"
  }
 },
 "nbformat": 4,
 "nbformat_minor": 5
}
