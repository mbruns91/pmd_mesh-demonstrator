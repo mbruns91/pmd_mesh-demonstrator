{
 "cells": [
  {
   "cell_type": "markdown",
   "id": "89a244ad-a8ff-483f-90ed-ff44a3882278",
   "metadata": {},
   "source": [
    "# Sharing data between `pyironhub` and `ontodocker` via the pmd-mesh\n",
    "In this notebook, we demonstrate how to use the API provided by ontodocker from within jupyter notebooks. This mostly shows a working example and performs similar API calls as shown in the notebook \"[`example.ipynb`](https://github.com/materialdigital/ontodocker/blob/dev2/example/example.ipynb)\" from the ontodocker github repository.\n",
    "\n",
    "As guidelines for the showcased functionality we used userstories:\n",
    "- **Setup:** The user is member of an institution which is part of a compound project between different institutions. Each institution has deployed a PMD-Server with runing services (in particular Ontodocker and pyiron/jupyterhub). Those services are connected to the PMD-Mesh. Web interfaces are Exposed via `https`. Access to those interfaces is then managed by the respective IT department via firewall rules (e.g. they are only accessible from within the institutes Network/VPN).\n",
    "- **US 1:** The user wants to access a set of known SPARQL endpoint to digest the hosted data.\n",
    "- **NEXT STEP** **US 2:** Three disjunct parts of the S355 dataset are hosted on three different instances on the mesh. The user wants to access those, concatenate them and perform an alisis. The concatenated Graph is extended by the analisis results and the uploaded to another ontodocker instance."
   ]
  },
  {
   "cell_type": "markdown",
   "id": "4def542d-8fd2-47ef-8c89-dc6ad179ef07",
   "metadata": {},
   "source": [
    "Some basic imports and setting of the environment variable `REQUESTS_CA_BUNDLE` required for proper verification of the mesh certificates:"
   ]
  },
  {
   "cell_type": "code",
   "execution_count": 1,
   "id": "ab6dcb11-ab5a-41dd-a9b5-a7bc871bc2cd",
   "metadata": {},
   "outputs": [],
   "source": [
    "import requests\n",
    "import os\n",
    "import json\n",
    "\n",
    "os.environ[\"REQUESTS_CA_BUNDLE\"] = \"/etc/ssl/certs/ca-certificates.crt\""
   ]
  },
  {
   "cell_type": "markdown",
   "id": "1ee238ce-3e55-477a-9d14-44e7cb2b3726",
   "metadata": {},
   "source": [
    "Load self-defined helpers, e.g. tab-completeion of connected server information. Some characters in the key-names might brake this, like e.g. hyphens."
   ]
  },
  {
   "cell_type": "code",
   "execution_count": 2,
   "id": "463ced9e-5841-471c-86c4-d79edc1ee6ee",
   "metadata": {},
   "outputs": [],
   "source": [
    "import helpers"
   ]
  },
  {
   "cell_type": "markdown",
   "id": "04fd03cd-6caf-4a84-8832-fa5879e8a004",
   "metadata": {},
   "source": [
    "load all server information from the json as a `RecursiveNamespace` object:"
   ]
  },
  {
   "cell_type": "code",
   "execution_count": 3,
   "id": "fc5c52c8-d179-412d-912d-3183fc3865b1",
   "metadata": {},
   "outputs": [],
   "source": [
    "with open('../secrets/endpoints.json') as f:\n",
    "    partners = json.load(f, object_hook=lambda d: helpers.RecursiveNamespace(**d))"
   ]
  },
  {
   "cell_type": "code",
   "execution_count": 6,
   "id": "a33ae3f3-06b1-4ce4-8aac-f300cce8968e",
   "metadata": {},
   "outputs": [
    {
     "data": {
      "text/plain": [
       "'ontodocker-mpisusmat'"
      ]
     },
     "execution_count": 6,
     "metadata": {},
     "output_type": "execute_result"
    }
   ],
   "source": [
    "partners.mpisusmat.ontodocker.name"
   ]
  },
  {
   "cell_type": "markdown",
   "id": "cdc207ef-eca7-4bdc-8bfe-318820cae65e",
   "metadata": {},
   "source": [
    "We can access the data required for accessing the server via a dot notation: `partners.<institute-name>.<service-name>.<address>` now has the services (mesh-) adress as value. Have a look at `../secrets/endpoints.json` and `helpers.py` for more. You can browse the contents of `partners` using tab completion. Iteration can be done using `dict`-mapping (`partners.__dict__`) and `getattr()`."
   ]
  },
  {
   "cell_type": "markdown",
   "id": "7b69be1a-01f3-4a1e-bead-a35a51b9ed5a",
   "metadata": {},
   "source": [
    "Request a list of all (sparql) Endpoints on the instances:"
   ]
  },
  {
   "cell_type": "code",
   "execution_count": 7,
   "id": "c909cec3-ae5a-464f-916f-f02c6b4307c1",
   "metadata": {},
   "outputs": [
    {
     "name": "stdout",
     "output_type": "stream",
     "text": [
      "Available SPARQL-endpoints at \"https://ontodocker.iwt.pmd.internal\":\n",
      "[\"https://ontodocker.iwt.pmd.internal:443/api/jena/pmdco2_tto_example_parallel/sparql\"]\n",
      "\n",
      "Available SPARQL-endpoints at \"https://ontodocker.iwm.pmd.internal\":\n",
      "[\"http://ontodocker.iwm.pmd.internal:None/api/jena/pmdco2_tto_example_perpendicular/sparql\",\"http://ontodocker.iwm.pmd.internal:None/api/jena/test/sparql\"]\n",
      "\n",
      "Available SPARQL-endpoints at \"https://ontodocker.mpi-susmat.pmd.internal\":\n",
      "[\"http://ontodocker.mpi-susmat.pmd.internal:None/api/jena/pmdco2_tto_example_diagonal/sparql\"]\n",
      "\n"
     ]
    }
   ],
   "source": [
    "for key in partners.__dict__:\n",
    "    address = getattr(partners, key).ontodocker.address\n",
    "    token = getattr(partners, key).ontodocker.token\n",
    "    \n",
    "    print(f'Available SPARQL-endpoints at \"{address}\":')\n",
    "    headers = {\"Authorization\": f\"Bearer {token}\"}\n",
    "    print(requests.get(f'{address}/api/v1/endpoints', headers=headers).content.decode())\n",
    "    print(\"\")"
   ]
  },
  {
   "cell_type": "markdown",
   "id": "f778a905-e52e-44ba-a98c-015f3e2f3655",
   "metadata": {},
   "source": [
    "Create an (empty) dataset"
   ]
  },
  {
   "cell_type": "code",
   "execution_count": 9,
   "id": "6c919d7d-954d-4aee-a225-fbe608417e53",
   "metadata": {},
   "outputs": [
    {
     "name": "stdout",
     "output_type": "stream",
     "text": [
      "Creating empty dataset at \"https://ontodocker.iwt.pmd.internal\":\n",
      "\"Dataset name pmdco2_tto_example created\"\n",
      "\n",
      "Creating empty dataset at \"https://ontodocker.iwm.pmd.internal\":\n",
      "\"Dataset name pmdco2_tto_example created\"\n",
      "\n",
      "Creating empty dataset at \"https://ontodocker.mpi-susmat.pmd.internal\":\n",
      "\"Dataset name pmdco2_tto_example created\"\n",
      "\n"
     ]
    }
   ],
   "source": [
    "dataset_name = \"pmdco2_tto_example\"\n",
    "for key in partners.__dict__:\n",
    "    address = getattr(partners, key).ontodocker.address\n",
    "    token = getattr(partners, key).ontodocker.token\n",
    "    \n",
    "    endpoint = f'{address}/api/v1/jena/{dataset_name}'\n",
    "    headers = {\"Authorization\": f'Bearer {token}'}\n",
    "    print(f'Creating empty dataset at \"{address}\":')\n",
    "    print(requests.put(endpoint, headers=headers).content.decode())\n",
    "    print(\"\")"
   ]
  },
  {
   "cell_type": "markdown",
   "id": "b141dd0c-5761-4541-aeb5-4a54ef810a4a",
   "metadata": {},
   "source": [
    "Upload a turtle file to the datasets:"
   ]
  },
  {
   "cell_type": "code",
   "execution_count": 10,
   "id": "ced94b15-7b5b-45af-9b7b-cc8faf349db6",
   "metadata": {},
   "outputs": [
    {
     "name": "stdout",
     "output_type": "stream",
     "text": [
      "Upload \"../pmdco2_tto_example.ttl\" to dataset \"pmdco2_tto_example\" at \"https://ontodocker.iwt.pmd.internal\"\n",
      "\"Upload succeeded { \\n  \\\"count\\\" : 2752 ,\\n  \\\"tripleCount\\\" : 2752 ,\\n  \\\"quadCount\\\" : 0\\n}\\n\"\n",
      "Upload \"../pmdco2_tto_example.ttl\" to dataset \"pmdco2_tto_example\" at \"https://ontodocker.iwm.pmd.internal\"\n",
      "\"Upload succeeded { \\n  \\\"count\\\" : 2752 ,\\n  \\\"tripleCount\\\" : 2752 ,\\n  \\\"quadCount\\\" : 0\\n}\\n\"\n",
      "Upload \"../pmdco2_tto_example.ttl\" to dataset \"pmdco2_tto_example\" at \"https://ontodocker.mpi-susmat.pmd.internal\"\n",
      "\"Upload succeeded { \\n  \\\"count\\\" : 2752 ,\\n  \\\"tripleCount\\\" : 2752 ,\\n  \\\"quadCount\\\" : 0\\n}\\n\"\n"
     ]
    }
   ],
   "source": [
    "turtle_file_path = \"../pmdco2_tto_example.ttl\"\n",
    "#dataset_name = \"pmdco2_tto_example\"\n",
    "for key in partners.__dict__:\n",
    "    address = getattr(partners, key).ontodocker.address\n",
    "    token = getattr(partners, key).ontodocker.token\n",
    "    \n",
    "    endpoint = f'{address}/api/v1/jena/{dataset_name}'\n",
    "    headers = {\"Authorization\": f'Bearer {token}'}\n",
    "    print(f'Upload \"{turtle_file_path}\" to dataset \"{dataset_name}\" at \"{address}\"')\n",
    "    print(requests.post(endpoint, headers=headers, files={'file': open(turtle_file_path, 'rb')}).content.decode())"
   ]
  },
  {
   "cell_type": "markdown",
   "id": "e6661abc-9ac0-4899-9918-0fb975a912cf",
   "metadata": {},
   "source": [
    "Test with a query and `SPARQLWrapper`:"
   ]
  },
  {
   "cell_type": "code",
   "execution_count": 11,
   "id": "08e3f014-c278-4109-9961-92c12583d48a",
   "metadata": {},
   "outputs": [],
   "source": [
    "# this fixes a bug in SPARQLWrapper. Must be placed befor SPARQLWrapper is imported\n",
    "import ssl\n",
    "ssl._create_default_https_context = ssl._create_unverified_context\n",
    "\n",
    "from SPARQLWrapper import SPARQLWrapper"
   ]
  },
  {
   "cell_type": "markdown",
   "id": "5c633479-caf8-4e46-a93e-d96bd949b224",
   "metadata": {},
   "source": [
    "Search again for all Endpoints to find the newly created one"
   ]
  },
  {
   "cell_type": "code",
   "execution_count": 12,
   "id": "b244528c-78f8-42ea-bd70-af4dc7256bb1",
   "metadata": {},
   "outputs": [
    {
     "name": "stdout",
     "output_type": "stream",
     "text": [
      "Available SPARQL-endpoints at \"https://ontodocker.iwt.pmd.internal\":\n",
      "[\"https://ontodocker.iwt.pmd.internal:443/api/jena/pmdco2_tto_example_parallel/sparql\",\"https://ontodocker.iwt.pmd.internal:443/api/jena/pmdco2_tto_example/sparql\"]\n",
      "\n",
      "Available SPARQL-endpoints at \"https://ontodocker.iwm.pmd.internal\":\n",
      "[\"http://ontodocker.iwm.pmd.internal:None/api/jena/pmdco2_tto_example/sparql\",\"http://ontodocker.iwm.pmd.internal:None/api/jena/pmdco2_tto_example_perpendicular/sparql\",\"http://ontodocker.iwm.pmd.internal:None/api/jena/test/sparql\"]\n",
      "\n",
      "Available SPARQL-endpoints at \"https://ontodocker.mpi-susmat.pmd.internal\":\n",
      "[\"http://ontodocker.mpi-susmat.pmd.internal:None/api/jena/pmdco2_tto_example/sparql\",\"http://ontodocker.mpi-susmat.pmd.internal:None/api/jena/pmdco2_tto_example_diagonal/sparql\"]\n",
      "\n"
     ]
    }
   ],
   "source": [
    "for key in partners.__dict__:\n",
    "    address = getattr(partners, key).ontodocker.address\n",
    "    token = getattr(partners, key).ontodocker.token\n",
    "    \n",
    "    print(f'Available SPARQL-endpoints at \"{address}\":')\n",
    "    headers = {\"Authorization\": f\"Bearer {token}\"}\n",
    "    print(requests.get(f'{address}/api/v1/endpoints', headers=headers).content.decode())\n",
    "    print(\"\")"
   ]
  },
  {
   "cell_type": "markdown",
   "id": "b59ee6f4-c9ac-4444-b625-1e55e02018f3",
   "metadata": {},
   "source": [
    "**CAUTION, there's a bug: you need to remove `:None` and add `/v1/` between `api` and `jena`!**"
   ]
  },
  {
   "cell_type": "markdown",
   "id": "f38bc289-eaa1-47b6-afad-f8942f0c303d",
   "metadata": {},
   "source": [
    "The returned value of the API call to `.../api/v1/endpoints` is a string. When looking at them, you see they usually are *lists of strings*. We can use the `ast` module to convert the output to the \"right\" python objects: "
   ]
  },
  {
   "cell_type": "code",
   "execution_count": 13,
   "id": "7bdd8928-9a97-4770-8626-6cfd0cc61b16",
   "metadata": {},
   "outputs": [
    {
     "name": "stdout",
     "output_type": "stream",
     "text": [
      "[\"https://ontodocker.iwt.pmd.internal:443/api/jena/pmdco2_tto_example_parallel/sparql\",\"https://ontodocker.iwt.pmd.internal:443/api/jena/pmdco2_tto_example/sparql\"]\n",
      "return value has type <class 'str'>\n",
      "\n",
      "['https://ontodocker.iwt.pmd.internal:443/api/jena/pmdco2_tto_example_parallel/sparql', 'https://ontodocker.iwt.pmd.internal:443/api/jena/pmdco2_tto_example/sparql']\n",
      "now casted to <class 'list'>\n",
      "\n",
      "\n",
      "[\"http://ontodocker.iwm.pmd.internal:None/api/jena/pmdco2_tto_example/sparql\",\"http://ontodocker.iwm.pmd.internal:None/api/jena/pmdco2_tto_example_perpendicular/sparql\",\"http://ontodocker.iwm.pmd.internal:None/api/jena/test/sparql\"]\n",
      "return value has type <class 'str'>\n",
      "\n",
      "['http://ontodocker.iwm.pmd.internal:None/api/jena/pmdco2_tto_example/sparql', 'http://ontodocker.iwm.pmd.internal:None/api/jena/pmdco2_tto_example_perpendicular/sparql', 'http://ontodocker.iwm.pmd.internal:None/api/jena/test/sparql']\n",
      "now casted to <class 'list'>\n",
      "\n",
      "\n",
      "[\"http://ontodocker.mpi-susmat.pmd.internal:None/api/jena/pmdco2_tto_example/sparql\",\"http://ontodocker.mpi-susmat.pmd.internal:None/api/jena/pmdco2_tto_example_diagonal/sparql\"]\n",
      "return value has type <class 'str'>\n",
      "\n",
      "['http://ontodocker.mpi-susmat.pmd.internal:None/api/jena/pmdco2_tto_example/sparql', 'http://ontodocker.mpi-susmat.pmd.internal:None/api/jena/pmdco2_tto_example_diagonal/sparql']\n",
      "now casted to <class 'list'>\n",
      "\n",
      "\n"
     ]
    }
   ],
   "source": [
    "import ast\n",
    "\n",
    "for key in partners.__dict__:\n",
    "    address = getattr(partners, key).ontodocker.address\n",
    "    token = getattr(partners, key).ontodocker.token\n",
    "    \n",
    "    headers = {\"Authorization\": f\"Bearer {token}\"}\n",
    "    result = requests.get(f'{address}/api/v1/endpoints', headers=headers).content.decode()\n",
    "    print(result)\n",
    "    print(f\"return value has type {type(result)}\\n\")\n",
    "    print(ast.literal_eval(result))\n",
    "    print(f\"now casted to {type(ast.literal_eval(result))}\\n\\n\")\n",
    "\n",
    "# make replacements/ insertions"
   ]
  },
  {
   "cell_type": "markdown",
   "id": "04d35a99-36f3-477f-a88e-16d17d08d8c9",
   "metadata": {},
   "source": [
    "Query the whole Graph. The result could later on e.g. be instantiated using `semantikon` or `tools4RDF` to peform simple reasoning or construct queries via tab completion."
   ]
  },
  {
   "cell_type": "code",
   "execution_count": 14,
   "id": "f81b662e-6f1a-49ed-b806-6ae3cdabb3fa",
   "metadata": {},
   "outputs": [
    {
     "name": "stdout",
     "output_type": "stream",
     "text": [
      "Sending query to \"https://ontodocker.iwt.pmd.internal/api/v1/jena/pmdco2_tto_example/sparql\". Result:\n",
      "{'head': {'vars': ['s', 'p', 'o']}, 'results': {'bindings': [{'s': {'type': 'uri', 'value': 'http://purl.org/spar/datacite/FunderIdentifierScheme'}, 'p': {'type': 'uri', 'value': 'http://www.w3.org/2000/01/rdf-schema#subClassOf'}, 'o': {'type': 'uri', 'value': 'http://purl.org/spar/datacite/IdentifierScheme'}}, {'s': {'type': 'uri', 'value': 'http://purl.org/spar/datacite/local-funder-identifier-scheme'}, 'p': {'type': 'uri', 'value': 'http://www.w3.org/1999/02/22-rdf-syntax-ns#type'}, 'o': {'type': 'uri', 'value': 'http://purl.org/spar/datacite/FunderIdentifierScheme'}}, {'s': {'type': 'uri', 'value': 'http://purl.org/spar/datacite/Wikidata'}, 'p': {'type': 'uri', 'value': 'http://www.w3.org/1999/02/22-rdf-syntax-ns#type'}, 'o': {'type': 'uri', 'value': 'http://purl.org/spar/datacite/IdentifierScheme'}}, {'s': {'type': 'uri', 'value': 'https://orcid.org/0000-0002-3717-7104'}, 'p': {'type': 'uri', 'value': 'http://www.w3.org/2000/01/rdf-schema#label'}, 'o': {'type': 'literal', 'value': 'Bernd Bayerlein'}}, {'s': {'type': 'uri', 'value': 'https://orcid.org/0000-0002-3717-7104'}, 'p': {'type': 'uri', 'value': 'http://www.w3.org/2000/01/rdf-schema#label'}, 'o': {'type': 'literal', 'value': 'Jörg Waitelonis'}}, {'s': {'type': 'uri', 'value': 'https://orcid.org/0000-0002-3717-7104'}, 'p': {'type': 'uri', 'value': 'http://www.w3.org/2000/01/rdf-schema#label'}, 'o': {'type': 'literal', 'value': 'Markus Schilling'}}, {'s': {'type': 'uri', 'value': 'https://orcid.org/0000-0002-3717-71 ... \n",
      "\n",
      "Sending query to \"https://ontodocker.iwm.pmd.internal/api/v1/jena/pmdco2_tto_example/sparql\". Result:\n",
      "{'head': {'vars': ['s', 'p', 'o']}, 'results': {'bindings': [{'s': {'type': 'uri', 'value': 'http://purl.org/spar/datacite/FunderIdentifierScheme'}, 'p': {'type': 'uri', 'value': 'http://www.w3.org/2000/01/rdf-schema#subClassOf'}, 'o': {'type': 'uri', 'value': 'http://purl.org/spar/datacite/IdentifierScheme'}}, {'s': {'type': 'uri', 'value': 'http://purl.org/spar/datacite/local-funder-identifier-scheme'}, 'p': {'type': 'uri', 'value': 'http://www.w3.org/1999/02/22-rdf-syntax-ns#type'}, 'o': {'type': 'uri', 'value': 'http://purl.org/spar/datacite/FunderIdentifierScheme'}}, {'s': {'type': 'uri', 'value': 'http://purl.org/spar/datacite/Wikidata'}, 'p': {'type': 'uri', 'value': 'http://www.w3.org/1999/02/22-rdf-syntax-ns#type'}, 'o': {'type': 'uri', 'value': 'http://purl.org/spar/datacite/IdentifierScheme'}}, {'s': {'type': 'uri', 'value': 'https://orcid.org/0000-0002-3717-7104'}, 'p': {'type': 'uri', 'value': 'http://www.w3.org/2000/01/rdf-schema#label'}, 'o': {'type': 'literal', 'value': 'Bernd Bayerlein'}}, {'s': {'type': 'uri', 'value': 'https://orcid.org/0000-0002-3717-7104'}, 'p': {'type': 'uri', 'value': 'http://www.w3.org/2000/01/rdf-schema#label'}, 'o': {'type': 'literal', 'value': 'Jörg Waitelonis'}}, {'s': {'type': 'uri', 'value': 'https://orcid.org/0000-0002-3717-7104'}, 'p': {'type': 'uri', 'value': 'http://www.w3.org/2000/01/rdf-schema#label'}, 'o': {'type': 'literal', 'value': 'Markus Schilling'}}, {'s': {'type': 'uri', 'value': 'https://orcid.org/0000-0002-3717-71 ... \n",
      "\n",
      "Sending query to \"https://ontodocker.mpi-susmat.pmd.internal/api/v1/jena/pmdco2_tto_example/sparql\". Result:\n",
      "{'head': {'vars': ['s', 'p', 'o']}, 'results': {'bindings': [{'s': {'type': 'uri', 'value': 'http://purl.org/spar/datacite/FunderIdentifierScheme'}, 'p': {'type': 'uri', 'value': 'http://www.w3.org/2000/01/rdf-schema#subClassOf'}, 'o': {'type': 'uri', 'value': 'http://purl.org/spar/datacite/IdentifierScheme'}}, {'s': {'type': 'uri', 'value': 'http://purl.org/spar/datacite/local-funder-identifier-scheme'}, 'p': {'type': 'uri', 'value': 'http://www.w3.org/1999/02/22-rdf-syntax-ns#type'}, 'o': {'type': 'uri', 'value': 'http://purl.org/spar/datacite/FunderIdentifierScheme'}}, {'s': {'type': 'uri', 'value': 'http://purl.org/spar/datacite/Wikidata'}, 'p': {'type': 'uri', 'value': 'http://www.w3.org/1999/02/22-rdf-syntax-ns#type'}, 'o': {'type': 'uri', 'value': 'http://purl.org/spar/datacite/IdentifierScheme'}}, {'s': {'type': 'uri', 'value': 'https://orcid.org/0000-0002-3717-7104'}, 'p': {'type': 'uri', 'value': 'http://www.w3.org/2000/01/rdf-schema#label'}, 'o': {'type': 'literal', 'value': 'Bernd Bayerlein'}}, {'s': {'type': 'uri', 'value': 'https://orcid.org/0000-0002-3717-7104'}, 'p': {'type': 'uri', 'value': 'http://www.w3.org/2000/01/rdf-schema#label'}, 'o': {'type': 'literal', 'value': 'Jörg Waitelonis'}}, {'s': {'type': 'uri', 'value': 'https://orcid.org/0000-0002-3717-7104'}, 'p': {'type': 'uri', 'value': 'http://www.w3.org/2000/01/rdf-schema#label'}, 'o': {'type': 'literal', 'value': 'Markus Schilling'}}, {'s': {'type': 'uri', 'value': 'https://orcid.org/0000-0002-3717-71 ... \n",
      "\n"
     ]
    }
   ],
   "source": [
    "#dataset_name = \"pmdco2_tto_example\"\n",
    "\n",
    "query =\"\"\"\n",
    "SELECT ?s ?p ?o WHERE { ?s ?p ?o }\n",
    "\"\"\" \n",
    "\n",
    "for key in partners.__dict__:\n",
    "    address = getattr(partners, key).ontodocker.address\n",
    "    token = getattr(partners, key).ontodocker.token\n",
    "    \n",
    "    sparql_endpoint = f'{address}/api/v1/jena/{dataset_name}/sparql'\n",
    "    sparql = SPARQLWrapper(sparql_endpoint)\n",
    "    sparql.setReturnFormat('json')\n",
    "    sparql.addCustomHttpHeader(\"Authorization\", f'Bearer {token}')\n",
    "    print(f'Sending query to \"{sparql_endpoint}\". Result:')\n",
    "    sparql.setQuery(query)\n",
    "    result = sparql.queryAndConvert()\n",
    "    print(str(result)[:1500]+\" ... \") # shortened only for demonstration purposes\n",
    "    print(\"\")"
   ]
  },
  {
   "cell_type": "markdown",
   "id": "9fe43c16-01a6-480f-8919-98701d62cd3d",
   "metadata": {},
   "source": [
    "# Deletion:"
   ]
  },
  {
   "cell_type": "code",
   "execution_count": 15,
   "id": "aad2f76d-7378-41ca-9c25-b8871e201649",
   "metadata": {},
   "outputs": [
    {
     "name": "stdout",
     "output_type": "stream",
     "text": [
      "Deleting dataset at \"https://ontodocker.iwt.pmd.internal\":\n",
      "Dataset endpoint was \"https://ontodocker.iwt.pmd.internal/api/v1/jena/pmdco2_tto_example\"\n",
      "\"Dataset name pmdco2_tto_example destroyed\"\n",
      "\n",
      "Deleting dataset at \"https://ontodocker.iwm.pmd.internal\":\n",
      "Dataset endpoint was \"https://ontodocker.iwm.pmd.internal/api/v1/jena/pmdco2_tto_example\"\n",
      "\"Dataset name pmdco2_tto_example destroyed\"\n",
      "\n",
      "Deleting dataset at \"https://ontodocker.mpi-susmat.pmd.internal\":\n",
      "Dataset endpoint was \"https://ontodocker.mpi-susmat.pmd.internal/api/v1/jena/pmdco2_tto_example\"\n",
      "\"Dataset name pmdco2_tto_example destroyed\"\n",
      "\n"
     ]
    }
   ],
   "source": [
    "#dataset_name = \"pmdco2_tto_example\"\n",
    "\n",
    "for key in partners.__dict__:\n",
    "    address = getattr(partners, key).ontodocker.address\n",
    "    token = getattr(partners, key).ontodocker.token\n",
    "    \n",
    "    endpoint = f'{address}/api/v1/jena/{dataset_name}'\n",
    "    headers = {\"Authorization\": f'Bearer {token}'}\n",
    "    print(f'Deleting dataset at \"{address}\":')\n",
    "    print(f'Dataset endpoint was \"{endpoint}\"')\n",
    "    print(requests.delete(endpoint, headers=headers).content.decode()+\"\\n\")"
   ]
  },
  {
   "cell_type": "code",
   "execution_count": 16,
   "id": "a8c8c8ba-f200-4c5c-b204-1a593c9d3582",
   "metadata": {},
   "outputs": [
    {
     "name": "stdout",
     "output_type": "stream",
     "text": [
      "Available SPARQL-endpoints at \"https://ontodocker.iwt.pmd.internal\":\n",
      "[\"https://ontodocker.iwt.pmd.internal:443/api/jena/pmdco2_tto_example_parallel/sparql\"]\n",
      "\n",
      "Available SPARQL-endpoints at \"https://ontodocker.iwm.pmd.internal\":\n",
      "[\"http://ontodocker.iwm.pmd.internal:None/api/jena/pmdco2_tto_example_perpendicular/sparql\",\"http://ontodocker.iwm.pmd.internal:None/api/jena/test/sparql\"]\n",
      "\n",
      "Available SPARQL-endpoints at \"https://ontodocker.mpi-susmat.pmd.internal\":\n",
      "[\"http://ontodocker.mpi-susmat.pmd.internal:None/api/jena/pmdco2_tto_example_diagonal/sparql\"]\n",
      "\n"
     ]
    }
   ],
   "source": [
    "for key in partners.__dict__:\n",
    "    address = getattr(partners, key).ontodocker.address\n",
    "    token = getattr(partners, key).ontodocker.token\n",
    "    \n",
    "    print(f'Available SPARQL-endpoints at \"{address}\":')\n",
    "    headers = {\"Authorization\": f\"Bearer {token}\"}\n",
    "    print(requests.get(f'{address}/api/v1/endpoints', headers=headers).content.decode())\n",
    "    print(\"\")"
   ]
  },
  {
   "cell_type": "markdown",
   "id": "b3e95b4d-f290-434f-b6b7-5bd5cd5f8785",
   "metadata": {},
   "source": [
    "# Next steps:\n",
    "- create three disjunct datasets, host them on three servers\n",
    "- concatenate and upload to mpi-susmat Ontodocker via mesh\n",
    "- ...\n",
    "- set up PMD-CKAN as data resource loaction within the mesh\n",
    "- digest the raw data from there (tensile test analisis)\n",
    "- ...\n",
    "- CKAN as EP registry (via api and GUI accessible)\n",
    "- deploy jupyterhubs on all servers\n",
    "- support notebookusage from remote kernels (i.e. running on a different server) to loacate the job execution on the data owner's server."
   ]
  },
  {
   "cell_type": "code",
   "execution_count": null,
   "id": "dd0dacfb-a820-41f8-bbe5-e266bd5588fb",
   "metadata": {},
   "outputs": [],
   "source": []
  }
 ],
 "metadata": {
  "kernelspec": {
   "display_name": "Python 3 (ipykernel)",
   "language": "python",
   "name": "python3"
  },
  "language_info": {
   "codemirror_mode": {
    "name": "ipython",
    "version": 3
   },
   "file_extension": ".py",
   "mimetype": "text/x-python",
   "name": "python",
   "nbconvert_exporter": "python",
   "pygments_lexer": "ipython3",
   "version": "3.11.10"
  }
 },
 "nbformat": 4,
 "nbformat_minor": 5
}
