{
 "cells": [
  {
   "cell_type": "markdown",
   "id": "89a244ad-a8ff-483f-90ed-ff44a3882278",
   "metadata": {},
   "source": [
    "# Sharing data between `pyironhub` and `ontodocker` via the pmd-mesh\n",
    "...\n",
    "\n",
    "## Requirements\n",
    "- The user has access to a (PMD-)Server hosting services which are connected to the pmd-mesh. Handly of the access to web interfaces (e.g. via https) has to be managed ba the resp. IT department (e.g. via firewall rules).\n",
    "- The user has collected information about other service instances she/he wants to access (e.g. via SPARQL-queries, for up-/downloading datasets etc.) in a `.json` file.  \n",
    "  **Here, we collected everything in `pmd_mesh-demonstrator/secrets/participant_registry.json`.** The file has the following structure:\n",
    "  ```json\n",
    "    {\n",
    "        \"institution-1\": {\n",
    "            \"service\": {\n",
    "                \"name\": \"<service name>\",\n",
    "                \"address\": \"<service address>\",\n",
    "                \"token\": \"<service token>\"\n",
    "            }\n",
    "        },\n",
    "        ...\n",
    "        \"institution-N\": {\n",
    "            \"service-1\": {\n",
    "                \"name\": \"<service-1 name>\",\n",
    "                \"address\": \"<service-1 address>\",\n",
    "                \"token\": \"<service-1 token>\"\n",
    "            },\n",
    "            ...\n",
    "            \"service-N\": {\n",
    "                \"name\": \"<service-N name>\",\n",
    "                \"address\": \"<service-N address>\"\n",
    "            }\n",
    "        }\n",
    "    }\n",
    "  ```\n",
    "  - The field names `name`, `address` and `token` are not prescribed, but it is recommended to use them. Each institution can have as many services as required. If not applicable, fields can be left out (e.g. `token` under `service-N` in `institution-N`).\n",
    "  - We later on make the information from this file browsable via dot-notation and tab-comletion. Therefore, **it is recommended to avoid any characters which are not allowed for python identifiers in the field keys** (so not `[.,<,>,,:,<whitespace>,/,\\,-,+,~,...]`).  \n",
    "    **If this is not the case, such characters are replaced by an underscore!** See `pmd_mesh-demonstrator/helpers.py: cananify_string(), RecursiveNamespace`.\n",
    "    The example here contains such \"bad\" key for demonstration puroses (e.g. there is a replacement `mpi-susmat` &rarr; `mpi_susmat`).\n",
    "  - Tokens have to be obtained individually for each service via the responsible admin.\n",
    "  - **This file is not version controlled** and it shouldn't be exposed anywhere. Tokens are confidential information, that allow the owner to delete anything on the resp. instance."
   ]
  },
  {
   "cell_type": "markdown",
   "id": "688b922c-e84c-4fa8-8a31-204686ac86e9",
   "metadata": {},
   "source": [
    "## Getting started"
   ]
  },
  {
   "cell_type": "markdown",
   "id": "aff38017-ea1c-42c7-a3a1-6ef9a68c0072",
   "metadata": {},
   "source": [
    "### Configuring the environment for using mesh addresses\n",
    "First, we need to set an environment variable to let the OS correctly handle the mesh certificates.:"
   ]
  },
  {
   "cell_type": "code",
   "execution_count": 1,
   "id": "b0f10601-a204-44af-818c-aa26e4077f89",
   "metadata": {},
   "outputs": [],
   "source": [
    "import os\n",
    "os.environ[\"REQUESTS_CA_BUNDLE\"] = \"/etc/ssl/certs/ca-certificates.crt\""
   ]
  },
  {
   "cell_type": "markdown",
   "id": "7167fd93-f658-4425-ab47-8336a1fc9314",
   "metadata": {},
   "source": [
    "This has to be done whenever one wants to use the mesh address of a service. Perhaps we can include this in the Container definition of the pyrion-image."
   ]
  },
  {
   "cell_type": "markdown",
   "id": "4def542d-8fd2-47ef-8c89-dc6ad179ef07",
   "metadata": {},
   "source": [
    "### Loading the participant information\n",
    "We need to import 2 modules:\n",
    "- `json`: to handle `json` files\n",
    "- `../helpers.py` to construct the \"right\" Object from the loaded json.\n",
    "\n",
    "The file `helpers.py` contains different functions and classes which will be useful when using the mesh."
   ]
  },
  {
   "cell_type": "code",
   "execution_count": 2,
   "id": "463ced9e-5841-471c-86c4-d79edc1ee6ee",
   "metadata": {},
   "outputs": [],
   "source": [
    "import json\n",
    "\n",
    "import sys\n",
    "sys.path.append(\"..\")\n",
    "import helpers"
   ]
  },
  {
   "cell_type": "markdown",
   "id": "04fd03cd-6caf-4a84-8832-fa5879e8a004",
   "metadata": {},
   "source": [
    "Now we can load all the service's information from the `json` file into a `RecursiveNamespace` object (defined in `helpers.py`):"
   ]
  },
  {
   "cell_type": "code",
   "execution_count": 3,
   "id": "fc5c52c8-d179-412d-912d-3183fc3865b1",
   "metadata": {},
   "outputs": [],
   "source": [
    "with open('../secrets/participant_registry.json') as f:\n",
    "    partners = json.load(f, object_hook=lambda d: helpers.RecursiveNamespace(**d))"
   ]
  },
  {
   "cell_type": "markdown",
   "id": "28b1640a-ad9e-4e40-9d0e-083c256f2e75",
   "metadata": {},
   "source": [
    "Instances of `RecursiveNamespace` allow for browsing through the server information via dot-notation and tab completion:"
   ]
  },
  {
   "cell_type": "code",
   "execution_count": 4,
   "id": "a33ae3f3-06b1-4ce4-8aac-f300cce8968e",
   "metadata": {},
   "outputs": [
    {
     "data": {
      "text/plain": [
       "'https://ontodocker.iwt.pmd.internal'"
      ]
     },
     "execution_count": 4,
     "metadata": {},
     "output_type": "execute_result"
    }
   ],
   "source": [
    "partners.iwt.ontodocker.address"
   ]
  },
  {
   "cell_type": "markdown",
   "id": "cdc207ef-eca7-4bdc-8bfe-318820cae65e",
   "metadata": {},
   "source": [
    "Iteration can be done using `dict`-mapping (`partners.__dict__`) and `getattr()` (See below).  \n",
    "Once again a reminder: **If any key contains invalid Python identifiers, these characters are replaced by an underscore!** See `pmd_mesh-demonstrator/helpers.py: cananify_string(), RecursiveNamespace`."
   ]
  },
  {
   "cell_type": "markdown",
   "id": "593363c8-0df5-4c64-8f45-0e2099ca3d96",
   "metadata": {},
   "source": [
    "### The Ontodocker API"
   ]
  },
  {
   "cell_type": "markdown",
   "id": "7b69be1a-01f3-4a1e-bead-a35a51b9ed5a",
   "metadata": {},
   "source": [
    "Here, we demonstrate how to use the `ontodocker` API from within jupyter notebooks. This mostly shows a working example and performs similar API calls as shown in the notebook `example/example.ipynb` from the [ontodocker github repository](https://github.com/materialdigital/ontodocker/blob/dev2/).  \n",
    "We need the `requests` module:"
   ]
  },
  {
   "cell_type": "code",
   "execution_count": 5,
   "id": "6a9ced9f-042c-47ab-90d1-05cc8c0cecf3",
   "metadata": {},
   "outputs": [],
   "source": [
    "import requests"
   ]
  },
  {
   "cell_type": "markdown",
   "id": "6d0968ac-8d7c-448d-82e5-3f0c10fa493a",
   "metadata": {},
   "source": [
    "Now, we can do requests/ API calls:  \n",
    "- Get a list of all SPARQL endpoints on each instace:"
   ]
  },
  {
   "cell_type": "code",
   "execution_count": 6,
   "id": "47683880-1021-4de7-8f5f-d80f008380dd",
   "metadata": {},
   "outputs": [
    {
     "name": "stdout",
     "output_type": "stream",
     "text": [
      "Available SPARQL-endpoints at \"https://ontodocker.iwt.pmd.internal\":\n",
      "[\"https://ontodocker.iwt.pmd.internal:443/api/jena/pmdco2_tto_example_parallel/sparql\"]\n",
      "\n",
      "Available SPARQL-endpoints at \"https://ontodocker.iwm.pmd.internal\":\n",
      "[\"http://ontodocker.iwm.pmd.internal:None/api/jena/pmdco2_tto_example_perpendicular/sparql\",\"http://ontodocker.iwm.pmd.internal:None/api/jena/test/sparql\"]\n",
      "\n",
      "Available SPARQL-endpoints at \"https://ontodocker.mpi-susmat.pmd.internal\":\n",
      "[\"http://ontodocker.mpi-susmat.pmd.internal:None/api/jena/pmdco2_tto_example_diagonal/sparql\"]\n",
      "\n"
     ]
    }
   ],
   "source": [
    "for key in partners.__dict__:\n",
    "    address = getattr(partners, key).ontodocker.address\n",
    "    token = getattr(partners, key).ontodocker.token\n",
    "    \n",
    "    print(f'Available SPARQL-endpoints at \"{address}\":')\n",
    "    headers = {\"Authorization\": f\"Bearer {token}\"}\n",
    "    print(requests.get(f'{address}/api/v1/endpoints', headers=headers).content.decode())\n",
    "    print(\"\")"
   ]
  },
  {
   "cell_type": "markdown",
   "id": "f778a905-e52e-44ba-a98c-015f3e2f3655",
   "metadata": {},
   "source": [
    "- Create an (empty) dataset"
   ]
  },
  {
   "cell_type": "code",
   "execution_count": 7,
   "id": "6c919d7d-954d-4aee-a225-fbe608417e53",
   "metadata": {},
   "outputs": [
    {
     "name": "stdout",
     "output_type": "stream",
     "text": [
      "Creating empty dataset at \"https://ontodocker.iwt.pmd.internal\":\n",
      "\"Dataset name pmdco2_tto_example created\"\n",
      "\n",
      "Creating empty dataset at \"https://ontodocker.iwm.pmd.internal\":\n",
      "\"Dataset name pmdco2_tto_example created\"\n",
      "\n",
      "Creating empty dataset at \"https://ontodocker.mpi-susmat.pmd.internal\":\n",
      "\"Dataset name pmdco2_tto_example created\"\n",
      "\n"
     ]
    }
   ],
   "source": [
    "dataset_name = \"pmdco2_tto_example\"\n",
    "for key in partners.__dict__:\n",
    "    address = getattr(partners, key).ontodocker.address\n",
    "    token = getattr(partners, key).ontodocker.token\n",
    "    \n",
    "    endpoint = f'{address}/api/v1/jena/{dataset_name}'\n",
    "    headers = {\"Authorization\": f'Bearer {token}'}\n",
    "    print(f'Creating empty dataset at \"{address}\":')\n",
    "    print(requests.put(endpoint, headers=headers).content.decode())\n",
    "    print(\"\")"
   ]
  },
  {
   "cell_type": "markdown",
   "id": "b141dd0c-5761-4541-aeb5-4a54ef810a4a",
   "metadata": {},
   "source": [
    "- Upload a turtle file to the datasets:"
   ]
  },
  {
   "cell_type": "code",
   "execution_count": 8,
   "id": "ced94b15-7b5b-45af-9b7b-cc8faf349db6",
   "metadata": {},
   "outputs": [
    {
     "name": "stdout",
     "output_type": "stream",
     "text": [
      "Upload \"../pmdco2_tto_example.ttl\" to dataset \"pmdco2_tto_example\" at \"https://ontodocker.iwt.pmd.internal\"\n",
      "\"Upload succeeded { \\n  \\\"count\\\" : 2752 ,\\n  \\\"tripleCount\\\" : 2752 ,\\n  \\\"quadCount\\\" : 0\\n}\\n\"\n",
      "\n",
      "Upload \"../pmdco2_tto_example.ttl\" to dataset \"pmdco2_tto_example\" at \"https://ontodocker.iwm.pmd.internal\"\n",
      "\"Upload succeeded { \\n  \\\"count\\\" : 2752 ,\\n  \\\"tripleCount\\\" : 2752 ,\\n  \\\"quadCount\\\" : 0\\n}\\n\"\n",
      "\n",
      "Upload \"../pmdco2_tto_example.ttl\" to dataset \"pmdco2_tto_example\" at \"https://ontodocker.mpi-susmat.pmd.internal\"\n",
      "\"Upload succeeded { \\n  \\\"count\\\" : 2752 ,\\n  \\\"tripleCount\\\" : 2752 ,\\n  \\\"quadCount\\\" : 0\\n}\\n\"\n",
      "\n"
     ]
    }
   ],
   "source": [
    "turtle_file_path = \"../pmdco2_tto_example.ttl\"\n",
    "#dataset_name = \"pmdco2_tto_example\"\n",
    "for key in partners.__dict__:\n",
    "    address = getattr(partners, key).ontodocker.address\n",
    "    token = getattr(partners, key).ontodocker.token\n",
    "    \n",
    "    endpoint = f'{address}/api/v1/jena/{dataset_name}'\n",
    "    headers = {\"Authorization\": f'Bearer {token}'}\n",
    "    print(f'Upload \"{turtle_file_path}\" to dataset \"{dataset_name}\" at \"{address}\"')\n",
    "    print(requests.post(endpoint, headers=headers, files={'file': open(turtle_file_path, 'rb')}).content.decode())\n",
    "    print(\"\")"
   ]
  },
  {
   "cell_type": "markdown",
   "id": "e6661abc-9ac0-4899-9918-0fb975a912cf",
   "metadata": {},
   "source": [
    "### Making SPARQL-queries\n",
    "We will make queries with `SPARQLWrapper`:"
   ]
  },
  {
   "cell_type": "code",
   "execution_count": 9,
   "id": "08e3f014-c278-4109-9961-92c12583d48a",
   "metadata": {},
   "outputs": [],
   "source": [
    "# this fixes a bug in SPARQLWrapper. Must be placed befor SPARQLWrapper is imported\n",
    "import ssl\n",
    "ssl._create_default_https_context = ssl._create_unverified_context\n",
    "\n",
    "from SPARQLWrapper import SPARQLWrapper"
   ]
  },
  {
   "cell_type": "markdown",
   "id": "5c633479-caf8-4e46-a93e-d96bd949b224",
   "metadata": {},
   "source": [
    "Search again for all Endpoints to find the newly created one"
   ]
  },
  {
   "cell_type": "code",
   "execution_count": 10,
   "id": "b244528c-78f8-42ea-bd70-af4dc7256bb1",
   "metadata": {},
   "outputs": [
    {
     "name": "stdout",
     "output_type": "stream",
     "text": [
      "Available SPARQL-endpoints at \"https://ontodocker.iwt.pmd.internal\":\n",
      "[\"https://ontodocker.iwt.pmd.internal:443/api/jena/pmdco2_tto_example_parallel/sparql\",\"https://ontodocker.iwt.pmd.internal:443/api/jena/pmdco2_tto_example/sparql\"]\n",
      "\n",
      "Available SPARQL-endpoints at \"https://ontodocker.iwm.pmd.internal\":\n",
      "[\"http://ontodocker.iwm.pmd.internal:None/api/jena/pmdco2_tto_example/sparql\",\"http://ontodocker.iwm.pmd.internal:None/api/jena/pmdco2_tto_example_perpendicular/sparql\",\"http://ontodocker.iwm.pmd.internal:None/api/jena/test/sparql\"]\n",
      "\n",
      "Available SPARQL-endpoints at \"https://ontodocker.mpi-susmat.pmd.internal\":\n",
      "[\"http://ontodocker.mpi-susmat.pmd.internal:None/api/jena/pmdco2_tto_example/sparql\",\"http://ontodocker.mpi-susmat.pmd.internal:None/api/jena/pmdco2_tto_example_diagonal/sparql\"]\n",
      "\n"
     ]
    }
   ],
   "source": [
    "for key in partners.__dict__:\n",
    "    address = getattr(partners, key).ontodocker.address\n",
    "    token = getattr(partners, key).ontodocker.token\n",
    "    \n",
    "    print(f'Available SPARQL-endpoints at \"{address}\":')\n",
    "    headers = {\"Authorization\": f\"Bearer {token}\"}\n",
    "    print(requests.get(f'{address}/api/v1/endpoints', headers=headers).content.decode())\n",
    "    print(\"\")"
   ]
  },
  {
   "attachments": {},
   "cell_type": "markdown",
   "id": "c153507b-a203-4a9c-9563-347f0caae964",
   "metadata": {},
   "source": [
    "**CAUTION, there's a bug: you need to remove `:None` and add `/v1/` between `api` and `jena`!**\n",
    "Also, the returned value of the API call to `.../api/v1/endpoints` is a string. When looking at them, you see they usually are *lists of strings*. We can use the `ast` module to convert the output to the \"right\" python objects. The method `rectify_endpoints()` from `helpers.py` takes care of both at once:"
   ]
  },
  {
   "cell_type": "code",
   "execution_count": 11,
   "id": "7bdd8928-9a97-4770-8626-6cfd0cc61b16",
   "metadata": {},
   "outputs": [
    {
     "name": "stdout",
     "output_type": "stream",
     "text": [
      "Return value has type <class 'str'>:\n",
      "[\"https://ontodocker.iwt.pmd.internal:443/api/jena/pmdco2_tto_example_parallel/sparql\",\"https://ontodocker.iwt.pmd.internal:443/api/jena/pmdco2_tto_example/sparql\"]\n",
      "Rectified endpoints have type <class 'list'>:\n",
      "['https://ontodocker.iwt.pmd.internal/api/v1/jena/pmdco2_tto_example_parallel/sparql', 'https://ontodocker.iwt.pmd.internal/api/v1/jena/pmdco2_tto_example/sparql']\n",
      "\n",
      "Return value has type <class 'str'>:\n",
      "[\"http://ontodocker.iwm.pmd.internal:None/api/jena/pmdco2_tto_example/sparql\",\"http://ontodocker.iwm.pmd.internal:None/api/jena/pmdco2_tto_example_perpendicular/sparql\",\"http://ontodocker.iwm.pmd.internal:None/api/jena/test/sparql\"]\n",
      "Rectified endpoints have type <class 'list'>:\n",
      "['http://ontodocker.iwm.pmd.internal/api/v1/jena/pmdco2_tto_example/sparql', 'http://ontodocker.iwm.pmd.internal/api/v1/jena/pmdco2_tto_example_perpendicular/sparql', 'http://ontodocker.iwm.pmd.internal/api/v1/jena/test/sparql']\n",
      "\n",
      "Return value has type <class 'str'>:\n",
      "[\"http://ontodocker.mpi-susmat.pmd.internal:None/api/jena/pmdco2_tto_example/sparql\",\"http://ontodocker.mpi-susmat.pmd.internal:None/api/jena/pmdco2_tto_example_diagonal/sparql\"]\n",
      "Rectified endpoints have type <class 'list'>:\n",
      "['http://ontodocker.mpi-susmat.pmd.internal/api/v1/jena/pmdco2_tto_example/sparql', 'http://ontodocker.mpi-susmat.pmd.internal/api/v1/jena/pmdco2_tto_example_diagonal/sparql']\n",
      "\n"
     ]
    }
   ],
   "source": [
    "for key in partners.__dict__:\n",
    "    address = getattr(partners, key).ontodocker.address\n",
    "    token = getattr(partners, key).ontodocker.token\n",
    "    \n",
    "    headers = {\"Authorization\": f\"Bearer {token}\"}\n",
    "    endpoints_native = requests.get(f'{address}/api/v1/endpoints', headers=headers).content.decode()\n",
    "    endpoints_rectified = helpers.rectify_endpoints(endpoints_native)\n",
    "    print(f\"Return value has type {type(endpoints_native)}:\")\n",
    "    print(endpoints_native)\n",
    "    print(f\"Rectified endpoints have type {type(endpoints_rectified)}:\")\n",
    "    print(endpoints_rectified)\n",
    "    print(\"\")"
   ]
  },
  {
   "cell_type": "markdown",
   "id": "04d35a99-36f3-477f-a88e-16d17d08d8c9",
   "metadata": {},
   "source": [
    "Now, we can send SPARQL-queries to the endpoints by iterating over them. E.g., we query here the whole graph:  \n",
    "(output is truncated to improve readability)"
   ]
  },
  {
   "cell_type": "code",
   "execution_count": 12,
   "id": "f81b662e-6f1a-49ed-b806-6ae3cdabb3fa",
   "metadata": {},
   "outputs": [
    {
     "name": "stdout",
     "output_type": "stream",
     "text": [
      "Sending query to \"https://ontodocker.iwt.pmd.internal/api/v1/jena/pmdco2_tto_example/sparql\". Result:\n",
      "{'head': {'vars': ['s', 'p', 'o']}, 'results': {'bindings': [{'s': {'type': 'uri', 'value': 'http://purl.org/spar/datacite/FunderIdentifierScheme'}, 'p': {'type': 'uri', 'value': 'http://www.w3.org/2000/01/rdf-schema#subClassOf'}, 'o': {'type': 'uri', 'value': 'http://purl.org/spar/datacite/IdentifierScheme'}}, {'s': {'type': 'uri', 'value': 'http://purl.org/spar/datacite/local-funder-identifier-scheme'}, 'p': {'type': 'uri', 'value': 'http://www.w3.org/1999/02/22-rdf-syntax-ns#type'}, 'o': {'type': 'uri', 'value': 'http://purl.org/spar/datacite/FunderIdentifierScheme'}}, {'s': {'type': 'uri', 'value': 'http://purl.org/spar/datacite/Wikidata'}, 'p': {'type': 'uri', 'value': 'http://www.w3.org/1999/02/22-rdf-syntax-ns#type'}, 'o': {'type': 'uri', 'value': 'http://purl.org/spar/datacite/IdentifierScheme'}}, {'s': {'type': 'uri', 'value': 'https://orcid.org/0000-0002-3717-7104'}, 'p': {'type': 'uri', 'value': 'http://www.w3.org/2000/01/rdf-schema#label'}, 'o': {'type': 'literal', 'value': 'Bernd Bayerlein'}}, {'s': {'type': 'uri', 'value': 'https://orcid.org/0000-0002-3717-7104'}, 'p': {'type': 'uri', 'value': 'http://www.w3.org/2000/01/rdf-schema#label'}, 'o': {'type': 'literal', 'value': 'Jörg Waitelonis'}}, {'s': {'type': 'uri', 'value': 'https://orcid.org/0000-0002-3717-7104'}, 'p': {'type': 'uri', 'value': 'http://www.w3.org/2000/01/rdf-schema#label'}, 'o': {'type': 'literal', 'value': 'Markus Schilling'}}, {'s': {'type': 'uri', 'value': 'https://orcid.org/0000-0002-3717-71 ... \n",
      "\n",
      "Sending query to \"https://ontodocker.iwm.pmd.internal/api/v1/jena/pmdco2_tto_example/sparql\". Result:\n",
      "{'head': {'vars': ['s', 'p', 'o']}, 'results': {'bindings': [{'s': {'type': 'uri', 'value': 'http://purl.org/spar/datacite/FunderIdentifierScheme'}, 'p': {'type': 'uri', 'value': 'http://www.w3.org/2000/01/rdf-schema#subClassOf'}, 'o': {'type': 'uri', 'value': 'http://purl.org/spar/datacite/IdentifierScheme'}}, {'s': {'type': 'uri', 'value': 'http://purl.org/spar/datacite/local-funder-identifier-scheme'}, 'p': {'type': 'uri', 'value': 'http://www.w3.org/1999/02/22-rdf-syntax-ns#type'}, 'o': {'type': 'uri', 'value': 'http://purl.org/spar/datacite/FunderIdentifierScheme'}}, {'s': {'type': 'uri', 'value': 'http://purl.org/spar/datacite/Wikidata'}, 'p': {'type': 'uri', 'value': 'http://www.w3.org/1999/02/22-rdf-syntax-ns#type'}, 'o': {'type': 'uri', 'value': 'http://purl.org/spar/datacite/IdentifierScheme'}}, {'s': {'type': 'uri', 'value': 'https://orcid.org/0000-0002-3717-7104'}, 'p': {'type': 'uri', 'value': 'http://www.w3.org/2000/01/rdf-schema#label'}, 'o': {'type': 'literal', 'value': 'Bernd Bayerlein'}}, {'s': {'type': 'uri', 'value': 'https://orcid.org/0000-0002-3717-7104'}, 'p': {'type': 'uri', 'value': 'http://www.w3.org/2000/01/rdf-schema#label'}, 'o': {'type': 'literal', 'value': 'Jörg Waitelonis'}}, {'s': {'type': 'uri', 'value': 'https://orcid.org/0000-0002-3717-7104'}, 'p': {'type': 'uri', 'value': 'http://www.w3.org/2000/01/rdf-schema#label'}, 'o': {'type': 'literal', 'value': 'Markus Schilling'}}, {'s': {'type': 'uri', 'value': 'https://orcid.org/0000-0002-3717-71 ... \n",
      "\n",
      "Sending query to \"https://ontodocker.mpi-susmat.pmd.internal/api/v1/jena/pmdco2_tto_example/sparql\". Result:\n",
      "{'head': {'vars': ['s', 'p', 'o']}, 'results': {'bindings': [{'s': {'type': 'uri', 'value': 'http://purl.org/spar/datacite/FunderIdentifierScheme'}, 'p': {'type': 'uri', 'value': 'http://www.w3.org/2000/01/rdf-schema#subClassOf'}, 'o': {'type': 'uri', 'value': 'http://purl.org/spar/datacite/IdentifierScheme'}}, {'s': {'type': 'uri', 'value': 'http://purl.org/spar/datacite/local-funder-identifier-scheme'}, 'p': {'type': 'uri', 'value': 'http://www.w3.org/1999/02/22-rdf-syntax-ns#type'}, 'o': {'type': 'uri', 'value': 'http://purl.org/spar/datacite/FunderIdentifierScheme'}}, {'s': {'type': 'uri', 'value': 'http://purl.org/spar/datacite/Wikidata'}, 'p': {'type': 'uri', 'value': 'http://www.w3.org/1999/02/22-rdf-syntax-ns#type'}, 'o': {'type': 'uri', 'value': 'http://purl.org/spar/datacite/IdentifierScheme'}}, {'s': {'type': 'uri', 'value': 'https://orcid.org/0000-0002-3717-7104'}, 'p': {'type': 'uri', 'value': 'http://www.w3.org/2000/01/rdf-schema#label'}, 'o': {'type': 'literal', 'value': 'Bernd Bayerlein'}}, {'s': {'type': 'uri', 'value': 'https://orcid.org/0000-0002-3717-7104'}, 'p': {'type': 'uri', 'value': 'http://www.w3.org/2000/01/rdf-schema#label'}, 'o': {'type': 'literal', 'value': 'Jörg Waitelonis'}}, {'s': {'type': 'uri', 'value': 'https://orcid.org/0000-0002-3717-7104'}, 'p': {'type': 'uri', 'value': 'http://www.w3.org/2000/01/rdf-schema#label'}, 'o': {'type': 'literal', 'value': 'Markus Schilling'}}, {'s': {'type': 'uri', 'value': 'https://orcid.org/0000-0002-3717-71 ... \n",
      "\n"
     ]
    }
   ],
   "source": [
    "#dataset_name = \"pmdco2_tto_example\"\n",
    "query =\"\"\"\n",
    "SELECT ?s ?p ?o WHERE { ?s ?p ?o }\n",
    "\"\"\" \n",
    "\n",
    "for key in partners.__dict__:\n",
    "    address = getattr(partners, key).ontodocker.address\n",
    "    token = getattr(partners, key).ontodocker.token\n",
    "    \n",
    "    sparql_endpoint = f'{address}/api/v1/jena/{dataset_name}/sparql'\n",
    "    sparql = SPARQLWrapper(sparql_endpoint)\n",
    "    sparql.setReturnFormat('json')\n",
    "    sparql.addCustomHttpHeader(\"Authorization\", f'Bearer {token}')\n",
    "    print(f'Sending query to \"{sparql_endpoint}\". Result:')\n",
    "    sparql.setQuery(query)\n",
    "    result = sparql.queryAndConvert()\n",
    "    print(str(result)[:1500]+\" ... \") # shortened only for demonstration purposes\n",
    "    print(\"\")"
   ]
  },
  {
   "cell_type": "markdown",
   "id": "9fe43c16-01a6-480f-8919-98701d62cd3d",
   "metadata": {},
   "source": [
    "### Deletion of datasets via the ontodocker API"
   ]
  },
  {
   "cell_type": "code",
   "execution_count": 13,
   "id": "aad2f76d-7378-41ca-9c25-b8871e201649",
   "metadata": {},
   "outputs": [
    {
     "name": "stdout",
     "output_type": "stream",
     "text": [
      "Deleting dataset at \"https://ontodocker.iwt.pmd.internal\":\n",
      "Dataset endpoint was \"https://ontodocker.iwt.pmd.internal/api/v1/jena/pmdco2_tto_example\"\n",
      "\"Dataset name pmdco2_tto_example destroyed\"\n",
      "\n",
      "Deleting dataset at \"https://ontodocker.iwm.pmd.internal\":\n",
      "Dataset endpoint was \"https://ontodocker.iwm.pmd.internal/api/v1/jena/pmdco2_tto_example\"\n",
      "\"Dataset name pmdco2_tto_example destroyed\"\n",
      "\n",
      "Deleting dataset at \"https://ontodocker.mpi-susmat.pmd.internal\":\n",
      "Dataset endpoint was \"https://ontodocker.mpi-susmat.pmd.internal/api/v1/jena/pmdco2_tto_example\"\n",
      "\"Dataset name pmdco2_tto_example destroyed\"\n",
      "\n"
     ]
    }
   ],
   "source": [
    "#dataset_name = \"pmdco2_tto_example\"\n",
    "\n",
    "for key in partners.__dict__:\n",
    "    address = getattr(partners, key).ontodocker.address\n",
    "    token = getattr(partners, key).ontodocker.token\n",
    "    \n",
    "    endpoint = f'{address}/api/v1/jena/{dataset_name}'\n",
    "    headers = {\"Authorization\": f'Bearer {token}'}\n",
    "    print(f'Deleting dataset at \"{address}\":')\n",
    "    print(f'Dataset endpoint was \"{endpoint}\"')\n",
    "    print(requests.delete(endpoint, headers=headers).content.decode()+\"\\n\")"
   ]
  },
  {
   "cell_type": "code",
   "execution_count": 14,
   "id": "a8c8c8ba-f200-4c5c-b204-1a593c9d3582",
   "metadata": {},
   "outputs": [
    {
     "name": "stdout",
     "output_type": "stream",
     "text": [
      "Available SPARQL-endpoints at \"https://ontodocker.iwt.pmd.internal\":\n",
      "[\"https://ontodocker.iwt.pmd.internal:443/api/jena/pmdco2_tto_example_parallel/sparql\"]\n",
      "\n",
      "Available SPARQL-endpoints at \"https://ontodocker.iwm.pmd.internal\":\n",
      "[\"http://ontodocker.iwm.pmd.internal:None/api/jena/pmdco2_tto_example_perpendicular/sparql\",\"http://ontodocker.iwm.pmd.internal:None/api/jena/test/sparql\"]\n",
      "\n",
      "Available SPARQL-endpoints at \"https://ontodocker.mpi-susmat.pmd.internal\":\n",
      "[\"http://ontodocker.mpi-susmat.pmd.internal:None/api/jena/pmdco2_tto_example_diagonal/sparql\"]\n",
      "\n"
     ]
    }
   ],
   "source": [
    "for key in partners.__dict__:\n",
    "    address = getattr(partners, key).ontodocker.address\n",
    "    token = getattr(partners, key).ontodocker.token\n",
    "    \n",
    "    print(f'Available SPARQL-endpoints at \"{address}\":')\n",
    "    headers = {\"Authorization\": f\"Bearer {token}\"}\n",
    "    print(requests.get(f'{address}/api/v1/endpoints', headers=headers).content.decode())\n",
    "    print(\"\")"
   ]
  },
  {
   "cell_type": "markdown",
   "id": "b3e95b4d-f290-434f-b6b7-5bd5cd5f8785",
   "metadata": {},
   "source": [
    "# Next steps:\n",
    "- create three disjunct datasets, host them on three servers\n",
    "- concatenate and upload to mpi-susmat Ontodocker via mesh\n",
    "- ...\n",
    "- set up PMD-CKAN as data resource loaction within the mesh\n",
    "- digest the raw data from there (tensile test analisis)\n",
    "- ...\n",
    "- CKAN as EP registry (via api and GUI accessible)\n",
    "- deploy jupyterhubs on all servers\n",
    "- support notebookusage from remote kernels (i.e. running on a different server) to loacate the job execution on the data owner's server."
   ]
  },
  {
   "cell_type": "code",
   "execution_count": null,
   "id": "dd0dacfb-a820-41f8-bbe5-e266bd5588fb",
   "metadata": {},
   "outputs": [],
   "source": []
  }
 ],
 "metadata": {
  "kernelspec": {
   "display_name": "Python 3 (ipykernel)",
   "language": "python",
   "name": "python3"
  },
  "language_info": {
   "codemirror_mode": {
    "name": "ipython",
    "version": 3
   },
   "file_extension": ".py",
   "mimetype": "text/x-python",
   "name": "python",
   "nbconvert_exporter": "python",
   "pygments_lexer": "ipython3",
   "version": "3.11.10"
  }
 },
 "nbformat": 4,
 "nbformat_minor": 5
}
