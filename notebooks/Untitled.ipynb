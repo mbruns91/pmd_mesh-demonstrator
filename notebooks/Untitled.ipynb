{
 "cells": [
  {
   "cell_type": "code",
   "execution_count": null,
   "id": "4877e9ed-fde0-490a-a69b-41e3af835876",
   "metadata": {},
   "outputs": [],
   "source": [
    "import os\n"
   ]
  },
  {
   "cell_type": "code",
   "execution_count": null,
   "id": "f96ba331-8b47-4d3e-a38a-aea04d939a52",
   "metadata": {},
   "outputs": [],
   "source": [
    "import pandas as pd\n",
    "\n",
    "# Beispiel-Funktion, die ein DataFrame zurückgibt\n",
    "def meine_funktion(x):\n",
    "    return pd.DataFrame({'A': [x, x+1], 'B': [x*2, x*3]})\n",
    "\n",
    "# Leeres Dictionary anlegen\n",
    "dataframes = {}\n",
    "\n",
    "# Über eine Liste von Werten iterieren\n",
    "for i in range(5):\n",
    "    df = meine_funktion(i)\n",
    "    dataframes[f'df_{i}'] = df  # Key kann beliebig gewählt werden\n",
    "\n",
    "# Zugriff auf die gespeicherten DataFrames\n",
    "print(dataframes['df_0'])\n",
    "print(dataframes['df_3'])"
   ]
  }
 ],
 "metadata": {
  "kernelspec": {
   "display_name": "Python 3 (ipykernel)",
   "language": "python",
   "name": "python3"
  },
  "language_info": {
   "codemirror_mode": {
    "name": "ipython",
    "version": 3
   },
   "file_extension": ".py",
   "mimetype": "text/x-python",
   "name": "python",
   "nbconvert_exporter": "python",
   "pygments_lexer": "ipython3",
   "version": "3.11.10"
  }
 },
 "nbformat": 4,
 "nbformat_minor": 5
}
